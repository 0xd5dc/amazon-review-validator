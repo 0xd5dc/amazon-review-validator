{
 "cells": [
  {
   "cell_type": "markdown",
   "metadata": {},
   "source": [
    "# Load libraries"
   ]
  },
  {
   "cell_type": "code",
   "execution_count": 1,
   "metadata": {},
   "outputs": [],
   "source": [
    "import pickle, logging\n",
    "import tensorflow as tf\n",
    "from tensorflow.keras.preprocessing import sequence\n",
    "from tensorflow.keras.models import Sequential\n",
    "from tensorflow.keras.layers import Embedding, LSTM, Dense,SimpleRNN, GRU\n",
    "from tensorflow.keras.preprocessing.text import Tokenizer\n",
    "import pandas as pd\n",
    "import numpy as np\n",
    "from sklearn.model_selection import train_test_split"
   ]
  },
  {
   "cell_type": "markdown",
   "metadata": {},
   "source": [
    "# Load data"
   ]
  },
  {
   "cell_type": "code",
   "execution_count": 2,
   "metadata": {},
   "outputs": [],
   "source": [
    "reviews=pd.read_csv('../data/amazon_reviews_us_Apparel_v1_00.tsv.gz.tsv',sep='\\t')"
   ]
  },
  {
   "cell_type": "code",
   "execution_count": 3,
   "metadata": {},
   "outputs": [],
   "source": [
    "reviews['label']=(reviews['verified_purchase']=='y').astype(int)"
   ]
  },
  {
   "cell_type": "code",
   "execution_count": 4,
   "metadata": {},
   "outputs": [],
   "source": [
    "reviews=reviews.dropna()"
   ]
  },
  {
   "cell_type": "code",
   "execution_count": 5,
   "metadata": {},
   "outputs": [
    {
     "data": {
      "text/plain": [
       "0.8995045187685107"
      ]
     },
     "execution_count": 5,
     "metadata": {},
     "output_type": "execute_result"
    }
   ],
   "source": [
    "reviews['label'].mean()"
   ]
  },
  {
   "cell_type": "markdown",
   "metadata": {},
   "source": [
    "# Samples"
   ]
  },
  {
   "cell_type": "code",
   "execution_count": 6,
   "metadata": {},
   "outputs": [],
   "source": [
    "def get_samples(df, n):\n",
    "    samples=df[:n]\n",
    "    print('Initial label mean: {0}'.format(samples['label'].mean()))\n",
    "    counts=samples.groupby('label')['label'].count().to_dict()\n",
    "    sorted_counts = sorted(counts.items(), key=lambda kv: kv[1])\n",
    "    undersample = samples[samples['label'] == sorted_counts[1][0]].sample(sorted_counts[0][1])\n",
    "    samples=pd.concat([undersample, samples[samples['label'] == sorted_counts[0][0]]])\n",
    "    print('Undersampled label mean: {0}'.format(samples['label'].mean()))\n",
    "    return samples"
   ]
  },
  {
   "cell_type": "code",
   "execution_count": 7,
   "metadata": {},
   "outputs": [],
   "source": [
    "def clean_text(df,features=['review_body','label']):\n",
    "    df['review_body'].replace(regex=[r'([^a-z\\s]+)'], value='', inplace=True)\n",
    "    return df[features].copy()"
   ]
  },
  {
   "cell_type": "code",
   "execution_count": 8,
   "metadata": {},
   "outputs": [
    {
     "name": "stdout",
     "output_type": "stream",
     "text": [
      "Initial label mean: 0.6492\n",
      "Undersampled label mean: 0.5\n"
     ]
    }
   ],
   "source": [
    "samples=get_samples(reviews, n=5000)\n",
    "samples=clean_text(samples)"
   ]
  },
  {
   "cell_type": "code",
   "execution_count": 10,
   "metadata": {},
   "outputs": [
    {
     "data": {
      "text/plain": [
       "4745    it sounded like a good idea  yes its flatter t...\n",
       "541                            nice outfit just too small\n",
       "1417    i thought they were like the flyless tagless j...\n",
       "3459    i ordered this suit up  sizes and it fits well...\n",
       "3458                                   very cutei love it\n",
       "Name: review_body, dtype: object"
      ]
     },
     "execution_count": 10,
     "metadata": {},
     "output_type": "execute_result"
    }
   ],
   "source": [
    "samples['review_body'].head()"
   ]
  },
  {
   "cell_type": "markdown",
   "metadata": {},
   "source": [
    "## Save/Load the clean dataframe"
   ]
  },
  {
   "cell_type": "code",
   "execution_count": 11,
   "metadata": {},
   "outputs": [],
   "source": [
    "# saved_dataframe='df_verified_purchase.p'\n",
    "# pickle.dump( samples, open( saved_dataframe, \"wb\" ) )\n",
    "# samples= pickle.load( open( saved_dataframe, \"rb\" ) )"
   ]
  },
  {
   "cell_type": "markdown",
   "metadata": {},
   "source": [
    "# Split data"
   ]
  },
  {
   "cell_type": "code",
   "execution_count": 12,
   "metadata": {},
   "outputs": [],
   "source": [
    "def split_pad(selected_reviews):\n",
    "    X_train, X_test, Y_train, Y_test = train_test_split(selected_reviews['review_body'].values,\\\n",
    "                                                    selected_reviews['label'].values,\\\n",
    "                                                    test_size=0.10,\\\n",
    "                                                    shuffle=True)\n",
    "    for label in [Y_train, Y_test]:\n",
    "          logging.debug(\"label mean: {0}\".format(label.mean()))\n",
    "    tokenizer = Tokenizer(num_words= 50000)\n",
    "    tokenizer.fit_on_texts(X_train)\n",
    "    X_train_tok = tokenizer.texts_to_sequences(X_train)\n",
    "    X_test_tok = tokenizer.texts_to_sequences(X_test)\n",
    "    max_review_length = 600\n",
    "    X_train_pad = sequence.pad_sequences(X_train_tok, maxlen=max_review_length)\n",
    "    X_test_pad = sequence.pad_sequences(X_test_tok, maxlen=max_review_length)\n",
    "    return X_train_pad, X_test_pad, Y_train, Y_test"
   ]
  },
  {
   "cell_type": "markdown",
   "metadata": {},
   "source": [
    "# Compile models"
   ]
  },
  {
   "cell_type": "code",
   "execution_count": 13,
   "metadata": {},
   "outputs": [],
   "source": [
    "models=[]\n",
    "\n",
    "max_review_length = 600\n",
    "embedding_vector_length = 32\n",
    "top_words = 50000\n",
    "models.append(Sequential())\n",
    "model=models[-1]\n",
    "model.add(Embedding(top_words, embedding_vector_length, input_length=max_review_length))\n",
    "# The output of SimpleRNN will be a 2D tensor of shape (batch_size, 128)\n",
    "model.add(SimpleRNN(128))\n",
    "model.add(Dense(1, activation='sigmoid'))\n",
    "model.compile(loss='binary_crossentropy', optimizer='adam', metrics=['accuracy',tf.keras.metrics.Recall(),tf.keras.metrics.Precision()])"
   ]
  },
  {
   "cell_type": "code",
   "execution_count": 14,
   "metadata": {},
   "outputs": [],
   "source": [
    "embedding_vector_length = 40\n",
    "models.append(Sequential())\n",
    "model=models[-1]\n",
    "model.add(Embedding(top_words+1, embedding_vector_length, input_length=max_review_length))\n",
    "model.add(LSTM(32,return_sequences=True))\n",
    "model.add(LSTM(16))\n",
    "model.add(Dense(1, activation='sigmoid'))\n",
    "model.compile(loss='binary_crossentropy', optimizer='adam', metrics=['accuracy',tf.keras.metrics.Recall(),tf.keras.metrics.Precision()])"
   ]
  },
  {
   "cell_type": "code",
   "execution_count": 15,
   "metadata": {},
   "outputs": [],
   "source": [
    "models.append(Sequential())\n",
    "model=models[-1]\n",
    "model.add(Embedding(top_words, embedding_vector_length, input_length=max_review_length))\n",
    "\n",
    "# The output of GRU will be a 3D tensor of shape (batch_size, timesteps, 256)\n",
    "model.add(GRU(256, return_sequences=True))\n",
    "model.add(SimpleRNN(128))\n",
    "model.add(Dense(1, activation='sigmoid'))\n",
    "model.compile(loss='binary_crossentropy', optimizer='adam', metrics=['accuracy',tf.keras.metrics.Recall(),tf.keras.metrics.Precision()])"
   ]
  },
  {
   "cell_type": "code",
   "execution_count": 16,
   "metadata": {},
   "outputs": [],
   "source": [
    "callback = tf.keras.callbacks.EarlyStopping(monitor='val_loss', patience=10)"
   ]
  },
  {
   "cell_type": "code",
   "execution_count": 17,
   "metadata": {},
   "outputs": [
    {
     "name": "stdout",
     "output_type": "stream",
     "text": [
      "Train on 3157 samples, validate on 351 samples\n",
      "Epoch 1/100\n",
      "3157/3157 [==============================] - 14s 5ms/sample - loss: 0.6596 - accuracy: 0.6104 - recall: 0.6181 - precision: 0.6089 - val_loss: 0.6066 - val_accuracy: 0.6724 - val_recall: 0.6000 - val_precision: 0.7000\n",
      "Epoch 2/100\n",
      "3157/3157 [==============================] - 13s 4ms/sample - loss: 0.6095 - accuracy: 0.6554 - recall: 0.6941 - precision: 0.6443 - val_loss: 0.6449 - val_accuracy: 0.5242 - val_recall: 0.0629 - val_precision: 0.7857\n",
      "Epoch 3/100\n",
      "3157/3157 [==============================] - 12s 4ms/sample - loss: 0.5937 - accuracy: 0.6864 - recall: 0.7612 - precision: 0.6623 - val_loss: 0.6818 - val_accuracy: 0.6211 - val_recall: 1.0000 - val_precision: 0.5682\n",
      "Epoch 4/100\n",
      "3157/3157 [==============================] - 13s 4ms/sample - loss: 0.6082 - accuracy: 0.6741 - recall: 0.7859 - precision: 0.6423 - val_loss: 0.5991 - val_accuracy: 0.6524 - val_recall: 0.8743 - val_precision: 0.6047\n",
      "Epoch 5/100\n",
      "3157/3157 [==============================] - 13s 4ms/sample - loss: 0.5375 - accuracy: 0.7697 - recall: 0.9132 - precision: 0.7096 - val_loss: 0.5746 - val_accuracy: 0.6581 - val_recall: 0.6686 - val_precision: 0.6536\n",
      "Epoch 6/100\n",
      "3157/3157 [==============================] - 13s 4ms/sample - loss: 0.4786 - accuracy: 0.7979 - recall: 0.8923 - precision: 0.7507 - val_loss: 0.5579 - val_accuracy: 0.6610 - val_recall: 0.7771 - val_precision: 0.6296\n",
      "Epoch 7/100\n",
      "3157/3157 [==============================] - 13s 4ms/sample - loss: 0.4179 - accuracy: 0.8226 - recall: 0.8968 - precision: 0.7810 - val_loss: 0.5570 - val_accuracy: 0.7066 - val_recall: 0.6400 - val_precision: 0.7368\n",
      "Epoch 8/100\n",
      "3157/3157 [==============================] - 13s 4ms/sample - loss: 0.3587 - accuracy: 0.8457 - recall: 0.8771 - precision: 0.8254 - val_loss: 0.5626 - val_accuracy: 0.7123 - val_recall: 0.8571 - val_precision: 0.6637\n",
      "Epoch 9/100\n",
      "3157/3157 [==============================] - 13s 4ms/sample - loss: 0.3037 - accuracy: 0.8730 - recall: 0.9088 - precision: 0.8481 - val_loss: 0.5692 - val_accuracy: 0.7179 - val_recall: 0.6857 - val_precision: 0.7317\n",
      "Epoch 10/100\n",
      "3157/3157 [==============================] - 13s 4ms/sample - loss: 0.2450 - accuracy: 0.9037 - recall: 0.9341 - precision: 0.8806 - val_loss: 0.5703 - val_accuracy: 0.7464 - val_recall: 0.7829 - val_precision: 0.7287\n",
      "Epoch 11/100\n",
      "3157/3157 [==============================] - 12s 4ms/sample - loss: 0.2400 - accuracy: 0.9031 - recall: 0.9297 - precision: 0.8827 - val_loss: 0.6241 - val_accuracy: 0.7379 - val_recall: 0.7371 - val_precision: 0.7371\n",
      "Epoch 12/100\n",
      "3157/3157 [==============================] - 13s 4ms/sample - loss: 0.2332 - accuracy: 0.9059 - recall: 0.9265 - precision: 0.8899 - val_loss: 0.6661 - val_accuracy: 0.7094 - val_recall: 0.7371 - val_precision: 0.6973\n",
      "Epoch 13/100\n",
      "3157/3157 [==============================] - 12s 4ms/sample - loss: 0.1724 - accuracy: 0.9408 - recall: 0.9620 - precision: 0.9228 - val_loss: 0.6847 - val_accuracy: 0.7407 - val_recall: 0.8057 - val_precision: 0.7121\n",
      "Epoch 14/100\n",
      "3157/3157 [==============================] - 13s 4ms/sample - loss: 0.1474 - accuracy: 0.9496 - recall: 0.9702 - precision: 0.9319 - val_loss: 0.7282 - val_accuracy: 0.7293 - val_recall: 0.8057 - val_precision: 0.6980\n",
      "Epoch 15/100\n",
      "3157/3157 [==============================] - 12s 4ms/sample - loss: 0.1218 - accuracy: 0.9614 - recall: 0.9823 - precision: 0.9429 - val_loss: 0.7771 - val_accuracy: 0.7236 - val_recall: 0.8343 - val_precision: 0.6822\n",
      "Epoch 16/100\n",
      "3157/3157 [==============================] - 12s 4ms/sample - loss: 0.1928 - accuracy: 0.9265 - recall: 0.9506 - precision: 0.9069 - val_loss: 0.7377 - val_accuracy: 0.6781 - val_recall: 0.6114 - val_precision: 0.7039\n",
      "Epoch 17/100\n",
      "3157/3157 [==============================] - 13s 4ms/sample - loss: 0.1535 - accuracy: 0.9465 - recall: 0.9639 - precision: 0.9315 - val_loss: 0.8426 - val_accuracy: 0.7009 - val_recall: 0.6971 - val_precision: 0.7011\n",
      "loss: 0.84, accuracy 0.70\n",
      "Train on 3157 samples, validate on 351 samples\n",
      "Epoch 1/100\n",
      "3157/3157 [==============================] - 32s 10ms/sample - loss: 0.6448 - accuracy: 0.6462 - val_loss: 0.5963 - val_accuracy: 0.6781\n",
      "Epoch 2/100\n",
      "3157/3157 [==============================] - 27s 8ms/sample - loss: 0.5119 - accuracy: 0.7453 - val_loss: 0.5079 - val_accuracy: 0.7322\n",
      "Epoch 3/100\n",
      "3157/3157 [==============================] - 27s 9ms/sample - loss: 0.4132 - accuracy: 0.8210 - val_loss: 0.4980 - val_accuracy: 0.7493\n",
      "Epoch 4/100\n",
      "3157/3157 [==============================] - 26s 8ms/sample - loss: 0.3187 - accuracy: 0.8717 - val_loss: 0.4957 - val_accuracy: 0.7749\n",
      "Epoch 5/100\n",
      "3157/3157 [==============================] - 27s 9ms/sample - loss: 0.2745 - accuracy: 0.8961 - val_loss: 0.5400 - val_accuracy: 0.7578\n",
      "Epoch 6/100\n",
      "3157/3157 [==============================] - 27s 9ms/sample - loss: 0.2357 - accuracy: 0.9148 - val_loss: 0.5798 - val_accuracy: 0.7692\n",
      "Epoch 7/100\n",
      "3157/3157 [==============================] - 27s 9ms/sample - loss: 0.1961 - accuracy: 0.9319 - val_loss: 0.5875 - val_accuracy: 0.7635\n",
      "Epoch 8/100\n",
      "3157/3157 [==============================] - 27s 8ms/sample - loss: 0.1712 - accuracy: 0.9446 - val_loss: 0.5944 - val_accuracy: 0.7607\n",
      "Epoch 9/100\n",
      "3157/3157 [==============================] - 27s 9ms/sample - loss: 0.1699 - accuracy: 0.9408 - val_loss: 0.6417 - val_accuracy: 0.7749\n",
      "Epoch 10/100\n",
      "3157/3157 [==============================] - 27s 8ms/sample - loss: 0.1383 - accuracy: 0.9512 - val_loss: 0.7391 - val_accuracy: 0.7635\n",
      "Epoch 11/100\n",
      "3157/3157 [==============================] - 27s 9ms/sample - loss: 0.1338 - accuracy: 0.9569 - val_loss: 0.6695 - val_accuracy: 0.7806\n",
      "Epoch 12/100\n",
      "3157/3157 [==============================] - 27s 8ms/sample - loss: 0.1269 - accuracy: 0.9566 - val_loss: 0.6958 - val_accuracy: 0.7692\n",
      "Epoch 13/100\n",
      "3157/3157 [==============================] - 26s 8ms/sample - loss: 0.1170 - accuracy: 0.9610 - val_loss: 0.7140 - val_accuracy: 0.7863\n",
      "Epoch 14/100\n",
      "3157/3157 [==============================] - 27s 9ms/sample - loss: 0.1120 - accuracy: 0.9620 - val_loss: 0.7173 - val_accuracy: 0.7806\n",
      "loss: 0.72, accuracy 0.78\n",
      "Train on 3157 samples, validate on 351 samples\n",
      "Epoch 1/100\n",
      "3157/3157 [==============================] - 96s 30ms/sample - loss: 0.6250 - accuracy: 0.6532 - val_loss: 0.5596 - val_accuracy: 0.6923\n",
      "Epoch 2/100\n",
      "3157/3157 [==============================] - 92s 29ms/sample - loss: 0.4888 - accuracy: 0.7551 - val_loss: 0.5116 - val_accuracy: 0.7379\n",
      "Epoch 3/100\n",
      "3157/3157 [==============================] - 93s 29ms/sample - loss: 0.3641 - accuracy: 0.8372 - val_loss: 0.5743 - val_accuracy: 0.7094\n",
      "Epoch 4/100\n",
      "3157/3157 [==============================] - 93s 29ms/sample - loss: 0.3035 - accuracy: 0.8704 - val_loss: 0.6626 - val_accuracy: 0.7493\n",
      "Epoch 5/100\n",
      "3157/3157 [==============================] - 93s 29ms/sample - loss: 0.2835 - accuracy: 0.8923 - val_loss: 0.5365 - val_accuracy: 0.7578\n",
      "Epoch 6/100\n",
      "3157/3157 [==============================] - 93s 29ms/sample - loss: 0.2309 - accuracy: 0.9138 - val_loss: 0.7188 - val_accuracy: 0.7550\n",
      "Epoch 7/100\n",
      "3157/3157 [==============================] - 93s 29ms/sample - loss: 0.1800 - accuracy: 0.9373 - val_loss: 0.8168 - val_accuracy: 0.7151\n",
      "Epoch 8/100\n",
      "3157/3157 [==============================] - 92s 29ms/sample - loss: 0.1647 - accuracy: 0.9427 - val_loss: 0.6777 - val_accuracy: 0.6581\n",
      "Epoch 9/100\n",
      "3157/3157 [==============================] - 92s 29ms/sample - loss: 0.1362 - accuracy: 0.9515 - val_loss: 0.8293 - val_accuracy: 0.7179\n",
      "Epoch 10/100\n",
      "3157/3157 [==============================] - 92s 29ms/sample - loss: 0.0902 - accuracy: 0.9715 - val_loss: 0.8573 - val_accuracy: 0.7094\n",
      "Epoch 11/100\n",
      "3157/3157 [==============================] - 92s 29ms/sample - loss: 0.0792 - accuracy: 0.9702 - val_loss: 0.9819 - val_accuracy: 0.5840\n",
      "Epoch 12/100\n",
      "3157/3157 [==============================] - 92s 29ms/sample - loss: 0.1541 - accuracy: 0.9370 - val_loss: 1.0168 - val_accuracy: 0.6467\n",
      "loss: 1.02, accuracy 0.65\n"
     ]
    }
   ],
   "source": [
    "samples=get_samples(reviews, n=5000)\n",
    "samples=clean_text(samples)\n",
    "X_train_pad, X_test_pad, Y_train, Y_test=split_pad(samples)\n",
    "for model in models:\n",
    "    model.fit(X_train_pad, Y_train, epochs=100, callbacks=[callback], batch_size=64,validation_data=(X_test_pad,Y_test))\n",
    "    # Final evaluation of the model on test data\n",
    "    scores = model.evaluate(X_test_pad, Y_test, verbose=0)\n",
    "    print(\"loss: {0:2.2f}, accuracy {1:2.2f}\".format(scores[0],scores[1]))"
   ]
  },
  {
   "cell_type": "code",
   "execution_count": null,
   "metadata": {},
   "outputs": [],
   "source": []
  }
 ],
 "metadata": {
  "kernelspec": {
   "display_name": "Python 3",
   "language": "python",
   "name": "python3"
  },
  "language_info": {
   "codemirror_mode": {
    "name": "ipython",
    "version": 3
   },
   "file_extension": ".py",
   "mimetype": "text/x-python",
   "name": "python",
   "nbconvert_exporter": "python",
   "pygments_lexer": "ipython3",
   "version": "3.6.9"
  },
  "pycharm": {
   "stem_cell": {
    "cell_type": "raw",
    "metadata": {
     "collapsed": false
    },
    "source": []
   }
  }
 },
 "nbformat": 4,
 "nbformat_minor": 4
}
