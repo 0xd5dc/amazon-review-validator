{
 "cells": [
  {
   "cell_type": "code",
   "execution_count": 1,
   "metadata": {},
   "outputs": [],
   "source": [
    "import pandas as pd\n",
    "import numpy as np\n",
    "import re\n",
    "import string\n",
    "from sklearn.feature_extraction.text import CountVectorizer\n",
    "from sklearn.preprocessing import StandardScaler\n",
    "from sklearn.manifold import TSNE\n",
    "import numpy as np\n",
    "import matplotlib.pyplot as plt\n",
    "import seaborn as sns\n",
    "# import nltk\n",
    "# nltk.download('stopwords')\n",
    "# from nltk.corpus import stopwords\n",
    "# from nltk.stem import SnowballStemmer as sno\n",
    "# setofstopwords=set(stopwords.words('english'))\n",
    "from sklearn.model_selection import train_test_split"
   ]
  },
  {
   "cell_type": "code",
   "execution_count": 22,
   "metadata": {},
   "outputs": [],
   "source": [
    "reviews=pd.read_csv('data/amazon_reviews_us_Apparel_v1_00.tsv.gz.tsv',sep='\\t')"
   ]
  },
  {
   "cell_type": "code",
   "execution_count": 23,
   "metadata": {},
   "outputs": [],
   "source": [
    "reviews['label']=(reviews['verified_purchase']=='y').astype(int)"
   ]
  },
  {
   "cell_type": "code",
   "execution_count": 24,
   "metadata": {},
   "outputs": [
    {
     "data": {
      "text/html": [
       "<div>\n",
       "<style scoped>\n",
       "    .dataframe tbody tr th:only-of-type {\n",
       "        vertical-align: middle;\n",
       "    }\n",
       "\n",
       "    .dataframe tbody tr th {\n",
       "        vertical-align: top;\n",
       "    }\n",
       "\n",
       "    .dataframe thead th {\n",
       "        text-align: right;\n",
       "    }\n",
       "</style>\n",
       "<table border=\"1\" class=\"dataframe\">\n",
       "  <thead>\n",
       "    <tr style=\"text-align: right;\">\n",
       "      <th></th>\n",
       "      <th>star_rating</th>\n",
       "      <th>helpful_votes</th>\n",
       "      <th>total_votes</th>\n",
       "      <th>vine</th>\n",
       "      <th>review_headline</th>\n",
       "      <th>review_body</th>\n",
       "      <th>review_date</th>\n",
       "      <th>label</th>\n",
       "    </tr>\n",
       "    <tr>\n",
       "      <th>verified_purchase</th>\n",
       "      <th></th>\n",
       "      <th></th>\n",
       "      <th></th>\n",
       "      <th></th>\n",
       "      <th></th>\n",
       "      <th></th>\n",
       "      <th></th>\n",
       "      <th></th>\n",
       "    </tr>\n",
       "  </thead>\n",
       "  <tbody>\n",
       "    <tr>\n",
       "      <th>n</th>\n",
       "      <td>593552</td>\n",
       "      <td>593552</td>\n",
       "      <td>593552</td>\n",
       "      <td>593552</td>\n",
       "      <td>593544</td>\n",
       "      <td>593491</td>\n",
       "      <td>593532</td>\n",
       "      <td>593552</td>\n",
       "    </tr>\n",
       "    <tr>\n",
       "      <th>y</th>\n",
       "      <td>5312781</td>\n",
       "      <td>5312781</td>\n",
       "      <td>5312781</td>\n",
       "      <td>5312781</td>\n",
       "      <td>5312734</td>\n",
       "      <td>5312053</td>\n",
       "      <td>5312680</td>\n",
       "      <td>5312781</td>\n",
       "    </tr>\n",
       "  </tbody>\n",
       "</table>\n",
       "</div>"
      ],
      "text/plain": [
       "                   star_rating  helpful_votes  total_votes     vine  \\\n",
       "verified_purchase                                                     \n",
       "n                       593552         593552       593552   593552   \n",
       "y                      5312781        5312781      5312781  5312781   \n",
       "\n",
       "                   review_headline  review_body  review_date    label  \n",
       "verified_purchase                                                      \n",
       "n                           593544       593491       593532   593552  \n",
       "y                          5312734      5312053      5312680  5312781  "
      ]
     },
     "execution_count": 24,
     "metadata": {},
     "output_type": "execute_result"
    }
   ],
   "source": [
    "reviews.groupby('verified_purchase').count()"
   ]
  },
  {
   "cell_type": "code",
   "execution_count": 31,
   "metadata": {},
   "outputs": [],
   "source": [
    "samples=reviews[:5000]"
   ]
  },
  {
   "cell_type": "code",
   "execution_count": 32,
   "metadata": {},
   "outputs": [
    {
     "data": {
      "text/html": [
       "<div>\n",
       "<style scoped>\n",
       "    .dataframe tbody tr th:only-of-type {\n",
       "        vertical-align: middle;\n",
       "    }\n",
       "\n",
       "    .dataframe tbody tr th {\n",
       "        vertical-align: top;\n",
       "    }\n",
       "\n",
       "    .dataframe thead th {\n",
       "        text-align: right;\n",
       "    }\n",
       "</style>\n",
       "<table border=\"1\" class=\"dataframe\">\n",
       "  <thead>\n",
       "    <tr style=\"text-align: right;\">\n",
       "      <th></th>\n",
       "      <th>star_rating</th>\n",
       "      <th>helpful_votes</th>\n",
       "      <th>total_votes</th>\n",
       "      <th>vine</th>\n",
       "      <th>review_headline</th>\n",
       "      <th>review_body</th>\n",
       "      <th>review_date</th>\n",
       "      <th>label</th>\n",
       "    </tr>\n",
       "    <tr>\n",
       "      <th>verified_purchase</th>\n",
       "      <th></th>\n",
       "      <th></th>\n",
       "      <th></th>\n",
       "      <th></th>\n",
       "      <th></th>\n",
       "      <th></th>\n",
       "      <th></th>\n",
       "      <th></th>\n",
       "    </tr>\n",
       "  </thead>\n",
       "  <tbody>\n",
       "    <tr>\n",
       "      <th>n</th>\n",
       "      <td>1754</td>\n",
       "      <td>1754</td>\n",
       "      <td>1754</td>\n",
       "      <td>1754</td>\n",
       "      <td>1754</td>\n",
       "      <td>1754</td>\n",
       "      <td>1754</td>\n",
       "      <td>1754</td>\n",
       "    </tr>\n",
       "    <tr>\n",
       "      <th>y</th>\n",
       "      <td>3246</td>\n",
       "      <td>3246</td>\n",
       "      <td>3246</td>\n",
       "      <td>3246</td>\n",
       "      <td>3246</td>\n",
       "      <td>3245</td>\n",
       "      <td>3246</td>\n",
       "      <td>3246</td>\n",
       "    </tr>\n",
       "  </tbody>\n",
       "</table>\n",
       "</div>"
      ],
      "text/plain": [
       "                   star_rating  helpful_votes  total_votes  vine  \\\n",
       "verified_purchase                                                  \n",
       "n                         1754           1754         1754  1754   \n",
       "y                         3246           3246         3246  3246   \n",
       "\n",
       "                   review_headline  review_body  review_date  label  \n",
       "verified_purchase                                                    \n",
       "n                             1754         1754         1754   1754  \n",
       "y                             3246         3245         3246   3246  "
      ]
     },
     "execution_count": 32,
     "metadata": {},
     "output_type": "execute_result"
    }
   ],
   "source": [
    "samples.groupby('verified_purchase').count()"
   ]
  },
  {
   "cell_type": "code",
   "execution_count": 58,
   "metadata": {},
   "outputs": [],
   "source": [
    "undersample=samples[samples['label']==1].sample(1754)"
   ]
  },
  {
   "cell_type": "code",
   "execution_count": 59,
   "metadata": {},
   "outputs": [],
   "source": [
    "undersample=pd.concat([undersample,samples[samples['label']==0]])\n",
    "undersample = undersample.sample(frac=1,replace=False).reset_index(drop=True)"
   ]
  },
  {
   "cell_type": "code",
   "execution_count": 60,
   "metadata": {},
   "outputs": [
    {
     "data": {
      "text/html": [
       "<div>\n",
       "<style scoped>\n",
       "    .dataframe tbody tr th:only-of-type {\n",
       "        vertical-align: middle;\n",
       "    }\n",
       "\n",
       "    .dataframe tbody tr th {\n",
       "        vertical-align: top;\n",
       "    }\n",
       "\n",
       "    .dataframe thead th {\n",
       "        text-align: right;\n",
       "    }\n",
       "</style>\n",
       "<table border=\"1\" class=\"dataframe\">\n",
       "  <thead>\n",
       "    <tr style=\"text-align: right;\">\n",
       "      <th></th>\n",
       "      <th>star_rating</th>\n",
       "      <th>helpful_votes</th>\n",
       "      <th>total_votes</th>\n",
       "      <th>vine</th>\n",
       "      <th>review_headline</th>\n",
       "      <th>review_body</th>\n",
       "      <th>review_date</th>\n",
       "      <th>label</th>\n",
       "    </tr>\n",
       "    <tr>\n",
       "      <th>verified_purchase</th>\n",
       "      <th></th>\n",
       "      <th></th>\n",
       "      <th></th>\n",
       "      <th></th>\n",
       "      <th></th>\n",
       "      <th></th>\n",
       "      <th></th>\n",
       "      <th></th>\n",
       "    </tr>\n",
       "  </thead>\n",
       "  <tbody>\n",
       "    <tr>\n",
       "      <th>n</th>\n",
       "      <td>1754</td>\n",
       "      <td>1754</td>\n",
       "      <td>1754</td>\n",
       "      <td>1754</td>\n",
       "      <td>1754</td>\n",
       "      <td>1754</td>\n",
       "      <td>1754</td>\n",
       "      <td>1754</td>\n",
       "    </tr>\n",
       "    <tr>\n",
       "      <th>y</th>\n",
       "      <td>1754</td>\n",
       "      <td>1754</td>\n",
       "      <td>1754</td>\n",
       "      <td>1754</td>\n",
       "      <td>1754</td>\n",
       "      <td>1754</td>\n",
       "      <td>1754</td>\n",
       "      <td>1754</td>\n",
       "    </tr>\n",
       "  </tbody>\n",
       "</table>\n",
       "</div>"
      ],
      "text/plain": [
       "                   star_rating  helpful_votes  total_votes  vine  \\\n",
       "verified_purchase                                                  \n",
       "n                         1754           1754         1754  1754   \n",
       "y                         1754           1754         1754  1754   \n",
       "\n",
       "                   review_headline  review_body  review_date  label  \n",
       "verified_purchase                                                    \n",
       "n                             1754         1754         1754   1754  \n",
       "y                             1754         1754         1754   1754  "
      ]
     },
     "execution_count": 60,
     "metadata": {},
     "output_type": "execute_result"
    }
   ],
   "source": [
    "undersample.groupby('verified_purchase').count()"
   ]
  },
  {
   "cell_type": "code",
   "execution_count": 61,
   "metadata": {},
   "outputs": [],
   "source": [
    "selected_features=[ 'review_body','label']"
   ]
  },
  {
   "cell_type": "code",
   "execution_count": 62,
   "metadata": {},
   "outputs": [],
   "source": [
    "# reviews['review_body']=reviews['review_body'].str.lower()"
   ]
  },
  {
   "cell_type": "code",
   "execution_count": 63,
   "metadata": {},
   "outputs": [],
   "source": [
    "selected_reviews=undersample[selected_features]"
   ]
  },
  {
   "cell_type": "code",
   "execution_count": 64,
   "metadata": {},
   "outputs": [
    {
     "name": "stderr",
     "output_type": "stream",
     "text": [
      "/usr/local/lib/python3.6/dist-packages/ipykernel_launcher.py:1: SettingWithCopyWarning: \n",
      "A value is trying to be set on a copy of a slice from a DataFrame.\n",
      "Try using .loc[row_indexer,col_indexer] = value instead\n",
      "\n",
      "See the caveats in the documentation: https://pandas.pydata.org/pandas-docs/stable/user_guide/indexing.html#returning-a-view-versus-a-copy\n",
      "  \"\"\"Entry point for launching an IPython kernel.\n"
     ]
    }
   ],
   "source": [
    "selected_reviews['review_body']=selected_reviews['review_body'].str.replace(r'([^a-z\\s]+)','')"
   ]
  },
  {
   "cell_type": "code",
   "execution_count": 65,
   "metadata": {},
   "outputs": [
    {
     "data": {
      "text/plain": [
       "0    these were really cute online and are ok in pe...\n",
       "1                                  exactly as expected\n",
       "2    this is a really nice long nightgown and is ve...\n",
       "3    cool socks they are great gifts for my childre...\n",
       "4    i received this item at a discount in exchange...\n",
       "Name: review_body, dtype: object"
      ]
     },
     "execution_count": 65,
     "metadata": {},
     "output_type": "execute_result"
    }
   ],
   "source": [
    "selected_reviews['review_body'].head()"
   ]
  },
  {
   "cell_type": "markdown",
   "metadata": {},
   "source": [
    "spliting data"
   ]
  },
  {
   "cell_type": "code",
   "execution_count": 66,
   "metadata": {},
   "outputs": [],
   "source": [
    "X_train, X_test, Y_train, Y_test = train_test_split(selected_reviews['review_body'].values,\\\n",
    "                                                    selected_reviews['label'].values,\\\n",
    "                                                    test_size=0.30,\\\n",
    "                                                    shuffle=False)"
   ]
  },
  {
   "cell_type": "code",
   "execution_count": 67,
   "metadata": {},
   "outputs": [],
   "source": [
    "from tensorflow.keras.preprocessing.text import Tokenizer\n",
    "tokenizer = Tokenizer(num_words= 50000)\n",
    "tokenizer.fit_on_texts(X_train)"
   ]
  },
  {
   "cell_type": "code",
   "execution_count": 68,
   "metadata": {},
   "outputs": [],
   "source": [
    "X_train_tok = tokenizer.texts_to_sequences(X_train)\n",
    "X_test_tok = tokenizer.texts_to_sequences(X_test)"
   ]
  },
  {
   "cell_type": "code",
   "execution_count": 78,
   "metadata": {},
   "outputs": [],
   "source": [
    "from tensorflow.keras.preprocessing import sequence\n",
    "from tensorflow.keras.models import Sequential\n",
    "from tensorflow.keras.layers import Embedding, LSTM, Dense,SimpleRNN, GRU"
   ]
  },
  {
   "cell_type": "code",
   "execution_count": 70,
   "metadata": {},
   "outputs": [],
   "source": [
    "max_review_length = 600\n",
    "X_train_pad = sequence.pad_sequences(X_train_tok, maxlen=max_review_length)\n",
    "X_test_pad = sequence.pad_sequences(X_test_tok, maxlen=max_review_length)"
   ]
  },
  {
   "cell_type": "code",
   "execution_count": 71,
   "metadata": {},
   "outputs": [
    {
     "name": "stdout",
     "output_type": "stream",
     "text": [
      "Model: \"sequential_3\"\n",
      "_________________________________________________________________\n",
      "Layer (type)                 Output Shape              Param #   \n",
      "=================================================================\n",
      "embedding_3 (Embedding)      (None, 600, 32)           1600000   \n",
      "_________________________________________________________________\n",
      "lstm_4 (LSTM)                (None, 100)               53200     \n",
      "_________________________________________________________________\n",
      "dense_3 (Dense)              (None, 1)                 101       \n",
      "=================================================================\n",
      "Total params: 1,653,301\n",
      "Trainable params: 1,653,301\n",
      "Non-trainable params: 0\n",
      "_________________________________________________________________\n",
      "None\n"
     ]
    }
   ],
   "source": [
    "embedding_vector_length = 32\n",
    "top_words = 50000\n",
    "model = Sequential()\n",
    "model.add(Embedding(top_words, embedding_vector_length, input_length=max_review_length))\n",
    "model.add(LSTM(100))\n",
    "model.add(Dense(1, activation='sigmoid'))\n",
    "model.compile(loss='binary_crossentropy', optimizer='adam', metrics=['accuracy'])\n",
    "print(model.summary())"
   ]
  },
  {
   "cell_type": "code",
   "execution_count": 72,
   "metadata": {},
   "outputs": [
    {
     "name": "stdout",
     "output_type": "stream",
     "text": [
      "WARNING:tensorflow:The `nb_epoch` argument in `fit` has been renamed `epochs`.\n",
      "Train on 2455 samples, validate on 1053 samples\n",
      "Epoch 1/10\n",
      "2455/2455 [==============================] - 32s 13ms/sample - loss: 0.6439 - accuracy: 0.6578 - val_loss: 0.6023 - val_accuracy: 0.6667\n",
      "Epoch 2/10\n",
      "2455/2455 [==============================] - 31s 12ms/sample - loss: 0.5242 - accuracy: 0.7389 - val_loss: 0.5451 - val_accuracy: 0.7303\n",
      "Epoch 3/10\n",
      "2455/2455 [==============================] - 30s 12ms/sample - loss: 0.4691 - accuracy: 0.7959 - val_loss: 1.0400 - val_accuracy: 0.4938\n",
      "Epoch 4/10\n",
      "2455/2455 [==============================] - 30s 12ms/sample - loss: 0.4545 - accuracy: 0.7980 - val_loss: 0.5975 - val_accuracy: 0.7512\n",
      "Epoch 5/10\n",
      "2455/2455 [==============================] - 30s 12ms/sample - loss: 0.5750 - accuracy: 0.7548 - val_loss: 0.5766 - val_accuracy: 0.6914\n",
      "Epoch 6/10\n",
      "2455/2455 [==============================] - 31s 12ms/sample - loss: 0.3580 - accuracy: 0.8464 - val_loss: 0.6291 - val_accuracy: 0.7322\n",
      "Epoch 7/10\n",
      "2455/2455 [==============================] - 31s 12ms/sample - loss: 0.2676 - accuracy: 0.8978 - val_loss: 0.5970 - val_accuracy: 0.7284\n",
      "Epoch 8/10\n",
      "2455/2455 [==============================] - 31s 13ms/sample - loss: 0.2022 - accuracy: 0.9287 - val_loss: 0.6676 - val_accuracy: 0.7189\n",
      "Epoch 9/10\n",
      "2455/2455 [==============================] - 31s 12ms/sample - loss: 0.1855 - accuracy: 0.9340 - val_loss: 0.6553 - val_accuracy: 0.7113\n",
      "Epoch 10/10\n",
      "2455/2455 [==============================] - 31s 13ms/sample - loss: 0.1440 - accuracy: 0.9442 - val_loss: 0.7522 - val_accuracy: 0.7246\n",
      "Accuracy: 72.46%\n"
     ]
    }
   ],
   "source": [
    "history = model.fit(X_train_pad, Y_train, nb_epoch=10, batch_size=64,validation_data=(X_test_pad,Y_test))\n",
    "# Final evaluation of the model on test data\n",
    "scores = model.evaluate(X_test_pad, Y_test, verbose=0)\n",
    "print(\"Accuracy: %.2f%%\" % (scores[1]*100))"
   ]
  },
  {
   "cell_type": "code",
   "execution_count": 75,
   "metadata": {},
   "outputs": [
    {
     "name": "stdout",
     "output_type": "stream",
     "text": [
      "Model: \"sequential_4\"\n",
      "_________________________________________________________________\n",
      "Layer (type)                 Output Shape              Param #   \n",
      "=================================================================\n",
      "embedding_4 (Embedding)      (None, 600, 40)           2000040   \n",
      "_________________________________________________________________\n",
      "lstm_5 (LSTM)                (None, 600, 32)           9344      \n",
      "_________________________________________________________________\n",
      "lstm_6 (LSTM)                (None, 16)                3136      \n",
      "_________________________________________________________________\n",
      "dense_4 (Dense)              (None, 1)                 17        \n",
      "=================================================================\n",
      "Total params: 2,012,537\n",
      "Trainable params: 2,012,537\n",
      "Non-trainable params: 0\n",
      "_________________________________________________________________\n",
      "None\n"
     ]
    }
   ],
   "source": [
    "top_words=50000\n",
    "embedding_vector_length = 40\n",
    "model = Sequential()\n",
    "model.add(Embedding(top_words+1, embedding_vector_length, input_length=max_review_length))\n",
    "model.add(LSTM(32,return_sequences=True))\n",
    "model.add(LSTM(16))\n",
    "model.add(Dense(1, activation='sigmoid'))\n",
    "model.compile(loss='binary_crossentropy', optimizer='adam', metrics=['accuracy'])\n",
    "print(model.summary())"
   ]
  },
  {
   "cell_type": "code",
   "execution_count": 76,
   "metadata": {},
   "outputs": [
    {
     "name": "stdout",
     "output_type": "stream",
     "text": [
      "WARNING:tensorflow:The `nb_epoch` argument in `fit` has been renamed `epochs`.\n",
      "Train on 2455 samples, validate on 1053 samples\n",
      "Epoch 1/10\n",
      "2455/2455 [==============================] - 29s 12ms/sample - loss: 0.6511 - accuracy: 0.6574 - val_loss: 0.6121 - val_accuracy: 0.6420\n",
      "Epoch 2/10\n",
      "2455/2455 [==============================] - 24s 10ms/sample - loss: 0.5067 - accuracy: 0.7523 - val_loss: 0.5326 - val_accuracy: 0.7227\n",
      "Epoch 3/10\n",
      "2455/2455 [==============================] - 24s 10ms/sample - loss: 0.3894 - accuracy: 0.8310 - val_loss: 0.5165 - val_accuracy: 0.7426\n",
      "Epoch 4/10\n",
      "2455/2455 [==============================] - 24s 10ms/sample - loss: 0.3141 - accuracy: 0.8741 - val_loss: 0.5620 - val_accuracy: 0.7464\n",
      "Epoch 5/10\n",
      "2455/2455 [==============================] - 23s 9ms/sample - loss: 0.2780 - accuracy: 0.8961 - val_loss: 0.6382 - val_accuracy: 0.7379\n",
      "Epoch 6/10\n",
      "2455/2455 [==============================] - 24s 10ms/sample - loss: 0.2156 - accuracy: 0.9206 - val_loss: 0.6207 - val_accuracy: 0.7455\n",
      "Epoch 7/10\n",
      "2455/2455 [==============================] - 24s 10ms/sample - loss: 0.1986 - accuracy: 0.9263 - val_loss: 0.6423 - val_accuracy: 0.7293\n",
      "Epoch 8/10\n",
      "2455/2455 [==============================] - 24s 10ms/sample - loss: 0.1636 - accuracy: 0.9446 - val_loss: 0.7648 - val_accuracy: 0.7445\n",
      "Epoch 9/10\n",
      "2455/2455 [==============================] - 23s 10ms/sample - loss: 0.1384 - accuracy: 0.9527 - val_loss: 0.8032 - val_accuracy: 0.7369\n",
      "Epoch 10/10\n",
      "2455/2455 [==============================] - 24s 10ms/sample - loss: 0.1455 - accuracy: 0.9491 - val_loss: 0.7289 - val_accuracy: 0.7094\n",
      "Accuracy: 70.94%\n"
     ]
    }
   ],
   "source": [
    "history = model.fit(X_train_pad, Y_train, nb_epoch=10, batch_size=64,validation_data=(X_test_pad,Y_test))\n",
    "# Final evaluation of the model on test data\n",
    "scores = model.evaluate(X_test_pad, Y_test, verbose=0)\n",
    "print(\"Accuracy: %.2f%%\" % (scores[1]*100))"
   ]
  },
  {
   "cell_type": "code",
   "execution_count": 86,
   "metadata": {
    "scrolled": true
   },
   "outputs": [
    {
     "name": "stdout",
     "output_type": "stream",
     "text": [
      "Model: \"sequential_10\"\n",
      "_________________________________________________________________\n",
      "Layer (type)                 Output Shape              Param #   \n",
      "=================================================================\n",
      "embedding_9 (Embedding)      (None, 600, 40)           2000000   \n",
      "_________________________________________________________________\n",
      "gru_4 (GRU)                  (None, 600, 256)          228864    \n",
      "_________________________________________________________________\n",
      "simple_rnn_4 (SimpleRNN)     (None, 128)               49280     \n",
      "_________________________________________________________________\n",
      "dense_9 (Dense)              (None, 1)                 129       \n",
      "=================================================================\n",
      "Total params: 2,278,273\n",
      "Trainable params: 2,278,273\n",
      "Non-trainable params: 0\n",
      "_________________________________________________________________\n"
     ]
    }
   ],
   "source": [
    "model = Sequential()\n",
    "model.add(Embedding(top_words, embedding_vector_length, input_length=max_review_length))\n",
    "\n",
    "# The output of GRU will be a 3D tensor of shape (batch_size, timesteps, 256)\n",
    "model.add(GRU(256, return_sequences=True))\n",
    "\n",
    "# The output of SimpleRNN will be a 2D tensor of shape (batch_size, 128)\n",
    "model.add(SimpleRNN(128))\n",
    "\n",
    "model.add(Dense(1, activation='sigmoid'))\n",
    "model.compile(loss='binary_crossentropy', optimizer='adam', metrics=['accuracy'])\n",
    "model.summary() "
   ]
  },
  {
   "cell_type": "code",
   "execution_count": 87,
   "metadata": {},
   "outputs": [
    {
     "name": "stdout",
     "output_type": "stream",
     "text": [
      "WARNING:tensorflow:The `nb_epoch` argument in `fit` has been renamed `epochs`.\n",
      "Train on 2455 samples, validate on 1053 samples\n",
      "Epoch 1/10\n",
      "2455/2455 [==============================] - 83s 34ms/sample - loss: 0.6322 - accuracy: 0.6354 - val_loss: 0.6001 - val_accuracy: 0.6781\n",
      "Epoch 2/10\n",
      "2455/2455 [==============================] - 79s 32ms/sample - loss: 0.5551 - accuracy: 0.7210 - val_loss: 0.5783 - val_accuracy: 0.6876\n",
      "Epoch 3/10\n",
      "2455/2455 [==============================] - 78s 32ms/sample - loss: 0.4078 - accuracy: 0.8179 - val_loss: 0.5905 - val_accuracy: 0.7056\n",
      "Epoch 4/10\n",
      "2455/2455 [==============================] - 79s 32ms/sample - loss: 0.2863 - accuracy: 0.8851 - val_loss: 0.6428 - val_accuracy: 0.6952\n",
      "Epoch 5/10\n",
      "2455/2455 [==============================] - 79s 32ms/sample - loss: 0.2164 - accuracy: 0.9181 - val_loss: 0.9627 - val_accuracy: 0.6116\n",
      "Epoch 6/10\n",
      "2455/2455 [==============================] - 78s 32ms/sample - loss: 0.1211 - accuracy: 0.9552 - val_loss: 0.9403 - val_accuracy: 0.6610\n",
      "Epoch 8/10\n",
      "2455/2455 [==============================] - 79s 32ms/sample - loss: 0.0830 - accuracy: 0.9711 - val_loss: 1.1168 - val_accuracy: 0.6714\n",
      "Epoch 9/10\n",
      "2455/2455 [==============================] - 79s 32ms/sample - loss: 0.0614 - accuracy: 0.9768 - val_loss: 1.2010 - val_accuracy: 0.6819\n",
      "Epoch 10/10\n",
      "2455/2455 [==============================] - 79s 32ms/sample - loss: 0.0579 - accuracy: 0.9792 - val_loss: 1.1805 - val_accuracy: 0.6771\n",
      "Accuracy: 67.71%\n"
     ]
    }
   ],
   "source": [
    "history = model.fit(X_train_pad, Y_train, nb_epoch=10, batch_size=64,validation_data=(X_test_pad,Y_test))\n",
    "# Final evaluation of the model on test data\n",
    "scores = model.evaluate(X_test_pad, Y_test, verbose=0)\n",
    "print(\"Accuracy: %.2f%%\" % (scores[1]*100))"
   ]
  }
 ],
 "metadata": {
  "kernelspec": {
   "display_name": "Python 3",
   "language": "python",
   "name": "python3"
  },
  "language_info": {
   "codemirror_mode": {
    "name": "ipython",
    "version": 3
   },
   "file_extension": ".py",
   "mimetype": "text/x-python",
   "name": "python",
   "nbconvert_exporter": "python",
   "pygments_lexer": "ipython3",
   "version": "3.6.9"
  }
 },
 "nbformat": 4,
 "nbformat_minor": 4
}
