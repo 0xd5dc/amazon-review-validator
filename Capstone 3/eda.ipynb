{
 "cells": [
  {
   "cell_type": "code",
   "execution_count": 20,
   "metadata": {},
   "outputs": [],
   "source": [
    "from tensorflow.keras.preprocessing import sequence\n",
    "from tensorflow.keras.models import Sequential\n",
    "from tensorflow.keras.layers import Embedding, LSTM, Dense,SimpleRNN, GRU\n",
    "from tensorflow.keras.preprocessing.text import Tokenizer"
   ]
  },
  {
   "cell_type": "code",
   "execution_count": 1,
   "metadata": {},
   "outputs": [],
   "source": [
    "import pandas as pd\n",
    "import numpy as np\n",
    "import re\n",
    "import string\n",
    "from sklearn.feature_extraction.text import CountVectorizer\n",
    "from sklearn.preprocessing import StandardScaler\n",
    "from sklearn.manifold import TSNE\n",
    "import numpy as np\n",
    "import matplotlib.pyplot as plt\n",
    "import seaborn as sns\n",
    "# import nltk\n",
    "# nltk.download('stopwords')\n",
    "# from nltk.corpus import stopwords\n",
    "# from nltk.stem import SnowballStemmer as sno\n",
    "# setofstopwords=set(stopwords.words('english'))\n",
    "from sklearn.model_selection import train_test_split"
   ]
  },
  {
   "cell_type": "markdown",
   "metadata": {},
   "source": [
    "# Load data"
   ]
  },
  {
   "cell_type": "code",
   "execution_count": 3,
   "metadata": {},
   "outputs": [],
   "source": [
    "reviews=pd.read_csv('../data/amazon_reviews_us_Apparel_v1_00.tsv.gz.tsv',sep='\\t')"
   ]
  },
  {
   "cell_type": "code",
   "execution_count": 4,
   "metadata": {},
   "outputs": [],
   "source": [
    "reviews['label']=(reviews['verified_purchase']=='y').astype(int)"
   ]
  },
  {
   "cell_type": "code",
   "execution_count": 5,
   "metadata": {},
   "outputs": [
    {
     "data": {
      "text/html": [
       "<div>\n",
       "<style scoped>\n",
       "    .dataframe tbody tr th:only-of-type {\n",
       "        vertical-align: middle;\n",
       "    }\n",
       "\n",
       "    .dataframe tbody tr th {\n",
       "        vertical-align: top;\n",
       "    }\n",
       "\n",
       "    .dataframe thead th {\n",
       "        text-align: right;\n",
       "    }\n",
       "</style>\n",
       "<table border=\"1\" class=\"dataframe\">\n",
       "  <thead>\n",
       "    <tr style=\"text-align: right;\">\n",
       "      <th></th>\n",
       "      <th>star_rating</th>\n",
       "      <th>helpful_votes</th>\n",
       "      <th>total_votes</th>\n",
       "      <th>vine</th>\n",
       "      <th>review_headline</th>\n",
       "      <th>review_body</th>\n",
       "      <th>review_date</th>\n",
       "      <th>label</th>\n",
       "    </tr>\n",
       "    <tr>\n",
       "      <th>verified_purchase</th>\n",
       "      <th></th>\n",
       "      <th></th>\n",
       "      <th></th>\n",
       "      <th></th>\n",
       "      <th></th>\n",
       "      <th></th>\n",
       "      <th></th>\n",
       "      <th></th>\n",
       "    </tr>\n",
       "  </thead>\n",
       "  <tbody>\n",
       "    <tr>\n",
       "      <th>n</th>\n",
       "      <td>593552</td>\n",
       "      <td>593552</td>\n",
       "      <td>593552</td>\n",
       "      <td>593552</td>\n",
       "      <td>593544</td>\n",
       "      <td>593491</td>\n",
       "      <td>593532</td>\n",
       "      <td>593552</td>\n",
       "    </tr>\n",
       "    <tr>\n",
       "      <th>y</th>\n",
       "      <td>5312781</td>\n",
       "      <td>5312781</td>\n",
       "      <td>5312781</td>\n",
       "      <td>5312781</td>\n",
       "      <td>5312734</td>\n",
       "      <td>5312053</td>\n",
       "      <td>5312680</td>\n",
       "      <td>5312781</td>\n",
       "    </tr>\n",
       "  </tbody>\n",
       "</table>\n",
       "</div>"
      ],
      "text/plain": [
       "                   star_rating  helpful_votes  total_votes     vine  \\\n",
       "verified_purchase                                                     \n",
       "n                       593552         593552       593552   593552   \n",
       "y                      5312781        5312781      5312781  5312781   \n",
       "\n",
       "                   review_headline  review_body  review_date    label  \n",
       "verified_purchase                                                      \n",
       "n                           593544       593491       593532   593552  \n",
       "y                          5312734      5312053      5312680  5312781  "
      ]
     },
     "execution_count": 5,
     "metadata": {},
     "output_type": "execute_result"
    }
   ],
   "source": [
    "reviews.groupby('verified_purchase').count()"
   ]
  },
  {
   "cell_type": "code",
   "execution_count": 7,
   "metadata": {},
   "outputs": [],
   "source": [
    "samples=reviews[:5000]"
   ]
  },
  {
   "cell_type": "code",
   "execution_count": 8,
   "metadata": {},
   "outputs": [
    {
     "data": {
      "text/html": [
       "<div>\n",
       "<style scoped>\n",
       "    .dataframe tbody tr th:only-of-type {\n",
       "        vertical-align: middle;\n",
       "    }\n",
       "\n",
       "    .dataframe tbody tr th {\n",
       "        vertical-align: top;\n",
       "    }\n",
       "\n",
       "    .dataframe thead th {\n",
       "        text-align: right;\n",
       "    }\n",
       "</style>\n",
       "<table border=\"1\" class=\"dataframe\">\n",
       "  <thead>\n",
       "    <tr style=\"text-align: right;\">\n",
       "      <th></th>\n",
       "      <th>star_rating</th>\n",
       "      <th>helpful_votes</th>\n",
       "      <th>total_votes</th>\n",
       "      <th>vine</th>\n",
       "      <th>review_headline</th>\n",
       "      <th>review_body</th>\n",
       "      <th>review_date</th>\n",
       "      <th>label</th>\n",
       "    </tr>\n",
       "    <tr>\n",
       "      <th>verified_purchase</th>\n",
       "      <th></th>\n",
       "      <th></th>\n",
       "      <th></th>\n",
       "      <th></th>\n",
       "      <th></th>\n",
       "      <th></th>\n",
       "      <th></th>\n",
       "      <th></th>\n",
       "    </tr>\n",
       "  </thead>\n",
       "  <tbody>\n",
       "    <tr>\n",
       "      <th>n</th>\n",
       "      <td>1754</td>\n",
       "      <td>1754</td>\n",
       "      <td>1754</td>\n",
       "      <td>1754</td>\n",
       "      <td>1754</td>\n",
       "      <td>1754</td>\n",
       "      <td>1754</td>\n",
       "      <td>1754</td>\n",
       "    </tr>\n",
       "    <tr>\n",
       "      <th>y</th>\n",
       "      <td>3246</td>\n",
       "      <td>3246</td>\n",
       "      <td>3246</td>\n",
       "      <td>3246</td>\n",
       "      <td>3246</td>\n",
       "      <td>3245</td>\n",
       "      <td>3246</td>\n",
       "      <td>3246</td>\n",
       "    </tr>\n",
       "  </tbody>\n",
       "</table>\n",
       "</div>"
      ],
      "text/plain": [
       "                   star_rating  helpful_votes  total_votes  vine  \\\n",
       "verified_purchase                                                  \n",
       "n                         1754           1754         1754  1754   \n",
       "y                         3246           3246         3246  3246   \n",
       "\n",
       "                   review_headline  review_body  review_date  label  \n",
       "verified_purchase                                                    \n",
       "n                             1754         1754         1754   1754  \n",
       "y                             3246         3245         3246   3246  "
      ]
     },
     "execution_count": 8,
     "metadata": {},
     "output_type": "execute_result"
    }
   ],
   "source": [
    "samples.groupby('verified_purchase').count()"
   ]
  },
  {
   "cell_type": "code",
   "execution_count": 9,
   "metadata": {},
   "outputs": [],
   "source": [
    "undersample=samples[samples['label']==1].sample(1754)"
   ]
  },
  {
   "cell_type": "code",
   "execution_count": 10,
   "metadata": {},
   "outputs": [],
   "source": [
    "undersample=pd.concat([undersample,samples[samples['label']==0]])\n",
    "undersample = undersample.sample(frac=1,replace=False).reset_index(drop=True)"
   ]
  },
  {
   "cell_type": "code",
   "execution_count": 11,
   "metadata": {},
   "outputs": [
    {
     "data": {
      "text/html": [
       "<div>\n",
       "<style scoped>\n",
       "    .dataframe tbody tr th:only-of-type {\n",
       "        vertical-align: middle;\n",
       "    }\n",
       "\n",
       "    .dataframe tbody tr th {\n",
       "        vertical-align: top;\n",
       "    }\n",
       "\n",
       "    .dataframe thead th {\n",
       "        text-align: right;\n",
       "    }\n",
       "</style>\n",
       "<table border=\"1\" class=\"dataframe\">\n",
       "  <thead>\n",
       "    <tr style=\"text-align: right;\">\n",
       "      <th></th>\n",
       "      <th>star_rating</th>\n",
       "      <th>helpful_votes</th>\n",
       "      <th>total_votes</th>\n",
       "      <th>vine</th>\n",
       "      <th>review_headline</th>\n",
       "      <th>review_body</th>\n",
       "      <th>review_date</th>\n",
       "      <th>label</th>\n",
       "    </tr>\n",
       "    <tr>\n",
       "      <th>verified_purchase</th>\n",
       "      <th></th>\n",
       "      <th></th>\n",
       "      <th></th>\n",
       "      <th></th>\n",
       "      <th></th>\n",
       "      <th></th>\n",
       "      <th></th>\n",
       "      <th></th>\n",
       "    </tr>\n",
       "  </thead>\n",
       "  <tbody>\n",
       "    <tr>\n",
       "      <th>n</th>\n",
       "      <td>1754</td>\n",
       "      <td>1754</td>\n",
       "      <td>1754</td>\n",
       "      <td>1754</td>\n",
       "      <td>1754</td>\n",
       "      <td>1754</td>\n",
       "      <td>1754</td>\n",
       "      <td>1754</td>\n",
       "    </tr>\n",
       "    <tr>\n",
       "      <th>y</th>\n",
       "      <td>1754</td>\n",
       "      <td>1754</td>\n",
       "      <td>1754</td>\n",
       "      <td>1754</td>\n",
       "      <td>1754</td>\n",
       "      <td>1754</td>\n",
       "      <td>1754</td>\n",
       "      <td>1754</td>\n",
       "    </tr>\n",
       "  </tbody>\n",
       "</table>\n",
       "</div>"
      ],
      "text/plain": [
       "                   star_rating  helpful_votes  total_votes  vine  \\\n",
       "verified_purchase                                                  \n",
       "n                         1754           1754         1754  1754   \n",
       "y                         1754           1754         1754  1754   \n",
       "\n",
       "                   review_headline  review_body  review_date  label  \n",
       "verified_purchase                                                    \n",
       "n                             1754         1754         1754   1754  \n",
       "y                             1754         1754         1754   1754  "
      ]
     },
     "execution_count": 11,
     "metadata": {},
     "output_type": "execute_result"
    }
   ],
   "source": [
    "undersample.groupby('verified_purchase').count()"
   ]
  },
  {
   "cell_type": "code",
   "execution_count": 12,
   "metadata": {},
   "outputs": [],
   "source": [
    "selected_features=[ 'review_body','label']"
   ]
  },
  {
   "cell_type": "code",
   "execution_count": 13,
   "metadata": {},
   "outputs": [],
   "source": [
    "# reviews['review_body']=reviews['review_body'].str.lower()"
   ]
  },
  {
   "cell_type": "code",
   "execution_count": 14,
   "metadata": {},
   "outputs": [],
   "source": [
    "selected_reviews=undersample[selected_features]"
   ]
  },
  {
   "cell_type": "code",
   "execution_count": 15,
   "metadata": {},
   "outputs": [
    {
     "name": "stderr",
     "output_type": "stream",
     "text": [
      "/usr/local/lib/python3.6/dist-packages/ipykernel_launcher.py:1: SettingWithCopyWarning: \n",
      "A value is trying to be set on a copy of a slice from a DataFrame.\n",
      "Try using .loc[row_indexer,col_indexer] = value instead\n",
      "\n",
      "See the caveats in the documentation: https://pandas.pydata.org/pandas-docs/stable/user_guide/indexing.html#returning-a-view-versus-a-copy\n",
      "  \"\"\"Entry point for launching an IPython kernel.\n"
     ]
    }
   ],
   "source": [
    "selected_reviews['review_body']=selected_reviews['review_body'].str.replace(r'([^a-z\\s]+)','')"
   ]
  },
  {
   "cell_type": "code",
   "execution_count": 16,
   "metadata": {},
   "outputs": [
    {
     "data": {
      "text/plain": [
       "0    these workout tights seem perfect so far they ...\n",
       "1                                                 nice\n",
       "2    this shirt had the strangest fit of anything i...\n",
       "3    these wide leg yoga pants are super comfy ther...\n",
       "4                        very lovely material must buy\n",
       "Name: review_body, dtype: object"
      ]
     },
     "execution_count": 16,
     "metadata": {},
     "output_type": "execute_result"
    }
   ],
   "source": [
    "selected_reviews['review_body'].head()"
   ]
  },
  {
   "cell_type": "markdown",
   "metadata": {},
   "source": [
    "# Split data"
   ]
  },
  {
   "cell_type": "code",
   "execution_count": 17,
   "metadata": {},
   "outputs": [],
   "source": [
    "X_train, X_test, Y_train, Y_test = train_test_split(selected_reviews['review_body'].values,\\\n",
    "                                                    selected_reviews['label'].values,\\\n",
    "                                                    test_size=0.30,\\\n",
    "                                                    shuffle=True)"
   ]
  },
  {
   "cell_type": "code",
   "execution_count": 18,
   "metadata": {},
   "outputs": [],
   "source": [
    "tokenizer = Tokenizer(num_words= 50000)\n",
    "tokenizer.fit_on_texts(X_train)"
   ]
  },
  {
   "cell_type": "code",
   "execution_count": 19,
   "metadata": {},
   "outputs": [],
   "source": [
    "X_train_tok = tokenizer.texts_to_sequences(X_train)\n",
    "X_test_tok = tokenizer.texts_to_sequences(X_test)"
   ]
  },
  {
   "cell_type": "code",
   "execution_count": 21,
   "metadata": {},
   "outputs": [],
   "source": [
    "max_review_length = 600\n",
    "X_train_pad = sequence.pad_sequences(X_train_tok, maxlen=max_review_length)\n",
    "X_test_pad = sequence.pad_sequences(X_test_tok, maxlen=max_review_length)"
   ]
  },
  {
   "cell_type": "markdown",
   "metadata": {},
   "source": [
    "# Compile models"
   ]
  },
  {
   "cell_type": "code",
   "execution_count": 22,
   "metadata": {},
   "outputs": [
    {
     "name": "stdout",
     "output_type": "stream",
     "text": [
      "Model: \"sequential\"\n",
      "_________________________________________________________________\n",
      "Layer (type)                 Output Shape              Param #   \n",
      "=================================================================\n",
      "embedding (Embedding)        (None, 600, 32)           1600000   \n",
      "_________________________________________________________________\n",
      "simple_rnn (SimpleRNN)       (None, 128)               20608     \n",
      "_________________________________________________________________\n",
      "dense (Dense)                (None, 1)                 129       \n",
      "=================================================================\n",
      "Total params: 1,620,737\n",
      "Trainable params: 1,620,737\n",
      "Non-trainable params: 0\n",
      "_________________________________________________________________\n"
     ]
    }
   ],
   "source": [
    "embedding_vector_length = 32\n",
    "top_words = 50000\n",
    "model = Sequential()\n",
    "model.add(Embedding(top_words, embedding_vector_length, input_length=max_review_length))\n",
    "# The output of SimpleRNN will be a 2D tensor of shape (batch_size, 128)\n",
    "model.add(SimpleRNN(128))\n",
    "model.add(Dense(1, activation='sigmoid'))\n",
    "model.compile(loss='binary_crossentropy', optimizer='adam', metrics=['accuracy'])\n",
    "model.summary()"
   ]
  },
  {
   "cell_type": "code",
   "execution_count": 23,
   "metadata": {},
   "outputs": [
    {
     "name": "stdout",
     "output_type": "stream",
     "text": [
      "WARNING:tensorflow:The `nb_epoch` argument in `fit` has been renamed `epochs`.\n",
      "Train on 2455 samples, validate on 1053 samples\n",
      "Epoch 1/10\n",
      "2455/2455 [==============================] - 13s 5ms/sample - loss: 0.6921 - accuracy: 0.5214 - val_loss: 0.6679 - val_accuracy: 0.5185\n",
      "Epoch 2/10\n",
      "2455/2455 [==============================] - 11s 4ms/sample - loss: 0.6522 - accuracy: 0.6151 - val_loss: 0.6381 - val_accuracy: 0.5252\n",
      "Epoch 3/10\n",
      "2455/2455 [==============================] - 11s 4ms/sample - loss: 0.5727 - accuracy: 0.7136 - val_loss: 0.5639 - val_accuracy: 0.6857\n",
      "Epoch 4/10\n",
      "2455/2455 [==============================] - 11s 4ms/sample - loss: 0.4163 - accuracy: 0.8289 - val_loss: 0.5226 - val_accuracy: 0.7312\n",
      "Epoch 5/10\n",
      "2455/2455 [==============================] - 11s 4ms/sample - loss: 0.8556 - accuracy: 0.6354 - val_loss: 0.7480 - val_accuracy: 0.4986\n",
      "Epoch 6/10\n",
      "2455/2455 [==============================] - 11s 5ms/sample - loss: 0.6143 - accuracy: 0.6692 - val_loss: 0.6447 - val_accuracy: 0.6505\n",
      "Epoch 7/10\n",
      "2455/2455 [==============================] - 11s 4ms/sample - loss: 0.5499 - accuracy: 0.7356 - val_loss: 0.5831 - val_accuracy: 0.6268\n",
      "Epoch 8/10\n",
      "2455/2455 [==============================] - 11s 4ms/sample - loss: 0.5169 - accuracy: 0.7857 - val_loss: 0.5687 - val_accuracy: 0.6743\n",
      "Epoch 9/10\n",
      "2455/2455 [==============================] - 11s 4ms/sample - loss: 0.4982 - accuracy: 0.7898 - val_loss: 0.5616 - val_accuracy: 0.6885\n",
      "Epoch 10/10\n",
      "2455/2455 [==============================] - 11s 4ms/sample - loss: 0.4717 - accuracy: 0.8033 - val_loss: 0.5640 - val_accuracy: 0.6724\n",
      "Accuracy: 67.24%\n"
     ]
    }
   ],
   "source": [
    "model.fit(X_train_pad, Y_train, epochs=10, batch_size=64,validation_data=(X_test_pad,Y_test))\n",
    "# Final evaluation of the model on test data\n",
    "scores = model.evaluate(X_test_pad, Y_test, verbose=0)\n",
    "print(\"Accuracy: %.2f%%\" % (scores[1]*100))"
   ]
  },
  {
   "cell_type": "code",
   "execution_count": 24,
   "metadata": {},
   "outputs": [
    {
     "name": "stdout",
     "output_type": "stream",
     "text": [
      "Model: \"sequential_1\"\n",
      "_________________________________________________________________\n",
      "Layer (type)                 Output Shape              Param #   \n",
      "=================================================================\n",
      "embedding_1 (Embedding)      (None, 600, 40)           2000040   \n",
      "_________________________________________________________________\n",
      "lstm (LSTM)                  (None, 600, 32)           9344      \n",
      "_________________________________________________________________\n",
      "lstm_1 (LSTM)                (None, 16)                3136      \n",
      "_________________________________________________________________\n",
      "dense_1 (Dense)              (None, 1)                 17        \n",
      "=================================================================\n",
      "Total params: 2,012,537\n",
      "Trainable params: 2,012,537\n",
      "Non-trainable params: 0\n",
      "_________________________________________________________________\n"
     ]
    }
   ],
   "source": [
    "top_words=50000\n",
    "embedding_vector_length = 40\n",
    "model = Sequential()\n",
    "model.add(Embedding(top_words+1, embedding_vector_length, input_length=max_review_length))\n",
    "model.add(LSTM(32,return_sequences=True))\n",
    "model.add(LSTM(16))\n",
    "model.add(Dense(1, activation='sigmoid'))\n",
    "model.compile(loss='binary_crossentropy', optimizer='adam', metrics=['accuracy'])\n",
    "model.summary()"
   ]
  },
  {
   "cell_type": "code",
   "execution_count": 25,
   "metadata": {},
   "outputs": [
    {
     "name": "stdout",
     "output_type": "stream",
     "text": [
      "WARNING:tensorflow:The `nb_epoch` argument in `fit` has been renamed `epochs`.\n",
      "Train on 2455 samples, validate on 1053 samples\n",
      "Epoch 1/10\n",
      "2455/2455 [==============================] - 28s 11ms/sample - loss: 0.6436 - accuracy: 0.6391 - val_loss: 0.5419 - val_accuracy: 0.7217\n",
      "Epoch 2/10\n",
      "2455/2455 [==============================] - 23s 9ms/sample - loss: 0.5019 - accuracy: 0.7544 - val_loss: 0.5069 - val_accuracy: 0.7759\n",
      "Epoch 3/10\n",
      "2455/2455 [==============================] - 23s 9ms/sample - loss: 0.4095 - accuracy: 0.8191 - val_loss: 0.5188 - val_accuracy: 0.7825\n",
      "Epoch 4/10\n",
      "2455/2455 [==============================] - 23s 9ms/sample - loss: 0.3604 - accuracy: 0.8440 - val_loss: 0.4953 - val_accuracy: 0.7740\n",
      "Epoch 5/10\n",
      "2455/2455 [==============================] - 23s 9ms/sample - loss: 0.2879 - accuracy: 0.8823 - val_loss: 0.5009 - val_accuracy: 0.7778\n",
      "Epoch 6/10\n",
      "2455/2455 [==============================] - 23s 9ms/sample - loss: 0.2334 - accuracy: 0.9149 - val_loss: 0.5403 - val_accuracy: 0.7749\n",
      "Epoch 7/10\n",
      "2455/2455 [==============================] - 23s 9ms/sample - loss: 0.2065 - accuracy: 0.9234 - val_loss: 0.5495 - val_accuracy: 0.7702\n",
      "Epoch 8/10\n",
      "2455/2455 [==============================] - 23s 9ms/sample - loss: 0.1864 - accuracy: 0.9348 - val_loss: 0.5756 - val_accuracy: 0.7740\n",
      "Epoch 9/10\n",
      "2455/2455 [==============================] - 23s 9ms/sample - loss: 0.1593 - accuracy: 0.9397 - val_loss: 0.6782 - val_accuracy: 0.7502\n",
      "Epoch 10/10\n",
      "2455/2455 [==============================] - 23s 9ms/sample - loss: 0.1379 - accuracy: 0.9523 - val_loss: 0.6839 - val_accuracy: 0.7474\n",
      "Accuracy: 74.74%\n"
     ]
    }
   ],
   "source": [
    "model.fit(X_train_pad, Y_train, epochs=10, batch_size=64,validation_data=(X_test_pad,Y_test))\n",
    "# Final evaluation of the model on test data\n",
    "scores = model.evaluate(X_test_pad, Y_test, verbose=0)\n",
    "print(\"Accuracy: %.2f%%\" % (scores[1]*100))"
   ]
  },
  {
   "cell_type": "code",
   "execution_count": 28,
   "metadata": {
    "scrolled": true
   },
   "outputs": [
    {
     "name": "stdout",
     "output_type": "stream",
     "text": [
      "Model: \"sequential_3\"\n",
      "_________________________________________________________________\n",
      "Layer (type)                 Output Shape              Param #   \n",
      "=================================================================\n",
      "embedding_3 (Embedding)      (None, 600, 40)           2000000   \n",
      "_________________________________________________________________\n",
      "gru_1 (GRU)                  (None, 600, 256)          228864    \n",
      "_________________________________________________________________\n",
      "simple_rnn_1 (SimpleRNN)     (None, 128)               49280     \n",
      "_________________________________________________________________\n",
      "dense_3 (Dense)              (None, 1)                 129       \n",
      "=================================================================\n",
      "Total params: 2,278,273\n",
      "Trainable params: 2,278,273\n",
      "Non-trainable params: 0\n",
      "_________________________________________________________________\n"
     ]
    }
   ],
   "source": [
    "model = Sequential()\n",
    "model.add(Embedding(top_words, embedding_vector_length, input_length=max_review_length))\n",
    "\n",
    "# The output of GRU will be a 3D tensor of shape (batch_size, timesteps, 256)\n",
    "model.add(GRU(256, return_sequences=True))\n",
    "model.add(SimpleRNN(128))\n",
    "model.add(Dense(1, activation='sigmoid'))\n",
    "model.compile(loss='binary_crossentropy', optimizer='adam', metrics=['accuracy'])\n",
    "model.summary() "
   ]
  },
  {
   "cell_type": "code",
   "execution_count": 29,
   "metadata": {},
   "outputs": [
    {
     "name": "stdout",
     "output_type": "stream",
     "text": [
      "WARNING:tensorflow:The `nb_epoch` argument in `fit` has been renamed `epochs`.\n",
      "Train on 2455 samples, validate on 1053 samples\n",
      "Epoch 1/10\n",
      "2455/2455 [==============================] - 82s 33ms/sample - loss: 0.6426 - accuracy: 0.6277 - val_loss: 0.5862 - val_accuracy: 0.7284\n",
      "Epoch 2/10\n",
      "2455/2455 [==============================] - 79s 32ms/sample - loss: 0.5189 - accuracy: 0.7352 - val_loss: 0.5092 - val_accuracy: 0.7398\n",
      "Epoch 3/10\n",
      "2455/2455 [==============================] - 78s 32ms/sample - loss: 0.4283 - accuracy: 0.8098 - val_loss: 0.7037 - val_accuracy: 0.7607\n",
      "Epoch 4/10\n",
      "2455/2455 [==============================] - 79s 32ms/sample - loss: 0.5112 - accuracy: 0.7401 - val_loss: 0.7197 - val_accuracy: 0.5005\n",
      "Epoch 5/10\n",
      "2455/2455 [==============================] - 78s 32ms/sample - loss: 0.7009 - accuracy: 0.4811 - val_loss: 0.6931 - val_accuracy: 0.5005\n",
      "Epoch 6/10\n",
      "2455/2455 [==============================] - 79s 32ms/sample - loss: 0.6933 - accuracy: 0.5132 - val_loss: 0.7014 - val_accuracy: 0.4995\n",
      "Epoch 7/10\n",
      "2455/2455 [==============================] - 78s 32ms/sample - loss: 0.6959 - accuracy: 0.5096 - val_loss: 0.6938 - val_accuracy: 0.5005\n",
      "Epoch 8/10\n",
      "2455/2455 [==============================] - 79s 32ms/sample - loss: 0.6970 - accuracy: 0.4900 - val_loss: 0.6944 - val_accuracy: 0.4995\n",
      "Epoch 9/10\n",
      "2455/2455 [==============================] - 79s 32ms/sample - loss: 0.6941 - accuracy: 0.5079 - val_loss: 0.6930 - val_accuracy: 0.5005\n",
      "Epoch 10/10\n",
      "2455/2455 [==============================] - 79s 32ms/sample - loss: 0.6884 - accuracy: 0.5373 - val_loss: 0.7133 - val_accuracy: 0.5005\n",
      "Accuracy: 50.05%\n"
     ]
    }
   ],
   "source": [
    "model.fit(X_train_pad, Y_train, epochs=10, batch_size=64,validation_data=(X_test_pad,Y_test))\n",
    "# Final evaluation of the model on test data\n",
    "scores = model.evaluate(X_test_pad, Y_test, verbose=0)\n",
    "print(\"Accuracy: %.2f%%\" % (scores[1]*100))"
   ]
  },
  {
   "cell_type": "code",
   "execution_count": 57,
   "metadata": {},
   "outputs": [
    {
     "name": "stdout",
     "output_type": "stream",
     "text": [
      "2020-02-24 21:10:47.447407: I tensorflow/core/platform/cpu_feature_guard.cc:142] Your CPU supports instructions that this TensorFlow binary was not compiled to use: AVX2 FMA\n",
      "2020-02-24 21:10:47.452944: I tensorflow/core/platform/profile_utils/cpu_utils.cc:94] CPU Frequency: 2394450000 Hz\n",
      "2020-02-24 21:10:47.453213: I tensorflow/compiler/xla/service/service.cc:168] XLA service 0x51c6fa0 executing computations on platform Host. Devices:\n",
      "2020-02-24 21:10:47.453235: I tensorflow/compiler/xla/service/service.cc:175]   StreamExecutor device (0): Host, Default Version\n",
      "Train on 8 samples, validate on 4 samples\n",
      "Epoch 1/10\n",
      "8/8 [==============================] - 2s 206ms/sample - loss: 0.7159 - accuracy: 0.3750 - val_loss: 0.6964 - val_accuracy: 0.2500\n",
      "Epoch 2/10\n",
      "8/8 [==============================] - 0s 28ms/sample - loss: 0.6054 - accuracy: 1.0000 - val_loss: 0.6731 - val_accuracy: 0.7500\n",
      "Epoch 3/10\n",
      "8/8 [==============================] - 0s 28ms/sample - loss: 0.5360 - accuracy: 1.0000 - val_loss: 0.7158 - val_accuracy: 0.2500\n",
      "Epoch 4/10\n",
      "8/8 [==============================] - 0s 27ms/sample - loss: 0.5051 - accuracy: 1.0000 - val_loss: 0.6111 - val_accuracy: 0.7500\n",
      "Epoch 5/10\n",
      "8/8 [==============================] - 0s 27ms/sample - loss: 0.5572 - accuracy: 0.7500 - val_loss: 0.6306 - val_accuracy: 0.7500\n",
      "Epoch 6/10\n",
      "8/8 [==============================] - 0s 27ms/sample - loss: 0.5228 - accuracy: 0.8750 - val_loss: 0.6009 - val_accuracy: 0.7500\n",
      "Epoch 7/10\n",
      "8/8 [==============================] - 0s 26ms/sample - loss: 0.5210 - accuracy: 0.8750 - val_loss: 0.7825 - val_accuracy: 0.2500\n",
      "Epoch 8/10\n",
      "8/8 [==============================] - 0s 27ms/sample - loss: 0.4390 - accuracy: 1.0000 - val_loss: 0.7592 - val_accuracy: 0.2500\n",
      "Epoch 9/10\n",
      "8/8 [==============================] - 0s 29ms/sample - loss: 0.4217 - accuracy: 1.0000 - val_loss: 0.7279 - val_accuracy: 0.2500\n",
      "Epoch 10/10\n",
      "8/8 [==============================] - 0s 26ms/sample - loss: 0.3889 - accuracy: 1.0000 - val_loss: 0.7001 - val_accuracy: 0.2500\n"
     ]
    }
   ],
   "source": [
    "!python task_runner.py"
   ]
  },
  {
   "cell_type": "code",
   "execution_count": null,
   "metadata": {},
   "outputs": [],
   "source": []
  }
 ],
 "metadata": {
  "kernelspec": {
   "display_name": "Python 3",
   "language": "python",
   "name": "python3"
  },
  "language_info": {
   "codemirror_mode": {
    "name": "ipython",
    "version": 3
   },
   "file_extension": ".py",
   "mimetype": "text/x-python",
   "name": "python",
   "nbconvert_exporter": "python",
   "pygments_lexer": "ipython3",
   "version": "3.6.9"
  },
  "pycharm": {
   "stem_cell": {
    "cell_type": "raw",
    "metadata": {
     "collapsed": false
    },
    "source": []
   }
  }
 },
 "nbformat": 4,
 "nbformat_minor": 4
}
