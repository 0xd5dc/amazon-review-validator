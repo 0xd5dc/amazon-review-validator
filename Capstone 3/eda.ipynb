{
 "cells": [
  {
   "cell_type": "markdown",
   "metadata": {},
   "source": [
    "# Load libraries"
   ]
  },
  {
   "cell_type": "code",
   "execution_count": 1,
   "metadata": {},
   "outputs": [],
   "source": [
    "import pickle, logging\n",
    "import tensorflow as tf\n",
    "from tensorflow.keras.preprocessing import sequence\n",
    "from tensorflow.keras.models import Sequential\n",
    "from tensorflow.keras.layers import Embedding, LSTM, Dense,SimpleRNN, GRU\n",
    "from tensorflow.keras.preprocessing.text import Tokenizer\n",
    "import pandas as pd\n",
    "import numpy as np\n",
    "from sklearn.model_selection import train_test_split\n",
    "from sklearn.metrics import roc_curve,auc\n",
    "import matplotlib.pyplot as plt"
   ]
  },
  {
   "cell_type": "code",
   "execution_count": 35,
   "metadata": {},
   "outputs": [
    {
     "data": {
      "text/plain": [
       "'2.0.1'"
      ]
     },
     "execution_count": 35,
     "metadata": {},
     "output_type": "execute_result"
    }
   ],
   "source": [
    "tf.__version__"
   ]
  },
  {
   "cell_type": "markdown",
   "metadata": {},
   "source": [
    "# Load data"
   ]
  },
  {
   "cell_type": "code",
   "execution_count": 2,
   "metadata": {},
   "outputs": [],
   "source": [
    "reviews=pd.read_csv('../data/amazon_reviews_us_Apparel_v1_00.tsv.gz.tsv',sep='\\t')"
   ]
  },
  {
   "cell_type": "code",
   "execution_count": 3,
   "metadata": {},
   "outputs": [],
   "source": [
    "reviews['label']=(reviews['verified_purchase']=='y').astype(int)"
   ]
  },
  {
   "cell_type": "code",
   "execution_count": 4,
   "metadata": {},
   "outputs": [],
   "source": [
    "reviews=reviews.dropna()"
   ]
  },
  {
   "cell_type": "code",
   "execution_count": 5,
   "metadata": {},
   "outputs": [
    {
     "data": {
      "text/plain": [
       "0.8995045187685107"
      ]
     },
     "execution_count": 5,
     "metadata": {},
     "output_type": "execute_result"
    }
   ],
   "source": [
    "reviews['label'].mean()"
   ]
  },
  {
   "cell_type": "markdown",
   "metadata": {},
   "source": [
    "# Re-samples"
   ]
  },
  {
   "cell_type": "code",
   "execution_count": 6,
   "metadata": {},
   "outputs": [],
   "source": [
    "def get_samples(df, n):\n",
    "    samples=df[:n]\n",
    "    print('Initial label mean: {0}'.format(samples['label'].mean()))\n",
    "    counts=samples.groupby('label')['label'].count().to_dict()\n",
    "    sorted_counts = sorted(counts.items(), key=lambda kv: kv[1])\n",
    "    undersample = samples[samples['label'] == sorted_counts[1][0]].sample(sorted_counts[0][1])\n",
    "    samples=pd.concat([undersample, samples[samples['label'] == sorted_counts[0][0]]])\n",
    "    print('Undersampled label mean: {0}'.format(samples['label'].mean()))\n",
    "    return samples"
   ]
  },
  {
   "cell_type": "code",
   "execution_count": 7,
   "metadata": {},
   "outputs": [],
   "source": [
    "def clean_text(df,features=['review_body','label']):\n",
    "    df['review_body'].replace(regex=[r'([^a-z\\s]+)'], value='', inplace=True)\n",
    "    return df[features].copy()"
   ]
  },
  {
   "cell_type": "code",
   "execution_count": 8,
   "metadata": {},
   "outputs": [
    {
     "name": "stdout",
     "output_type": "stream",
     "text": [
      "Initial label mean: 0.6492\n",
      "Undersampled label mean: 0.5\n"
     ]
    }
   ],
   "source": [
    "samples=get_samples(reviews, n=5000)\n",
    "samples=clean_text(samples)"
   ]
  },
  {
   "cell_type": "code",
   "execution_count": 9,
   "metadata": {},
   "outputs": [
    {
     "data": {
      "text/plain": [
       "3646                                    very cute pajamas\n",
       "580     im  and im around  but i got a large and a med...\n",
       "4084    love this toplove hue sleepwear always washes ...\n",
       "3572                                        it s allright\n",
       "3151                                            excelleny\n",
       "Name: review_body, dtype: object"
      ]
     },
     "execution_count": 9,
     "metadata": {},
     "output_type": "execute_result"
    }
   ],
   "source": [
    "samples['review_body'].head()"
   ]
  },
  {
   "cell_type": "markdown",
   "metadata": {},
   "source": [
    "## Save/Load the clean dataframe"
   ]
  },
  {
   "cell_type": "code",
   "execution_count": 32,
   "metadata": {},
   "outputs": [
    {
     "name": "stdout",
     "output_type": "stream",
     "text": [
      "Initial label mean: 0.8995045187685107\n",
      "Undersampled label mean: 0.5\n"
     ]
    }
   ],
   "source": [
    "# size=len(reviews)\n",
    "# samples=get_samples(reviews, n=size)\n",
    "# samples=clean_text(samples)\n",
    "# saved_dataframe='results/clean_data_frame.p'\n",
    "# pickle.dump( samples, open( saved_dataframe, \"wb\" ) )\n",
    "# samples= pickle.load( open( saved_dataframe, \"rb\" ) )"
   ]
  },
  {
   "cell_type": "markdown",
   "metadata": {},
   "source": [
    "# Split data"
   ]
  },
  {
   "cell_type": "code",
   "execution_count": 11,
   "metadata": {},
   "outputs": [],
   "source": [
    "def split_pad(selected_reviews):\n",
    "    X_train, X_test, Y_train, Y_test = train_test_split(selected_reviews['review_body'].values,\\\n",
    "                                                    selected_reviews['label'].values,\\\n",
    "                                                    test_size=0.10,\\\n",
    "                                                    shuffle=True)\n",
    "    for label in [Y_train, Y_test]:\n",
    "          logging.debug(\"label mean: {0}\".format(label.mean()))\n",
    "    tokenizer = Tokenizer(num_words= 50000)\n",
    "    tokenizer.fit_on_texts(X_train)\n",
    "    X_train_tok = tokenizer.texts_to_sequences(X_train)\n",
    "    X_test_tok = tokenizer.texts_to_sequences(X_test)\n",
    "    max_review_length = 600\n",
    "    X_train_pad = sequence.pad_sequences(X_train_tok, maxlen=max_review_length)\n",
    "    X_test_pad = sequence.pad_sequences(X_test_tok, maxlen=max_review_length)\n",
    "    return X_train_pad, X_test_pad, Y_train, Y_test"
   ]
  },
  {
   "cell_type": "markdown",
   "metadata": {},
   "source": [
    "# Compile models"
   ]
  },
  {
   "cell_type": "code",
   "execution_count": 12,
   "metadata": {},
   "outputs": [],
   "source": [
    "models=[]\n",
    "\n",
    "max_review_length = 600\n",
    "embedding_vector_length = 32\n",
    "top_words = 50000\n",
    "models.append(Sequential())\n",
    "model=models[-1]\n",
    "model.add(Embedding(top_words, embedding_vector_length, input_length=max_review_length))\n",
    "# The output of SimpleRNN will be a 2D tensor of shape (batch_size, 128)\n",
    "model.add(SimpleRNN(128))\n",
    "model.add(Dense(1, activation='sigmoid'))\n",
    "model.compile(loss='binary_crossentropy', optimizer='adam', metrics=['accuracy',tf.keras.metrics.Recall(),tf.keras.metrics.Precision()])"
   ]
  },
  {
   "cell_type": "code",
   "execution_count": 13,
   "metadata": {},
   "outputs": [],
   "source": [
    "embedding_vector_length = 40\n",
    "models.append(Sequential())\n",
    "model=models[-1]\n",
    "model.add(Embedding(top_words+1, embedding_vector_length, input_length=max_review_length))\n",
    "model.add(LSTM(32,return_sequences=True))\n",
    "model.add(LSTM(16))\n",
    "model.add(Dense(1, activation='sigmoid'))\n",
    "model.compile(loss='binary_crossentropy', optimizer='adam', metrics=['accuracy',tf.keras.metrics.Recall(),tf.keras.metrics.Precision()])"
   ]
  },
  {
   "cell_type": "code",
   "execution_count": 14,
   "metadata": {},
   "outputs": [],
   "source": [
    "models.append(Sequential())\n",
    "model=models[-1]\n",
    "model.add(Embedding(top_words, embedding_vector_length, input_length=max_review_length))\n",
    "# The output of GRU will be a 3D tensor of shape (batch_size, timesteps, 256)\n",
    "model.add(GRU(256, return_sequences=True))\n",
    "model.add(SimpleRNN(128))\n",
    "model.add(Dense(1, activation='sigmoid'))\n",
    "model.compile(loss='binary_crossentropy', optimizer='adam', metrics=['accuracy',tf.keras.metrics.Recall(),tf.keras.metrics.Precision()])"
   ]
  },
  {
   "cell_type": "code",
   "execution_count": 15,
   "metadata": {},
   "outputs": [],
   "source": [
    "st = tf.keras.callbacks.EarlyStopping(monitor='val_loss', patience=10)\n",
    "tb=tf.keras.callbacks.TensorBoard(log_dir='logs')"
   ]
  },
  {
   "cell_type": "code",
   "execution_count": 16,
   "metadata": {},
   "outputs": [],
   "source": [
    "!rm -rf logs"
   ]
  },
  {
   "cell_type": "code",
   "execution_count": 17,
   "metadata": {},
   "outputs": [
    {
     "name": "stdout",
     "output_type": "stream",
     "text": [
      "Train on 3157 samples, validate on 351 samples\n",
      "Epoch 1/100\n",
      "3157/3157 [==============================] - 15s 5ms/sample - loss: 0.6811 - accuracy: 0.5613 - recall: 0.5673 - precision: 0.5620 - val_loss: 0.6523 - val_accuracy: 0.6011 - val_recall: 0.9649 - val_precision: 0.5518\n",
      "Epoch 2/100\n",
      "3157/3157 [==============================] - 13s 4ms/sample - loss: 0.5917 - accuracy: 0.6988 - recall: 0.7543 - precision: 0.6800 - val_loss: 0.6114 - val_accuracy: 0.6296 - val_recall: 0.7778 - val_precision: 0.5911\n",
      "Epoch 3/100\n",
      "3157/3157 [==============================] - 12s 4ms/sample - loss: 0.5489 - accuracy: 0.7517 - recall: 0.8484 - precision: 0.7117 - val_loss: 0.6069 - val_accuracy: 0.6610 - val_recall: 0.8304 - val_precision: 0.6121\n",
      "Epoch 4/100\n",
      "3157/3157 [==============================] - 13s 4ms/sample - loss: 0.5430 - accuracy: 0.7491 - recall: 0.7915 - precision: 0.7306 - val_loss: 0.6206 - val_accuracy: 0.6410 - val_recall: 0.9123 - val_precision: 0.5843\n",
      "Epoch 5/100\n",
      "3157/3157 [==============================] - 13s 4ms/sample - loss: 0.5720 - accuracy: 0.7159 - recall: 0.7890 - precision: 0.6893 - val_loss: 0.6133 - val_accuracy: 0.6581 - val_recall: 0.8363 - val_precision: 0.6085\n",
      "Epoch 6/100\n",
      "3157/3157 [==============================] - 13s 4ms/sample - loss: 0.5546 - accuracy: 0.7672 - recall: 0.9046 - precision: 0.7103 - val_loss: 0.6140 - val_accuracy: 0.6353 - val_recall: 0.9240 - val_precision: 0.5788\n",
      "Epoch 7/100\n",
      "3157/3157 [==============================] - 12s 4ms/sample - loss: 0.5186 - accuracy: 0.7846 - recall: 0.9135 - precision: 0.7270 - val_loss: 0.6052 - val_accuracy: 0.6296 - val_recall: 0.7135 - val_precision: 0.6010\n",
      "Epoch 8/100\n",
      "3157/3157 [==============================] - 13s 4ms/sample - loss: 0.4687 - accuracy: 0.7919 - recall: 0.8869 - precision: 0.7460 - val_loss: 0.6243 - val_accuracy: 0.6553 - val_recall: 0.8129 - val_precision: 0.6096\n",
      "Epoch 9/100\n",
      "3157/3157 [==============================] - 13s 4ms/sample - loss: 0.4357 - accuracy: 0.7935 - recall: 0.8756 - precision: 0.7529 - val_loss: 0.6504 - val_accuracy: 0.6581 - val_recall: 0.8070 - val_precision: 0.6133\n",
      "Epoch 10/100\n",
      "3157/3157 [==============================] - 12s 4ms/sample - loss: 0.4143 - accuracy: 0.7913 - recall: 0.8724 - precision: 0.7514 - val_loss: 0.6718 - val_accuracy: 0.6439 - val_recall: 0.6959 - val_precision: 0.6198\n",
      "Epoch 11/100\n",
      "3157/3157 [==============================] - 13s 4ms/sample - loss: 0.3929 - accuracy: 0.7976 - recall: 0.8673 - precision: 0.7619 - val_loss: 0.6938 - val_accuracy: 0.6553 - val_recall: 0.7661 - val_precision: 0.6179\n",
      "Epoch 12/100\n",
      "3157/3157 [==============================] - 12s 4ms/sample - loss: 0.3749 - accuracy: 0.8106 - recall: 0.8699 - precision: 0.7784 - val_loss: 0.7347 - val_accuracy: 0.6496 - val_recall: 0.8246 - val_precision: 0.6026\n",
      "Epoch 13/100\n",
      "3157/3157 [==============================] - 13s 4ms/sample - loss: 0.3582 - accuracy: 0.8163 - recall: 0.8617 - precision: 0.7907 - val_loss: 0.7722 - val_accuracy: 0.6467 - val_recall: 0.8421 - val_precision: 0.5975\n",
      "Epoch 14/100\n",
      "3157/3157 [==============================] - 13s 4ms/sample - loss: 0.3459 - accuracy: 0.8337 - recall: 0.8743 - precision: 0.8094 - val_loss: 0.7591 - val_accuracy: 0.6524 - val_recall: 0.6842 - val_precision: 0.6324\n",
      "Epoch 15/100\n",
      "3157/3157 [==============================] - 13s 4ms/sample - loss: 0.3224 - accuracy: 0.8432 - recall: 0.8895 - precision: 0.8148 - val_loss: 0.7940 - val_accuracy: 0.6581 - val_recall: 0.7778 - val_precision: 0.6186\n",
      "Epoch 16/100\n",
      "3157/3157 [==============================] - 13s 4ms/sample - loss: 0.3056 - accuracy: 0.8540 - recall: 0.8939 - precision: 0.8285 - val_loss: 0.8261 - val_accuracy: 0.6496 - val_recall: 0.7719 - val_precision: 0.6111\n",
      "Epoch 17/100\n",
      "3157/3157 [==============================] - 13s 4ms/sample - loss: 0.2971 - accuracy: 0.8565 - recall: 0.8945 - precision: 0.8320 - val_loss: 0.8704 - val_accuracy: 0.6553 - val_recall: 0.8129 - val_precision: 0.6096\n",
      "loss: 0.87, accuracy 0.66\n",
      "Train on 3157 samples, validate on 351 samples\n",
      "Epoch 1/100\n",
      "3157/3157 [==============================] - 32s 10ms/sample - loss: 0.6478 - accuracy: 0.6402 - recall_1: 0.8162 - precision_1: 0.6046 - val_loss: 0.6075 - val_accuracy: 0.6439 - val_recall_1: 0.6842 - val_precision_1: 0.6223\n",
      "Epoch 2/100\n",
      "3157/3157 [==============================] - 27s 9ms/sample - loss: 0.4928 - accuracy: 0.7643 - recall_1: 0.8882 - precision_1: 0.7126 - val_loss: 0.5290 - val_accuracy: 0.7094 - val_recall_1: 0.8830 - val_precision_1: 0.6481\n",
      "Epoch 3/100\n",
      "3157/3157 [==============================] - 27s 9ms/sample - loss: 0.3948 - accuracy: 0.8185 - recall_1: 0.9160 - precision_1: 0.7672 - val_loss: 0.4888 - val_accuracy: 0.7835 - val_recall_1: 0.8889 - val_precision_1: 0.7273\n",
      "Epoch 4/100\n",
      "3157/3157 [==============================] - 27s 9ms/sample - loss: 0.3225 - accuracy: 0.8685 - recall_1: 0.9438 - precision_1: 0.8209 - val_loss: 0.5725 - val_accuracy: 0.7578 - val_recall_1: 0.8830 - val_precision_1: 0.6991\n",
      "Epoch 5/100\n",
      "3157/3157 [==============================] - 27s 9ms/sample - loss: 0.2739 - accuracy: 0.8999 - recall_1: 0.9488 - precision_1: 0.8647 - val_loss: 0.6078 - val_accuracy: 0.7664 - val_recall_1: 0.8304 - val_precision_1: 0.7282\n",
      "Epoch 6/100\n",
      "3157/3157 [==============================] - 27s 8ms/sample - loss: 0.2311 - accuracy: 0.9164 - recall_1: 0.9482 - precision_1: 0.8919 - val_loss: 0.5697 - val_accuracy: 0.7521 - val_recall_1: 0.7953 - val_precision_1: 0.7234\n",
      "Epoch 7/100\n",
      "3157/3157 [==============================] - 26s 8ms/sample - loss: 0.1926 - accuracy: 0.9328 - recall_1: 0.9646 - precision_1: 0.9073 - val_loss: 0.6468 - val_accuracy: 0.7493 - val_recall_1: 0.8713 - val_precision_1: 0.6930\n",
      "Epoch 8/100\n",
      "3157/3157 [==============================] - 27s 8ms/sample - loss: 0.1827 - accuracy: 0.9351 - recall_1: 0.9659 - precision_1: 0.9101 - val_loss: 0.6824 - val_accuracy: 0.7493 - val_recall_1: 0.7953 - val_precision_1: 0.7196\n",
      "Epoch 9/100\n",
      "3157/3157 [==============================] - 27s 9ms/sample - loss: 0.1362 - accuracy: 0.9534 - recall_1: 0.9773 - precision_1: 0.9331 - val_loss: 0.7616 - val_accuracy: 0.7407 - val_recall_1: 0.7661 - val_precision_1: 0.7198\n",
      "Epoch 10/100\n",
      "3157/3157 [==============================] - 27s 8ms/sample - loss: 0.1198 - accuracy: 0.9582 - recall_1: 0.9785 - precision_1: 0.9405 - val_loss: 0.8099 - val_accuracy: 0.7493 - val_recall_1: 0.7368 - val_precision_1: 0.7456\n",
      "Epoch 11/100\n",
      "3157/3157 [==============================] - 27s 8ms/sample - loss: 0.1094 - accuracy: 0.9655 - recall_1: 0.9810 - precision_1: 0.9516 - val_loss: 0.8544 - val_accuracy: 0.7464 - val_recall_1: 0.7602 - val_precision_1: 0.7303\n",
      "Epoch 12/100\n",
      "3157/3157 [==============================] - 27s 8ms/sample - loss: 0.1500 - accuracy: 0.9500 - recall_1: 0.9589 - precision_1: 0.9423 - val_loss: 0.6968 - val_accuracy: 0.7550 - val_recall_1: 0.7895 - val_precision_1: 0.7297\n",
      "Epoch 13/100\n",
      "3157/3157 [==============================] - 27s 8ms/sample - loss: 0.1384 - accuracy: 0.9534 - recall_1: 0.9728 - precision_1: 0.9367 - val_loss: 0.8213 - val_accuracy: 0.7407 - val_recall_1: 0.7661 - val_precision_1: 0.7198\n",
      "loss: 0.82, accuracy 0.74\n",
      "Train on 3157 samples, validate on 351 samples\n",
      "Epoch 1/100\n",
      "3157/3157 [==============================] - 97s 31ms/sample - loss: 0.6504 - accuracy: 0.5917 - recall_2: 0.6241 - precision_2: 0.5874 - val_loss: 0.5796 - val_accuracy: 0.6638 - val_recall_2: 0.6550 - val_precision_2: 0.6550\n",
      "Epoch 2/100\n",
      "3157/3157 [==============================] - 94s 30ms/sample - loss: 0.7027 - accuracy: 0.6205 - recall_2: 0.5730 - precision_2: 0.6347 - val_loss: 0.6261 - val_accuracy: 0.6011 - val_recall_2: 0.3684 - val_precision_2: 0.6632\n",
      "Epoch 3/100\n",
      "3157/3157 [==============================] - 93s 29ms/sample - loss: 0.5312 - accuracy: 0.7384 - recall_2: 0.8016 - precision_2: 0.7125 - val_loss: 0.5756 - val_accuracy: 0.6952 - val_recall_2: 0.8538 - val_precision_2: 0.6404\n",
      "Epoch 4/100\n",
      "3157/3157 [==============================] - 93s 29ms/sample - loss: 0.4338 - accuracy: 0.7932 - recall_2: 0.8358 - precision_2: 0.7710 - val_loss: 0.5547 - val_accuracy: 0.7094 - val_recall_2: 0.8012 - val_precision_2: 0.6683\n",
      "Epoch 5/100\n",
      "3157/3157 [==============================] - 92s 29ms/sample - loss: 0.3412 - accuracy: 0.8505 - recall_2: 0.8869 - precision_2: 0.8273 - val_loss: 0.5798 - val_accuracy: 0.7037 - val_recall_2: 0.8246 - val_precision_2: 0.6558\n",
      "Epoch 6/100\n",
      "3157/3157 [==============================] - 92s 29ms/sample - loss: 0.2595 - accuracy: 0.8974 - recall_2: 0.9210 - precision_2: 0.8799 - val_loss: 0.6252 - val_accuracy: 0.7265 - val_recall_2: 0.7602 - val_precision_2: 0.7027\n",
      "Epoch 7/100\n",
      "3157/3157 [==============================] - 93s 29ms/sample - loss: 0.1943 - accuracy: 0.9284 - recall_2: 0.9495 - precision_2: 0.9115 - val_loss: 0.7420 - val_accuracy: 0.7123 - val_recall_2: 0.7719 - val_precision_2: 0.6804\n",
      "Epoch 8/100\n",
      "3157/3157 [==============================] - 93s 29ms/sample - loss: 0.1455 - accuracy: 0.9458 - recall_2: 0.9608 - precision_2: 0.9331 - val_loss: 0.7874 - val_accuracy: 0.7123 - val_recall_2: 0.7427 - val_precision_2: 0.6902\n",
      "Epoch 9/100\n",
      "3157/3157 [==============================] - 93s 29ms/sample - loss: 0.1436 - accuracy: 0.9424 - recall_2: 0.9501 - precision_2: 0.9359 - val_loss: 0.9092 - val_accuracy: 0.6980 - val_recall_2: 0.7895 - val_precision_2: 0.6585\n",
      "Epoch 10/100\n",
      "3157/3157 [==============================] - 93s 30ms/sample - loss: 0.1053 - accuracy: 0.9595 - recall_2: 0.9722 - precision_2: 0.9482 - val_loss: 0.9832 - val_accuracy: 0.7094 - val_recall_2: 0.7661 - val_precision_2: 0.6788\n",
      "Epoch 11/100\n",
      "3157/3157 [==============================] - 93s 30ms/sample - loss: 0.0850 - accuracy: 0.9677 - recall_2: 0.9804 - precision_2: 0.9563 - val_loss: 1.0486 - val_accuracy: 0.6724 - val_recall_2: 0.6901 - val_precision_2: 0.6556\n",
      "Epoch 12/100\n",
      "3157/3157 [==============================] - 93s 30ms/sample - loss: 0.0775 - accuracy: 0.9709 - recall_2: 0.9773 - precision_2: 0.9651 - val_loss: 1.1691 - val_accuracy: 0.7009 - val_recall_2: 0.7836 - val_precision_2: 0.6634\n",
      "Epoch 13/100\n",
      "3157/3157 [==============================] - 93s 29ms/sample - loss: 0.0720 - accuracy: 0.9747 - recall_2: 0.9817 - precision_2: 0.9682 - val_loss: 1.1923 - val_accuracy: 0.6866 - val_recall_2: 0.6608 - val_precision_2: 0.6848\n",
      "Epoch 14/100\n",
      "3157/3157 [==============================] - 93s 29ms/sample - loss: 0.0664 - accuracy: 0.9737 - recall_2: 0.9817 - precision_2: 0.9664 - val_loss: 1.2552 - val_accuracy: 0.6838 - val_recall_2: 0.7310 - val_precision_2: 0.6579\n",
      "loss: 1.26, accuracy 0.68\n"
     ]
    }
   ],
   "source": [
    "X_train_pad, X_test_pad, Y_train, Y_test=split_pad(samples)\n",
    "for model in models:\n",
    "    model.fit(X_train_pad, Y_train, epochs=100, callbacks=[st], batch_size=64,validation_data=(X_test_pad,Y_test))\n",
    "    # Final evaluation of the model on test data\n",
    "    scores = model.evaluate(X_test_pad, Y_test, verbose=0)\n",
    "    print(\"loss: {0:2.2f}, accuracy {1:2.2f}\".format(scores[0],scores[1]))"
   ]
  },
  {
   "cell_type": "code",
   "execution_count": 18,
   "metadata": {},
   "outputs": [],
   "source": [
    "def get_roc(model):\n",
    "    y_pred_keras = model.predict(X_test_pad).ravel()\n",
    "    fpr_keras, tpr_keras, thresholds_keras = roc_curve(Y_test, y_pred_keras)\n",
    "    auc_keras = auc(fpr_keras, tpr_keras)\n",
    "    return fpr_keras, tpr_keras, auc_keras"
   ]
  },
  {
   "cell_type": "code",
   "execution_count": 21,
   "metadata": {},
   "outputs": [],
   "source": [
    "names=['Simple RNN','LSTM','GRU']"
   ]
  },
  {
   "cell_type": "code",
   "execution_count": 40,
   "metadata": {},
   "outputs": [
    {
     "data": {
      "image/png": "[encoded data removed]",
      "text/plain": [
       "<Figure size 1152x648 with 1 Axes>"
      ]
     },
     "metadata": {
      "needs_background": "light"
     },
     "output_type": "display_data"
    }
   ],
   "source": [
    "plt.figure(1,figsize=(16,9))\n",
    "plt.plot([0, 1], [0, 1], 'k--')\n",
    "for i,model in enumerate(models):\n",
    "    fpr_keras, tpr_keras, auc_keras=get_roc(model)\n",
    "    plt.plot(fpr_keras, tpr_keras, label='{0} (area = {1:.3f})'.format(names[i],auc_keras))\n",
    "plt.xlabel('False positive rate', fontsize= 30)\n",
    "plt.ylabel('True positive rate', fontsize= 30)\n",
    "plt.title('ROC curve', fontsize= 30)\n",
    "plt.legend(loc='best', fontsize= 20)\n",
    "plt.savefig('results/roc.png')\n",
    "plt.show()"
   ]
  }
 ],
 "metadata": {
  "kernelspec": {
   "display_name": "Python 3",
   "language": "python",
   "name": "python3"
  },
  "language_info": {
   "codemirror_mode": {
    "name": "ipython",
    "version": 3
   },
   "file_extension": ".py",
   "mimetype": "text/x-python",
   "name": "python",
   "nbconvert_exporter": "python",
   "pygments_lexer": "ipython3",
   "version": "3.6.9"
  },
  "pycharm": {
   "stem_cell": {
    "cell_type": "raw",
    "metadata": {
     "collapsed": false
    },
    "source": []
   }
  }
 },
 "nbformat": 4,
 "nbformat_minor": 4
}
