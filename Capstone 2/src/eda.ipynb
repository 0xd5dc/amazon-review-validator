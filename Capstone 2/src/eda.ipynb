{
 "cells": [
  {
   "cell_type": "code",
   "execution_count": 3,
   "metadata": {},
   "outputs": [
    {
     "name": "stdout",
     "output_type": "stream",
     "text": [
      "hello works\n"
     ]
    }
   ],
   "source": [
    "# %load ../../templates/load_libs.py\n",
    "import sys\n",
    "from pyspark.ml.classification import LogisticRegression, NaiveBayes, DecisionTreeClassifier, GBTClassifier, \\\n",
    "    RandomForestClassifier\n",
    "# set project directory for shared library\n",
    "PROJECT_DIR='/home/jovyan/work/amazon-review-validator'\n",
    "if PROJECT_DIR not in sys.path:\n",
    "    sys.path.insert(0, PROJECT_DIR)\n",
    "    \n",
    "from libs.utils import hello\n",
    "hello()"
   ]
  },
  {
   "cell_type": "code",
   "execution_count": 7,
   "metadata": {},
   "outputs": [],
   "source": [
    "# %load ../../templates/load_data.py\n",
    "import pyspark as ps\n",
    "from pyspark.sql.types import StructField, StructType, StringType, IntegerType\n",
    "\n",
    "DATA_FILE = '../../data/amazon_reviews_us_Camera_v1_00.tsv.gz'\n",
    "APP_NAME = 'EDA'\n",
    "FEATURES = ['star_rating', 'review_body', 'helpful_votes', 'total_votes', 'verified_purchase', 'review_date']\n",
    "SAMPLE_SIZE = 10000\n",
    "\n",
    "review_schema = StructType(\n",
    "    [StructField('marketplace', StringType(), True),\n",
    "     StructField('customer_id', StringType(), True),\n",
    "     StructField('review_id', StringType(), True),\n",
    "     StructField('product_id', StringType(), True),\n",
    "     StructField('product_parent', StringType(), True),\n",
    "     StructField('product_title', StringType(), True),\n",
    "     StructField('product_category', StringType(), True),\n",
    "     StructField('star_rating', IntegerType(), True),\n",
    "     StructField('helpful_votes', IntegerType(), True),\n",
    "     StructField('total_votes', IntegerType(), True),\n",
    "     StructField('vine', StringType(), True),\n",
    "     StructField('verified_purchase', StringType(), True),\n",
    "     StructField('review_headline', StringType(), True),\n",
    "     StructField('review_body', StringType(), True),\n",
    "     StructField('review_date', StringType(), True)])\n",
    "\n",
    "spark = (ps.sql.SparkSession.builder\n",
    "         .master(\"local[1]\")\n",
    "         .appName(APP_NAME)\n",
    "         .getOrCreate()\n",
    "         )\n",
    "sc = spark.sparkContext\n",
    "\n",
    "df = spark.read.format(\"csv\") \\\n",
    "    .option(\"header\", \"true\") \\\n",
    "    .option(\"sep\", \"\\t\") \\\n",
    "    .schema(review_schema) \\\n",
    "    .load(DATA_FILE)\n",
    "df.createOrReplaceTempView(\"dfTable\")\n",
    "\n",
    "review_all = df.select(FEATURES)\n",
    "review_sample = df.select(FEATURES).limit(SAMPLE_SIZE).cache()\n"
   ]
  },
  {
   "cell_type": "code",
   "execution_count": 26,
   "metadata": {},
   "outputs": [
    {
     "name": "stdout",
     "output_type": "stream",
     "text": [
      "+-----------+--------+--------+--------+--------+--------+\n",
      "|customer_id|one_star|two_star|tre_star|qua_star|cin_star|\n",
      "+-----------+--------+--------+--------+--------+--------+\n",
      "|   11298115|      28|       2|       0|       0|       2|\n",
      "|   12572844|      26|       0|       0|       0|       0|\n",
      "|   49010601|      24|       0|       0|       0|       0|\n",
      "|   47129351|      24|       1|       0|       0|       0|\n",
      "|   35955273|      21|       0|       5|       1|      45|\n",
      "|   25109130|      20|       0|       0|       0|       3|\n",
      "|   10430957|      19|       0|       0|       0|       0|\n",
      "|   50350415|      19|       8|       5|      18|      27|\n",
      "|   45420831|      17|       0|       0|       0|       0|\n",
      "|   36814878|      16|       2|       5|       2|      19|\n",
      "|   52614016|      16|      15|       7|       8|      23|\n",
      "|   12761652|      16|       0|       0|       0|       0|\n",
      "|    8199747|      16|       1|       2|       1|      16|\n",
      "|   13027341|      14|       3|       0|       0|       0|\n",
      "|   52482526|      13|       0|       0|       0|       7|\n",
      "|   20865812|      13|       0|       0|       0|       0|\n",
      "|   23372436|      13|       3|       4|      12|      16|\n",
      "|   36410465|      13|       3|      13|       7|       2|\n",
      "|   29233410|      12|       0|       1|       1|       0|\n",
      "|    1260834|      12|       0|       0|       2|      12|\n",
      "+-----------+--------+--------+--------+--------+--------+\n",
      "only showing top 20 rows\n",
      "\n"
     ]
    }
   ],
   "source": [
    "spark.sql(\n",
    "        \"select customer_id, count(if (star_rating==1,1,NULL)) as one_star, count(if (star_rating==2,1,NULL)) as two_star, count(if (star_rating==3,1,NULL)) as tre_star, count(if (star_rating==4,1,NULL)) as qua_star, count(if (star_rating==5,1,NULL)) as cin_star from eda_sql_view group by customer_id order by one_star desc \").show()"
   ]
  },
  {
   "cell_type": "code",
   "execution_count": 27,
   "metadata": {},
   "outputs": [
    {
     "name": "stdout",
     "output_type": "stream",
     "text": [
      "+-----------+--------+--------+--------+--------+--------+\n",
      "|customer_id|one_star|two_star|tre_star|qua_star|cin_star|\n",
      "+-----------+--------+--------+--------+--------+--------+\n",
      "|   31588426|       4|       2|       7|      59|     213|\n",
      "|    9115336|       0|       0|       1|      17|     122|\n",
      "|   45371561|       0|       1|       3|       6|     116|\n",
      "|   38681283|       0|       1|       3|       6|     104|\n",
      "|   52340667|      11|       7|       9|      16|     103|\n",
      "|   40109303|       0|       0|       0|      20|     103|\n",
      "|   50820654|       1|       2|      15|      70|     103|\n",
      "|   52859210|       9|       2|      10|      13|      95|\n",
      "|   52764559|       9|      10|      12|      49|      91|\n",
      "|   48640632|       0|       0|       4|      10|      90|\n",
      "|   44777060|       1|       1|      11|      45|      90|\n",
      "|   16255502|       1|       0|       2|       1|      89|\n",
      "|    2840168|       0|       0|       1|       0|      89|\n",
      "|   53017806|       0|       0|       0|       6|      87|\n",
      "|   50854611|       2|       4|       3|       5|      86|\n",
      "|   24550970|       4|       0|       7|      30|      85|\n",
      "|   52904056|       0|       2|       1|      10|      84|\n",
      "|   51865210|       2|       6|       5|      26|      81|\n",
      "|   20096217|       0|       0|       0|       8|      77|\n",
      "|    2383044|       1|       1|       1|       9|      75|\n",
      "+-----------+--------+--------+--------+--------+--------+\n",
      "only showing top 20 rows\n",
      "\n"
     ]
    }
   ],
   "source": [
    "spark.sql(\n",
    "        \"select customer_id, count(if (star_rating==1,1,NULL)) as one_star, count(if (star_rating==2,1,NULL)) as two_star, count(if (star_rating==3,1,NULL)) as tre_star, count(if (star_rating==4,1,NULL)) as qua_star, count(if (star_rating==5,1,NULL)) as cin_star from eda_sql_view group by customer_id order by cin_star desc \").show()"
   ]
  },
  {
   "cell_type": "code",
   "execution_count": 28,
   "metadata": {},
   "outputs": [
    {
     "name": "stdout",
     "output_type": "stream",
     "text": [
      "+----------------------------+\n",
      "|percentage_verified_purchase|\n",
      "+----------------------------+\n",
      "|          0.8293132975281552|\n",
      "+----------------------------+\n",
      "\n"
     ]
    }
   ],
   "source": [
    "spark.sql(\n",
    "    \"SELECT  (COUNT(IF (verified_purchase == 'Y', 1, NULL))/COUNT(*)) as percentage_verified_purchase FROM eda_sql_view\").show()"
   ]
  },
  {
   "cell_type": "code",
   "execution_count": 29,
   "metadata": {},
   "outputs": [
    {
     "name": "stdout",
     "output_type": "stream",
     "text": [
      "+----------------------+\n",
      "|percentage_star_rating|\n",
      "+----------------------+\n",
      "|    0.7765961107096995|\n",
      "+----------------------+\n",
      "\n"
     ]
    }
   ],
   "source": [
    "spark.sql(\n",
    "    \"SELECT  (COUNT(IF (star_rating >3, 1, NULL))/COUNT(*)) as percentage_star_rating FROM eda_sql_view\").show()"
   ]
  },
  {
   "cell_type": "code",
   "execution_count": 30,
   "metadata": {},
   "outputs": [
    {
     "name": "stdout",
     "output_type": "stream",
     "text": [
      "+-----------------+-------+\n",
      "|verified_purchase| counts|\n",
      "+-----------------+-------+\n",
      "|                Y|1494401|\n",
      "|                N| 307571|\n",
      "|             null|      0|\n",
      "+-----------------+-------+\n",
      "\n"
     ]
    }
   ],
   "source": [
    "spark.sql(\n",
    "    \"select verified_purchase, count(verified_purchase) as counts from EDA_sql_view group by verified_purchase order by counts desc \").show()"
   ]
  },
  {
   "cell_type": "code",
   "execution_count": 31,
   "metadata": {},
   "outputs": [
    {
     "name": "stdout",
     "output_type": "stream",
     "text": [
      "+-----------+-------+\n",
      "|star_rating| counts|\n",
      "+-----------+-------+\n",
      "|          5|1062706|\n",
      "|          4| 336700|\n",
      "|          1| 170157|\n",
      "|          3| 141460|\n",
      "|          2|  90949|\n",
      "|       null|      0|\n",
      "+-----------+-------+\n",
      "\n"
     ]
    }
   ],
   "source": [
    "spark.sql(\n",
    "    \"select star_rating, count(star_rating) as counts from EDA_sql_view group by star_rating order by counts desc \").show()"
   ]
  },
  {
   "cell_type": "code",
   "execution_count": 2,
   "metadata": {},
   "outputs": [
    {
     "name": "stdout",
     "output_type": "stream",
     "text": [
      "+-----------------+---+----+\n",
      "|          average|min| max|\n",
      "+-----------------+---+----+\n",
      "|2.905414179576597|  0|5132|\n",
      "+-----------------+---+----+\n",
      "\n"
     ]
    }
   ],
   "source": [
    "spark.sql(\"select avg(helpful_votes) as average, min(helpful_votes) as min, max(helpful_votes) as max from eda_sql_view\").show()\n"
   ]
  },
  {
   "cell_type": "code",
   "execution_count": 3,
   "metadata": {},
   "outputs": [
    {
     "name": "stdout",
     "output_type": "stream",
     "text": [
      "+------------------+---+------+\n",
      "|           average|min|   max|\n",
      "+------------------+---+------+\n",
      "|16.515151515151516| \u001a\u001a|🚘🎥👍|\n",
      "+------------------+---+------+\n",
      "\n"
     ]
    }
   ],
   "source": [
    "spark.sql(\"select avg(review_body) as average, min(review_body) as min, max(review_body) as max from eda_sql_view\").show()"
   ]
  },
  {
   "cell_type": "code",
   "execution_count": 4,
   "metadata": {},
   "outputs": [
    {
     "name": "stdout",
     "output_type": "stream",
     "text": [
      "+-----------------+---+-----+\n",
      "|          average|min|  max|\n",
      "+-----------------+---+-----+\n",
      "|420.7652951133557|  1|48929|\n",
      "+-----------------+---+-----+\n",
      "\n"
     ]
    }
   ],
   "source": [
    "spark.sql(\n",
    "    \"select avg(length(review_body)) as average, min(length(review_body)) as min, max(length(review_body)) as max from eda_sql_view\").show()"
   ]
  },
  {
   "cell_type": "code",
   "execution_count": 16,
   "metadata": {},
   "outputs": [
    {
     "data": {
      "text/plain": [
       "15"
      ]
     },
     "execution_count": 16,
     "metadata": {},
     "output_type": "execute_result"
    }
   ],
   "source": [
    "len(df.columns)"
   ]
  },
  {
   "cell_type": "code",
   "execution_count": 14,
   "metadata": {},
   "outputs": [
    {
     "name": "stdout",
     "output_type": "stream",
     "text": [
      "+--------------------------+\n",
      "|count(DISTINCT product_id)|\n",
      "+--------------------------+\n",
      "|                    168675|\n",
      "+--------------------------+\n",
      "\n"
     ]
    }
   ],
   "source": [
    "spark.sql(\n",
    "   \"Select count( distinct product_id) from eda_sql_view\").show()"
   ]
  }
 ],
 "metadata": {
  "kernelspec": {
   "display_name": "Python 3",
   "language": "python",
   "name": "python3"
  },
  "language_info": {
   "codemirror_mode": {
    "name": "ipython",
    "version": 3
   },
   "file_extension": ".py",
   "mimetype": "text/x-python",
   "name": "python",
   "nbconvert_exporter": "python",
   "pygments_lexer": "ipython3",
   "version": "3.7.3"
  }
 },
 "nbformat": 4,
 "nbformat_minor": 4
}
