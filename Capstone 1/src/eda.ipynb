{
 "cells": [
  {
   "cell_type": "markdown",
   "metadata": {},
   "source": [
    "# Summary\n",
    "1. explore the data with sql\n",
    "    - target columns:\n",
    "        - star_rating\n",
    "        - verified_purchase\n",
    "    - questions:\n",
    "        - how does a user rate?\n",
    "            - is there corelation between new rating and the product title length?\n",
    "            - is there corelation between new rating and the review headline length?  \n",
    "            - is there corelation between new rating and the review body length?  \n",
    "            - is there corelation between new rating and the review date(age)?  \n",
    "            - is there corelation between new rating and the verified purchase?  \n",
    "            - is there corelation between new rating and the vine?  \n",
    "            - is there corelation between new rating and the helpful votes?  \n",
    "            - is there corelation between new rating and the total votes?  \n",
    "            - is there corelation between new rating and the accumulated rating?  \n",
    "                - for the same product_id, calculate avg accumulated rating for each review date\n",
    "            - is there corelation between new rating and the accumulated number of reviews?  \n",
    "        - did a user have a purchase?\n",
    "            - is there corelation between the verified purchase and the product title length?\n",
    "            - is there corelation between the verified purchase and the review headline length?  \n",
    "            - is there corelation between the verified purchase and the review body length?  \n",
    "            - is there corelation between the verified purchase and the review date(age)?  \n",
    "            - is there corelation between the verified purchase and the star rating?  \n",
    "            - is there corelation between the verified purchase and the vine?  \n",
    "            - is there corelation between the verified purchase and the accumulated rating?  \n",
    "            - is there corelation between the verified purchase and the accumulated number of reviews?  \n",
    "            - is there corelation between the verified purchase and the accumulated helpful votes?  \n",
    "            - is there corelation between the verified purchase and the accumulated total votes?           \n",
    "2. generate new columns based on the findings/trends from the previous step\n",
    "3. perform Null Hypothesis Test on the sample and the whole dataset\n",
    "4. output the results and visualizations "
   ]
  },
  {
   "cell_type": "code",
   "execution_count": 3,
   "metadata": {},
   "outputs": [],
   "source": [
    "# %load \"../../utils/environment.py\"\n",
    "from pyspark.ml.classification import LogisticRegression, NaiveBayes, DecisionTreeClassifier, GBTClassifier, \\\n",
    "    RandomForestClassifier\n",
    "import pyspark as ps\n",
    "from pyspark.sql.types import StructField, StructType, StringType, IntegerType\n",
    "from pyspark.sql.functions import current_date, expr, datediff, to_date, lit, coalesce, length, regexp_replace,count,isnan,when,col\n",
    "\n",
    "DATA_FILE = '../../data/amazon_reviews_us_Camera_v1_00.tsv.gz'\n",
    "APP_NAME = 'EDA'\n",
    "FEATURES = ['star_rating', 'exclam', 'helfulness', 'review_length', 'verified_purchase', 'age']\n",
    "SAMPLE_SIZE = 10000\n",
    "\n",
    "review_schema = StructType(\n",
    "    [StructField('marketplace', StringType(), True),\n",
    "     StructField('customer_id', StringType(), True),\n",
    "     StructField('review_id', StringType(), True),\n",
    "     StructField('product_id', StringType(), True),\n",
    "     StructField('product_parent', StringType(), True),\n",
    "     StructField('product_title', StringType(), True),\n",
    "     StructField('product_category', StringType(), True),\n",
    "     StructField('star_rating', IntegerType(), True),\n",
    "     StructField('helpful_votes', IntegerType(), True),\n",
    "     StructField('total_votes', IntegerType(), True),\n",
    "     StructField('vine', StringType(), True),\n",
    "     StructField('verified_purchase', StringType(), True),\n",
    "     StructField('review_headline', StringType(), True),\n",
    "     StructField('review_body', StringType(), True),\n",
    "     StructField('review_date', StringType(), True)])\n",
    "\n",
    "spark = (ps.sql.SparkSession.builder\n",
    "         .master(\"local[1]\")\n",
    "         .appName(APP_NAME)\n",
    "         .getOrCreate()\n",
    "         )\n",
    "sc = spark.sparkContext\n",
    "\n",
    "df = spark.read.format(\"csv\") \\\n",
    "    .option(\"header\", \"true\") \\\n",
    "    .option(\"sep\", \"\\t\") \\\n",
    "    .schema(review_schema) \\\n",
    "    .load(DATA_FILE)\n",
    "df=df.na.drop(subset=[\"star_rating\"])\n",
    "df=df.fillna('',subset=['review_body'])\n",
    "\n",
    "df = df.withColumn('review_length', length('review_body'))\n",
    "df = df.withColumn('review_headline_length', length('review_headline'))\n",
    "df = df.withColumn('product_title_length', length('product_title'))\n",
    "\n",
    "df = df.withColumn('exclam',  df['review_length'] - length(regexp_replace('review_body', '\\!', '')))\n",
    "df = df.withColumn('positive',  (df['star_rating']>3).cast('integer'))\n",
    "df = df.withColumn('age', datediff(current_date(), to_date(df['review_date'])))\n",
    "df = df.withColumn('helfulness', coalesce(df['helpful_votes'] / df['total_votes'],lit(0.0)))\n",
    "df = df.withColumn('label', expr(\"CAST(verified_purchase='Y' As INT)\"))\n",
    "df = df.withColumn('vine', expr(\"CAST(vine='Y' As INT)\"))\n",
    "fill_na_mean(df,'age')\n",
    "\n",
    "review_all = df.select(FEATURES)\n",
    "review_sample = df.select(FEATURES).limit(SAMPLE_SIZE).cache()\n"
   ]
  },
  {
   "cell_type": "code",
   "execution_count": 4,
   "metadata": {},
   "outputs": [],
   "source": [
    "df.createOrReplaceTempView('df')"
   ]
  },
  {
   "cell_type": "code",
   "execution_count": 131,
   "metadata": {},
   "outputs": [
    {
     "name": "stdout",
     "output_type": "stream",
     "text": [
      "+-----------+-----------+---------+----------+--------------+-------------+----------------+-----------+-------------+-----------+----+-----------------+---------------+-----------+-----------+-------------+----------------------+--------------------+------+--------+---+----------+-----+\n",
      "|marketplace|customer_id|review_id|product_id|product_parent|product_title|product_category|star_rating|helpful_votes|total_votes|vine|verified_purchase|review_headline|review_body|review_date|review_length|review_headline_length|product_title_length|exclam|positive|age|helfulness|label|\n",
      "+-----------+-----------+---------+----------+--------------+-------------+----------------+-----------+-------------+-----------+----+-----------------+---------------+-----------+-----------+-------------+----------------------+--------------------+------+--------+---+----------+-----+\n",
      "|          0|          0|        0|         0|             0|            0|               0|          0|            0|          0|   0|                0|              0|          0|         56|            0|                     0|                   0|     0|       0| 56|         0|    0|\n",
      "+-----------+-----------+---------+----------+--------------+-------------+----------------+-----------+-------------+-----------+----+-----------------+---------------+-----------+-----------+-------------+----------------------+--------------------+------+--------+---+----------+-----+\n",
      "\n"
     ]
    }
   ],
   "source": [
    "df.select([count(when(isnan(c) | col(c).isNull(), c)).alias(c) for c in df.columns]).show()"
   ]
  },
  {
   "cell_type": "code",
   "execution_count": null,
   "metadata": {},
   "outputs": [],
   "source": []
  },
  {
   "cell_type": "code",
   "execution_count": 11,
   "metadata": {},
   "outputs": [
    {
     "name": "stdout",
     "output_type": "stream",
     "text": [
      "+--------------+----------+----+-----------+------------------+\n",
      "|     review_id|product_id| age|star_rating|accum_review_count|\n",
      "+--------------+----------+----+-----------+------------------+\n",
      "|R1O6Z1DDT2P1XI|B00000J47G|1809|          5|                 1|\n",
      "|R1JG9M7Z29JZ8A|B00000J47G|1815|          5|                 2|\n",
      "|R1JJGHPWABDFXV|B00000J47G|4786|          5|                 3|\n",
      "|R2RMYNWCP79YVQ|B00000J47G|4788|          1|                 4|\n",
      "|R2TBZTLKU11VZU|B00000J47G|5077|          5|                 5|\n",
      "|R14B3XKWH0WQDL|B00000J47G|5799|          3|                 6|\n",
      "| R9EVQ9YXO8N5V|B00000J47G|5815|          1|                 7|\n",
      "| RJTDPXIPVVQIA|B00000J47G|5918|          1|                 8|\n",
      "|R1K9NN4IK0S7NT|B00000J47G|6130|          4|                 9|\n",
      "| R36SG72DYDIQL|B00000J47G|6414|          4|                10|\n",
      "| R5OS4MY8RBGZG|B00000J47G|6415|          5|                12|\n",
      "|R3LVY8TXNJ733Q|B00000J47G|6415|          5|                12|\n",
      "|R215WFCN9MNL6G|B00000J47G|6433|          2|                13|\n",
      "|R26PAZIJEFDJAS|B00000J47G|6578|          3|                14|\n",
      "|R3UHF6V7HMS8QM|B00000J47G|6579|          2|                15|\n",
      "| R6UC449NEDBFN|B00000J47G|6742|          3|                16|\n",
      "| R9VKU1MN33B1U|B00004SC3R|5788|          2|                 1|\n",
      "|R2RX0CVDMD3Z3E|B00004SC3R|6018|          5|                 2|\n",
      "| RO4OKM6P8AJIK|B00004SC3R|6320|          5|                 3|\n",
      "| R5TZ3KI9HBOAZ|B00004SC3R|6659|          5|                 4|\n",
      "+--------------+----------+----+-----------+------------------+\n",
      "only showing top 20 rows\n",
      "\n"
     ]
    }
   ],
   "source": [
    "spark.sql('''select review_id, product_id, age, star_rating, sum(1) over (partition by product_id order by age) as accum_review_count from df''').show()"
   ]
  },
  {
   "cell_type": "code",
   "execution_count": 6,
   "metadata": {},
   "outputs": [
    {
     "name": "stdout",
     "output_type": "stream",
     "text": [
      "+--------------+----------+----+-----------+------------------+\n",
      "|     review_id|product_id| age|star_rating|      accum_rating|\n",
      "+--------------+----------+----+-----------+------------------+\n",
      "|R1O6Z1DDT2P1XI|B00000J47G|1809|          5|               5.0|\n",
      "|R1JG9M7Z29JZ8A|B00000J47G|1815|          5|               5.0|\n",
      "|R1JJGHPWABDFXV|B00000J47G|4786|          5|               5.0|\n",
      "|R2RMYNWCP79YVQ|B00000J47G|4788|          1|               4.0|\n",
      "|R2TBZTLKU11VZU|B00000J47G|5077|          5|               4.2|\n",
      "|R14B3XKWH0WQDL|B00000J47G|5799|          3|               4.0|\n",
      "| R9EVQ9YXO8N5V|B00000J47G|5815|          1|3.5714285714285716|\n",
      "| RJTDPXIPVVQIA|B00000J47G|5918|          1|              3.25|\n",
      "|R1K9NN4IK0S7NT|B00000J47G|6130|          4|3.3333333333333335|\n",
      "| R36SG72DYDIQL|B00000J47G|6414|          4|               3.4|\n",
      "| R5OS4MY8RBGZG|B00000J47G|6415|          5|3.6666666666666665|\n",
      "|R3LVY8TXNJ733Q|B00000J47G|6415|          5|3.6666666666666665|\n",
      "|R215WFCN9MNL6G|B00000J47G|6433|          2|3.5384615384615383|\n",
      "|R26PAZIJEFDJAS|B00000J47G|6578|          3|               3.5|\n",
      "|R3UHF6V7HMS8QM|B00000J47G|6579|          2|               3.4|\n",
      "| R6UC449NEDBFN|B00000J47G|6742|          3|             3.375|\n",
      "| R9VKU1MN33B1U|B00004SC3R|5788|          2|               2.0|\n",
      "|R2RX0CVDMD3Z3E|B00004SC3R|6018|          5|               3.5|\n",
      "| RO4OKM6P8AJIK|B00004SC3R|6320|          5|               4.0|\n",
      "| R5TZ3KI9HBOAZ|B00004SC3R|6659|          5|              4.25|\n",
      "+--------------+----------+----+-----------+------------------+\n",
      "only showing top 20 rows\n",
      "\n"
     ]
    }
   ],
   "source": [
    "spark.sql('''select review_id, product_id, age, star_rating, avg(star_rating) over (partition by product_id order by age) as accum_rating from df''').show()"
   ]
  },
  {
   "cell_type": "code",
   "execution_count": 139,
   "metadata": {},
   "outputs": [
    {
     "name": "stdout",
     "output_type": "stream",
     "text": [
      "+-----------+\n",
      "|review_date|\n",
      "+-----------+\n",
      "|       null|\n",
      "|       null|\n",
      "|       null|\n",
      "|       null|\n",
      "|       null|\n",
      "|       null|\n",
      "|       null|\n",
      "|       null|\n",
      "|       null|\n",
      "|       null|\n",
      "|       null|\n",
      "|       null|\n",
      "|       null|\n",
      "|       null|\n",
      "|       null|\n",
      "|       null|\n",
      "|       null|\n",
      "|       null|\n",
      "|       null|\n",
      "|       null|\n",
      "+-----------+\n",
      "only showing top 20 rows\n",
      "\n",
      "+-------------+\n",
      "|review_length|\n",
      "+-------------+\n",
      "+-------------+\n",
      "\n"
     ]
    }
   ],
   "source": [
    "for column in ['review_date','review_length']:\n",
    "    df.select('{0}'.format(column)).where('{0} is null'.format(column)).show()"
   ]
  },
  {
   "cell_type": "code",
   "execution_count": 120,
   "metadata": {},
   "outputs": [
    {
     "name": "stdout",
     "output_type": "stream",
     "text": [
      "+-----------+-----------+--------------+----------+--------------+--------------------+----------------+-----------+-------------+-----------+----+-----------------+---------------+-----------+-----------+-------------+----------------------+--------------------+------+--------+----+----------+-----+\n",
      "|marketplace|customer_id|     review_id|product_id|product_parent|       product_title|product_category|star_rating|helpful_votes|total_votes|vine|verified_purchase|review_headline|review_body|review_date|review_length|review_headline_length|product_title_length|exclam|positive| age|helfulness|label|\n",
      "+-----------+-----------+--------------+----------+--------------+--------------------+----------------+-----------+-------------+-----------+----+-----------------+---------------+-----------+-----------+-------------+----------------------+--------------------+------+--------+----+----------+-----+\n",
      "|         US|     377623|R18EGX6WJJO414|B004QVK3MY|     869011606|Ardinbir Photogra...|            null|       null|         null|       null|null|             null|           null|           |       null|         null|                  null|                 199|  null|    null|null|       0.0|    0|\n",
      "|         US|   50312516|R2XHPS98C6J41T|B004QV7GIS|     831693068|Ardinbir Photogra...|            null|       null|         null|       null|null|             null|           null|           |       null|         null|                  null|                1148|  null|    null|null|       0.0|    0|\n",
      "+-----------+-----------+--------------+----------+--------------+--------------------+----------------+-----------+-------------+-----------+----+-----------------+---------------+-----------+-----------+-------------+----------------------+--------------------+------+--------+----+----------+-----+\n",
      "\n"
     ]
    }
   ],
   "source": [
    "df.select('*').where('star_rating is null').show()"
   ]
  },
  {
   "cell_type": "code",
   "execution_count": 116,
   "metadata": {},
   "outputs": [
    {
     "data": {
      "text/plain": [
       "1801974"
      ]
     },
     "execution_count": 116,
     "metadata": {},
     "output_type": "execute_result"
    }
   ],
   "source": [
    "df.count()"
   ]
  },
  {
   "cell_type": "code",
   "execution_count": 156,
   "metadata": {},
   "outputs": [
    {
     "name": "stdout",
     "output_type": "stream",
     "text": [
      "+-----------+---------+\n",
      "|star_rating|purchased|\n",
      "+-----------+---------+\n",
      "|          1|   126789|\n",
      "|          2|    71002|\n",
      "|          3|   115780|\n",
      "|          4|   276470|\n",
      "|          5|   904360|\n",
      "+-----------+---------+\n",
      "\n"
     ]
    }
   ],
   "source": [
    "spark.sql('select star_rating, sum(label) as purchased from df group by star_rating order by star_rating').show()"
   ]
  },
  {
   "cell_type": "code",
   "execution_count": 13,
   "metadata": {},
   "outputs": [
    {
     "name": "stdout",
     "output_type": "stream",
     "text": [
      "+-----------+---------+\n",
      "|star_rating|purchased|\n",
      "+-----------+---------+\n",
      "|          1|   599024|\n",
      "|          2|   293612|\n",
      "|          3|   489380|\n",
      "|          4|  1061154|\n",
      "|          5|  2792305|\n",
      "+-----------+---------+\n",
      "\n"
     ]
    }
   ],
   "source": [
    "spark.sql('select star_rating, sum(helpful_votes) as helpful_votes from df group by star_rating order by star_rating').show()"
   ]
  },
  {
   "cell_type": "code",
   "execution_count": null,
   "metadata": {},
   "outputs": [],
   "source": [
    "spark.sql('select star_rating, sum(tot_votes) as helpful_votes from df group by star_rating order by star_rating').show()"
   ]
  },
  {
   "cell_type": "code",
   "execution_count": 155,
   "metadata": {},
   "outputs": [
    {
     "name": "stdout",
     "output_type": "stream",
     "text": [
      "+-----------+----+\n",
      "|star_rating|vine|\n",
      "+-----------+----+\n",
      "|          1| 143|\n",
      "|          2| 357|\n",
      "|          3|1139|\n",
      "|          4|2951|\n",
      "|          5|3293|\n",
      "+-----------+----+\n",
      "\n"
     ]
    }
   ],
   "source": [
    "spark.sql('select star_rating, sum(vine) as vine from df group by star_rating order by star_rating').show()"
   ]
  },
  {
   "cell_type": "code",
   "execution_count": 2,
   "metadata": {},
   "outputs": [],
   "source": [
    "def fill_na_mean(df, column):\n",
    "    df=df.fillna(df.selectExpr('avg({0}) as mean'.format(column)).first().asDict()['mean'],subset=[column])"
   ]
  },
  {
   "cell_type": "code",
   "execution_count": 96,
   "metadata": {},
   "outputs": [
    {
     "name": "stdout",
     "output_type": "stream",
     "text": [
      "+---------+-----------+\n",
      "|review_id|review_body|\n",
      "+---------+-----------+\n",
      "+---------+-----------+\n",
      "\n",
      "+---------+---+\n",
      "|review_id|age|\n",
      "+---------+---+\n",
      "+---------+---+\n",
      "\n"
     ]
    }
   ],
   "source": [
    "for column in ['review_body','age']:\n",
    "    df.select(['review_id',column]).where('{0} is NULL'.format(column)).show()"
   ]
  },
  {
   "cell_type": "code",
   "execution_count": 145,
   "metadata": {},
   "outputs": [
    {
     "ename": "AssertionError",
     "evalue": "col should be Column",
     "output_type": "error",
     "traceback": [
      "\u001b[0;31m---------------------------------------------------------------------------\u001b[0m",
      "\u001b[0;31mAssertionError\u001b[0m                            Traceback (most recent call last)",
      "\u001b[0;32m<ipython-input-145-fb8f85431e5e>\u001b[0m in \u001b[0;36m<module>\u001b[0;34m\u001b[0m\n\u001b[0;32m----> 1\u001b[0;31m \u001b[0mdf\u001b[0m \u001b[0;34m=\u001b[0m \u001b[0mdf\u001b[0m\u001b[0;34m.\u001b[0m\u001b[0mwithColumn\u001b[0m\u001b[0;34m(\u001b[0m\u001b[0;34m'vine'\u001b[0m\u001b[0;34m,\u001b[0m\u001b[0mconvert_str_to_int\u001b[0m\u001b[0;34m(\u001b[0m\u001b[0mdf\u001b[0m\u001b[0;34m,\u001b[0m \u001b[0mcol\u001b[0m\u001b[0;34m=\u001b[0m\u001b[0;34m'vine'\u001b[0m\u001b[0;34m,\u001b[0m \u001b[0mtype_\u001b[0m\u001b[0;34m=\u001b[0m\u001b[0;34m'int'\u001b[0m\u001b[0;34m)\u001b[0m\u001b[0;34m)\u001b[0m\u001b[0;34m\u001b[0m\u001b[0;34m\u001b[0m\u001b[0m\n\u001b[0m",
      "\u001b[0;32m/usr/local/spark/python/pyspark/sql/dataframe.py\u001b[0m in \u001b[0;36mwithColumn\u001b[0;34m(self, colName, col)\u001b[0m\n\u001b[1;32m   1987\u001b[0m \u001b[0;34m\u001b[0m\u001b[0m\n\u001b[1;32m   1988\u001b[0m         \"\"\"\n\u001b[0;32m-> 1989\u001b[0;31m         \u001b[0;32massert\u001b[0m \u001b[0misinstance\u001b[0m\u001b[0;34m(\u001b[0m\u001b[0mcol\u001b[0m\u001b[0;34m,\u001b[0m \u001b[0mColumn\u001b[0m\u001b[0;34m)\u001b[0m\u001b[0;34m,\u001b[0m \u001b[0;34m\"col should be Column\"\u001b[0m\u001b[0;34m\u001b[0m\u001b[0;34m\u001b[0m\u001b[0m\n\u001b[0m\u001b[1;32m   1990\u001b[0m         \u001b[0;32mreturn\u001b[0m \u001b[0mDataFrame\u001b[0m\u001b[0;34m(\u001b[0m\u001b[0mself\u001b[0m\u001b[0;34m.\u001b[0m\u001b[0m_jdf\u001b[0m\u001b[0;34m.\u001b[0m\u001b[0mwithColumn\u001b[0m\u001b[0;34m(\u001b[0m\u001b[0mcolName\u001b[0m\u001b[0;34m,\u001b[0m \u001b[0mcol\u001b[0m\u001b[0;34m.\u001b[0m\u001b[0m_jc\u001b[0m\u001b[0;34m)\u001b[0m\u001b[0;34m,\u001b[0m \u001b[0mself\u001b[0m\u001b[0;34m.\u001b[0m\u001b[0msql_ctx\u001b[0m\u001b[0;34m)\u001b[0m\u001b[0;34m\u001b[0m\u001b[0;34m\u001b[0m\u001b[0m\n\u001b[1;32m   1991\u001b[0m \u001b[0;34m\u001b[0m\u001b[0m\n",
      "\u001b[0;31mAssertionError\u001b[0m: col should be Column"
     ]
    }
   ],
   "source": [
    "df = df.withColumn('vine',convert_str_to_int(df, col='vine', type_='int'))"
   ]
  },
  {
   "cell_type": "code",
   "execution_count": 30,
   "metadata": {},
   "outputs": [],
   "source": [
    "review_sample.createOrReplaceTempView(\"samples\")\n",
    "review_all.createOrReplaceTempView(\"all\")\n",
    "df.createOrReplaceTempView(\"df\")"
   ]
  },
  {
   "cell_type": "code",
   "execution_count": 39,
   "metadata": {},
   "outputs": [],
   "source": [
    "def get_correlation_target_col_length(target,col,table):\n",
    "    spark.sql(\"select {0}, avg(length({1})) from {2} group by {0} order by {0}\".format(target, col,table)).show()"
   ]
  },
  {
   "cell_type": "code",
   "execution_count": 39,
   "metadata": {},
   "outputs": [],
   "source": [
    "def get_correlation_target_col(target,col,table):\n",
    "    spark.sql(\"select {0}, avg(({1})) from {2} group by {0} order by {0}\".format(target, col,table)).show()"
   ]
  },
  {
   "cell_type": "code",
   "execution_count": 41,
   "metadata": {},
   "outputs": [],
   "source": [
    "import matplotlib.pyplot as plt"
   ]
  },
  {
   "cell_type": "code",
   "execution_count": 67,
   "metadata": {},
   "outputs": [
    {
     "name": "stdout",
     "output_type": "stream",
     "text": [
      "+-----------+-----------+---------+----------+--------------+-------------+----------------+-----------+-------------+-----------+----+-----------------+---------------+-----------+-----------+-------------+----------------------+--------------------+------+--------+---+----------+-----+\n",
      "|marketplace|customer_id|review_id|product_id|product_parent|product_title|product_category|star_rating|helpful_votes|total_votes|vine|verified_purchase|review_headline|review_body|review_date|review_length|review_headline_length|product_title_length|exclam|positive|age|helfulness|label|\n",
      "+-----------+-----------+---------+----------+--------------+-------------+----------------+-----------+-------------+-----------+----+-----------------+---------------+-----------+-----------+-------------+----------------------+--------------------+------+--------+---+----------+-----+\n",
      "|          0|          0|        0|         0|             0|            0|               0|          0|            0|          0|   0|                0|              0|          0|          0|            0|                     0|                   0|     0|       0|  0|         0|    0|\n",
      "+-----------+-----------+---------+----------+--------------+-------------+----------------+-----------+-------------+-----------+----+-----------------+---------------+-----------+-----------+-------------+----------------------+--------------------+------+--------+---+----------+-----+\n",
      "\n"
     ]
    }
   ],
   "source": [
    "df.select([count(when(isnan(c), c)).alias(c) for c in df.columns]).show()"
   ]
  },
  {
   "cell_type": "code",
   "execution_count": 57,
   "metadata": {},
   "outputs": [
    {
     "name": "stdout",
     "output_type": "stream",
     "text": [
      "marketplace: 1 unique values\n",
      "customer_id: 1116762 unique values\n",
      "review_id: 1801974 unique values\n",
      "product_id: 168675 unique values\n",
      "product_parent: 153457 unique values\n",
      "product_title: 154845 unique values\n",
      "product_category: 2 unique values\n",
      "star_rating: 6 unique values\n",
      "helpful_votes: 878 unique values\n",
      "total_votes: 896 unique values\n",
      "vine: 3 unique values\n",
      "verified_purchase: 3 unique values\n",
      "review_headline: 1015326 unique values\n",
      "review_body: 1696853 unique values\n",
      "review_date: 5859 unique values\n",
      "review_length: 9046 unique values\n",
      "review_headline_length: 178 unique values\n",
      "product_title_length: 401 unique values\n",
      "exclam: 89 unique values\n",
      "positive: 3 unique values\n",
      "age: 5859 unique values\n",
      "helfulness: 5079 unique values\n",
      "label: 3 unique values\n"
     ]
    }
   ],
   "source": [
    "for col in df.columns:\n",
    "    print(\"{0}: {1} unique values\".format(col,df.select(col).distinct().count()))"
   ]
  },
  {
   "cell_type": "code",
   "execution_count": 38,
   "metadata": {},
   "outputs": [
    {
     "name": "stdout",
     "output_type": "stream",
     "text": [
      "+-----------+------------------------+\n",
      "|star_rating|avg(length(review_body))|\n",
      "+-----------+------------------------+\n",
      "|       null|                    null|\n",
      "|          1|       431.2341881145638|\n",
      "|          3|       523.1530527119506|\n",
      "|          5|      363.87705009052956|\n",
      "|          4|       522.3469643551947|\n",
      "|          2|       530.5819313408546|\n",
      "+-----------+------------------------+\n",
      "\n",
      "+-----------+----------------------------+\n",
      "|star_rating|avg(length(review_headline))|\n",
      "+-----------+----------------------------+\n",
      "|       null|                        null|\n",
      "|          1|          27.045951679919135|\n",
      "|          3|          28.525484235826383|\n",
      "|          5|           22.91408348122623|\n",
      "|          4|           25.77995247995248|\n",
      "|          2|          28.798051655323313|\n",
      "+-----------+----------------------------+\n",
      "\n",
      "+-----------+--------------------------+\n",
      "|star_rating|avg(length(product_title))|\n",
      "+-----------+--------------------------+\n",
      "|       null|                     673.5|\n",
      "|          1|         88.82231703661913|\n",
      "|          3|         87.14099392054291|\n",
      "|          5|         86.05062830171279|\n",
      "|          4|         85.98807543807544|\n",
      "|          2|          87.6084728804055|\n",
      "+-----------+--------------------------+\n",
      "\n",
      "+-----------------+------------------------+\n",
      "|verified_purchase|avg(length(review_body))|\n",
      "+-----------------+------------------------+\n",
      "|             null|                    null|\n",
      "|                Y|        345.015310178679|\n",
      "|                N|       788.8134254592749|\n",
      "+-----------------+------------------------+\n",
      "\n",
      "+-----------------+----------------------------+\n",
      "|verified_purchase|avg(length(review_headline))|\n",
      "+-----------------+----------------------------+\n",
      "|             null|                        null|\n",
      "|                Y|          23.935696643671946|\n",
      "|                N|           27.69422995015785|\n",
      "+-----------------+----------------------------+\n",
      "\n",
      "+-----------------+--------------------------+\n",
      "|verified_purchase|avg(length(product_title))|\n",
      "+-----------------+--------------------------+\n",
      "|             null|                     673.5|\n",
      "|                Y|         88.36818364013408|\n",
      "|                N|         77.21732217926917|\n",
      "+-----------------+--------------------------+\n",
      "\n"
     ]
    }
   ],
   "source": [
    "for target in ['star_rating','verified_purchase']:\n",
    "    for col in ['review_body','review_headline','product_title']:\n",
    "        get_correlation_target_col_length(target=target,col=col, table='df')"
   ]
  },
  {
   "cell_type": "code",
   "execution_count": 50,
   "metadata": {},
   "outputs": [],
   "source": [
    "for col in df.columns:\n",
    "    spark.sql('select count(*) from df where {0} is NULL'.format(col)).count()"
   ]
  },
  {
   "cell_type": "code",
   "execution_count": 20,
   "metadata": {},
   "outputs": [],
   "source": [
    "# %load ../../utils/helpers.py\n",
    "from pyspark.ml.classification import LogisticRegression, NaiveBayes, DecisionTreeClassifier, GBTClassifier, \\\n",
    "    RandomForestClassifier\n",
    "from pyspark.ml.feature import VectorAssembler\n",
    "from pyspark.mllib.evaluation import BinaryClassificationMetrics\n",
    "\n",
    "from nltk.corpus import stopwords\n",
    "from nltk.tokenize import sent_tokenize\n",
    "from nltk.tokenize import word_tokenize\n",
    "\n",
    "import re\n",
    "\n",
    "\n",
    "def get_kv_pairs(row, exclusions=[]):\n",
    "    # get the text from the row entry\n",
    "    text = str(row.review_body).lower()\n",
    "    # create blacklist of words\n",
    "    blacklist = set(stopwords.words('english'))\n",
    "    # add explicit words\n",
    "    [blacklist.add(i) for i in exclusions]\n",
    "    # extract all words\n",
    "    words = re.findall(r'([^\\w+])', text)\n",
    "    # for each word, send back a count of 1\n",
    "    # send a list of lists\n",
    "    return [[w, 1] for w in words if w not in blacklist]\n",
    "\n",
    "\n",
    "def get_word_counts(texts, exclusions=[]):\n",
    "    mapped_rdd = texts.rdd.flatMap(lambda row: get_kv_pairs(row, exclusions))\n",
    "    counts_rdd = mapped_rdd.reduceByKey(lambda a, b: a + b).sortBy(lambda a: a[1])\n",
    "    return counts_rdd.collect()\n",
    "\n",
    "\n",
    "def convert_str_to_int(df, col='verified_purchase', type_='int'):\n",
    "    return df.select((df[col] == 'Y').cast(type_))\n",
    "\n",
    "\n",
    "def get_review_age(df):\n",
    "    return df.select(datediff(current_date(), to_date(df['review_date'])))\n",
    "\n",
    "\n",
    "def prepare_features(df):\n",
    "    df = df.withColumn('review_length', length('review_body'))\n",
    "    df = df.withColumn('exclam',  df['review_length'] - length(regexp_replace('review_body', '\\!', '')))\n",
    "    df = df.withColumn('age', datediff(current_date(), to_date(df['review_date'])))\n",
    "    df = df.withColumn('helfulness', coalesce(df['helpful_votes'] / df['total_votes'],lit(0.0)))\n",
    "    df = df.withColumn('label', expr(\"CAST(verified_purchase='Y' As INT)\"))\n",
    "    select_cols = df.select(['star_rating', 'helfulness', 'age', 'review_length', 'label'])#.na.fill(0)\n",
    "    return select_cols\n",
    "\n",
    "\n",
    "def split_data(df, rate=.9):\n",
    "    training = df.sampleBy(\"label\", fractions={0: rate, 1: rate}, seed=12)\n",
    "    return training, df.subtract(training)\n",
    "\n",
    "\n",
    "def get_auc_roc(classifier, training, test):\n",
    "    model = classifier.fit(training)\n",
    "    out = model.transform(test) \\\n",
    "        .select(\"prediction\", \"label\") \\\n",
    "        .rdd.map(lambda x: (float(x[0]), float(x[1])))\n",
    "    metrics = BinaryClassificationMetrics(out)\n",
    "    print(\"Model: {1}. Area under ROC: {0:2f}\".format(metrics.areaUnderROC, clf.__class__))\n",
    "    return model, out, metrics\n",
    "\n",
    "\n",
    "def get_vectorized_features(df, cols=['star_rating']):\n",
    "    va = VectorAssembler().setInputCols(cols).setOutputCol(\n",
    "        'features')\n",
    "    return va.transform(df)"
   ]
  },
  {
   "cell_type": "code",
   "execution_count": null,
   "metadata": {},
   "outputs": [],
   "source": []
  },
  {
   "cell_type": "code",
   "execution_count": 2,
   "metadata": {},
   "outputs": [
    {
     "name": "stdout",
     "output_type": "stream",
     "text": [
      "+-----------+------+\n",
      "|customer_id|counts|\n",
      "+-----------+------+\n",
      "|   31588426|   285|\n",
      "|   50820654|   191|\n",
      "|   52764559|   171|\n",
      "|   44777060|   148|\n",
      "|   52340667|   146|\n",
      "+-----------+------+\n",
      "only showing top 5 rows\n",
      "\n"
     ]
    }
   ],
   "source": [
    "spark.sql(\"select customer_id, count(*) as counts from dfTable group by customer_id order by counts desc\").show(5)"
   ]
  },
  {
   "cell_type": "code",
   "execution_count": 3,
   "metadata": {},
   "outputs": [
    {
     "name": "stdout",
     "output_type": "stream",
     "text": [
      "+-----------+-------+\n",
      "|star_rating| counts|\n",
      "+-----------+-------+\n",
      "|       null|      2|\n",
      "|          1| 170157|\n",
      "|          3| 141460|\n",
      "|          5|1062706|\n",
      "|          4| 336700|\n",
      "+-----------+-------+\n",
      "only showing top 5 rows\n",
      "\n",
      "CPU times: user 1.71 ms, sys: 3.69 ms, total: 5.4 ms\n",
      "Wall time: 18.5 s\n"
     ]
    }
   ],
   "source": [
    "%%time\n",
    "spark.sql(\"select star_rating, count(*) as counts from dfTable group by star_rating\").show(5)"
   ]
  },
  {
   "cell_type": "code",
   "execution_count": 4,
   "metadata": {},
   "outputs": [
    {
     "name": "stdout",
     "output_type": "stream",
     "text": [
      "+----------+------+\n",
      "|product_id|counts|\n",
      "+----------+------+\n",
      "|B006ZP8UOW|  4654|\n",
      "|B00007E7JU|  4399|\n",
      "|B0039BPG1A|  3619|\n",
      "|B002VPE1WK|  3565|\n",
      "|B0050R67U0|  3177|\n",
      "+----------+------+\n",
      "only showing top 5 rows\n",
      "\n"
     ]
    }
   ],
   "source": [
    "spark.sql(\"select product_id, count(*) as counts from dfTable group by product_id order by counts desc\").show(5)"
   ]
  },
  {
   "cell_type": "code",
   "execution_count": 5,
   "metadata": {},
   "outputs": [
    {
     "name": "stdout",
     "output_type": "stream",
     "text": [
      "+----------+------+\n",
      "|product_id|counts|\n",
      "+----------+------+\n",
      "|B006ZP8UOW|  4654|\n",
      "|B00007E7JU|  4399|\n",
      "|B0039BPG1A|  3619|\n",
      "|B002VPE1WK|  3565|\n",
      "|B0050R67U0|  3177|\n",
      "+----------+------+\n",
      "only showing top 5 rows\n",
      "\n"
     ]
    }
   ],
   "source": [
    "spark.sql(\"select product_id, count(*) as counts from dfTable group by product_id order by counts desc\").show(5)"
   ]
  },
  {
   "cell_type": "code",
   "execution_count": 11,
   "metadata": {},
   "outputs": [
    {
     "name": "stdout",
     "output_type": "stream",
     "text": [
      "+-----------+------------------------+\n",
      "|star_rating|avg(length(review_body))|\n",
      "+-----------+------------------------+\n",
      "|       null|                    null|\n",
      "|          1|       431.2341881145638|\n",
      "|          3|       523.1530527119506|\n",
      "|          5|      363.87705009052956|\n",
      "|          4|       522.3469643551947|\n",
      "|          2|       530.5819313408546|\n",
      "+-----------+------------------------+\n",
      "\n"
     ]
    }
   ],
   "source": [
    "get_correlation_review_length('star_rating')"
   ]
  },
  {
   "cell_type": "code",
   "execution_count": 14,
   "metadata": {},
   "outputs": [
    {
     "name": "stdout",
     "output_type": "stream",
     "text": [
      "+-----------------+------------------------+\n",
      "|verified_purchase|avg(length(review_body))|\n",
      "+-----------------+------------------------+\n",
      "|             null|                    null|\n",
      "|                Y|        345.015310178679|\n",
      "|                N|       788.8134254592749|\n",
      "+-----------------+------------------------+\n",
      "\n"
     ]
    }
   ],
   "source": [
    "get_correlation_review_length('verified_purchase')"
   ]
  },
  {
   "cell_type": "code",
   "execution_count": null,
   "metadata": {},
   "outputs": [
    {
     "name": "stdout",
     "output_type": "stream",
     "text": [
      "+-----------+------------------------+\n",
      "|marketplace|avg(length(review_body))|\n",
      "+-----------+------------------------+\n",
      "|         US|       420.7652951133557|\n",
      "+-----------+------------------------+\n",
      "\n",
      "+-----------+------------------------+\n",
      "|customer_id|avg(length(review_body))|\n",
      "+-----------+------------------------+\n",
      "|     109519|      105.66666666666667|\n",
      "|   45046643|                   141.0|\n",
      "|   45676353|      140.31034482758622|\n",
      "|   49258595|                   977.0|\n",
      "|   11081770|                   483.0|\n",
      "|   51671883|                   685.6|\n",
      "|   23678637|                   122.0|\n",
      "|   14479333|                    21.0|\n",
      "|   12318800|                    30.0|\n",
      "|   41257827|                   160.0|\n",
      "|   52809621|                     8.0|\n",
      "|   31693763|                    44.0|\n",
      "|   52942372|                  297.25|\n",
      "|   10820140|                    76.0|\n",
      "|   45253663|                  937.75|\n",
      "|    3910358|                    44.0|\n",
      "|   43009502|                  218.25|\n",
      "|   52809622|                   167.2|\n",
      "|   14781308|                    36.0|\n",
      "|   27301220|       3367.222222222222|\n",
      "+-----------+------------------------+\n",
      "only showing top 20 rows\n",
      "\n",
      "+--------------+------------------------+\n",
      "|     review_id|avg(length(review_body))|\n",
      "+--------------+------------------------+\n",
      "| RIN969OD41JR7|                   183.0|\n",
      "| RRUU60MWYKBIK|                   100.0|\n",
      "|R3L0C1EE0R7035|                    23.0|\n",
      "|R21D48LC6X323C|                    23.0|\n",
      "|R261YBKZT4JO9I|                   140.0|\n",
      "|R16JBHTM8FH9FI|                   178.0|\n",
      "|R1WCBS8OLIB5H6|                    37.0|\n",
      "| RK72STRPY56EE|                  1420.0|\n",
      "|R20CCXA19FC6D0|                    55.0|\n",
      "|  RLKFNJV48MBC|                    33.0|\n",
      "|R2PF54B1A6SDX8|                   311.0|\n",
      "|R30HHVXCDBSX9G|                   150.0|\n",
      "| RRNVLN2NDZ0P5|                   222.0|\n",
      "|R26C1PG011OZT2|                  1292.0|\n",
      "| RQOXD9CZSCNT3|                     8.0|\n",
      "| RU6LA6AX6VJ82|                    96.0|\n",
      "|R1HO3Q7EYPHVQ1|                   560.0|\n",
      "|R2J5VW4CGE84VL|                    59.0|\n",
      "| RLPQ7F0KLXV7D|                    18.0|\n",
      "| RW0510L2ECM9H|                    96.0|\n",
      "+--------------+------------------------+\n",
      "only showing top 20 rows\n",
      "\n",
      "+----------+------------------------+\n",
      "|product_id|avg(length(review_body))|\n",
      "+----------+------------------------+\n",
      "|B006ZN4U34|      197.28070175438597|\n",
      "|B008MW6Y12|       390.4416607015032|\n",
      "|B00T7JPGNG|        569.390243902439|\n",
      "|B00VSIT5UE|       769.7407407407408|\n",
      "|B008525TFQ|      148.70967741935485|\n",
      "|B002Y5SN1C|                   325.1|\n",
      "|B00EFILHB4|       600.0689655172414|\n",
      "|B00XHSRVG8|                    90.0|\n",
      "|B0093LPHZK|      100.23529411764706|\n",
      "|B00IVZ6LHW|       180.6530612244898|\n",
      "|B004VFGK1I|       888.1229508196722|\n",
      "|B006T83DBK|                   176.0|\n",
      "|B000H92BTM|      199.52777777777777|\n",
      "|B00GAOQKWC|      102.81481481481481|\n",
      "|B00JNV5FN4|      186.86206896551724|\n",
      "|B00MCKG1FY|       267.0281690140845|\n",
      "|B008AGP5H4|       485.2083333333333|\n",
      "|B009FCGCHY|      136.42105263157896|\n",
      "|B000VJX7DW|      1187.7791666666667|\n",
      "|B00ROSV3CA|                   110.5|\n",
      "+----------+------------------------+\n",
      "only showing top 20 rows\n",
      "\n"
     ]
    }
   ],
   "source": [
    "for col in df.columns:\n",
    "    get_correlation_review_length(col)"
   ]
  }
 ],
 "metadata": {
  "kernelspec": {
   "display_name": "Python 3",
   "language": "python",
   "name": "python3"
  },
  "language_info": {
   "codemirror_mode": {
    "name": "ipython",
    "version": 3
   },
   "file_extension": ".py",
   "mimetype": "text/x-python",
   "name": "python",
   "nbconvert_exporter": "python",
   "pygments_lexer": "ipython3",
   "version": "3.7.3"
  }
 },
 "nbformat": 4,
 "nbformat_minor": 4
}
