{
 "cells": [
  {
   "cell_type": "markdown",
   "metadata": {},
   "source": [
    "# Import libs"
   ]
  },
  {
   "cell_type": "code",
   "execution_count": 15,
   "metadata": {
    "pycharm": {
     "is_executing": false
    }
   },
   "outputs": [],
   "source": [
    "# %load ../../templates/load_libs.py\n",
    "import sys\n",
    "from pyspark.ml.classification import LogisticRegression, NaiveBayes, DecisionTreeClassifier, GBTClassifier, \\\n",
    "    RandomForestClassifier\n",
    "# set project directory for shared library\n",
    "PROJECT_DIR='/home/jovyan/work/amazon-review-validator'\n",
    "if PROJECT_DIR not in sys.path:\n",
    "    sys.path.insert(0, PROJECT_DIR)\n",
    "    \n",
    "from libs.utils import fill_na_mean,get_null_counts,get_correlation_target_col_length, get_distribution_col,get_unique_values"
   ]
  },
  {
   "cell_type": "markdown",
   "metadata": {},
   "source": [
    "# ETL the data"
   ]
  },
  {
   "cell_type": "code",
   "execution_count": 11,
   "metadata": {},
   "outputs": [],
   "source": [
    "# %load \"../../utils/environment.py\"\n",
    "from pyspark.ml.classification import LogisticRegression, NaiveBayes, DecisionTreeClassifier, GBTClassifier, \\\n",
    "    RandomForestClassifier\n",
    "import pyspark as ps\n",
    "from pyspark.sql.types import StructField, StructType, StringType, IntegerType\n",
    "from pyspark.sql.functions import current_date, expr, datediff, to_date, lit, coalesce, length, regexp_replace,count,isnan,when,col\n",
    "\n",
    "DATA_FILE = '../../data/amazon_reviews_us_Camera_v1_00.tsv.gz'\n",
    "APP_NAME = 'EDA'\n",
    "FEATURES = ['star_rating', 'exclam', 'helfulness', 'review_length', 'verified_purchase', 'age']\n",
    "SAMPLE_SIZE = 10000\n",
    "\n",
    "review_schema = StructType(\n",
    "    [StructField('marketplace', StringType(), True),\n",
    "     StructField('customer_id', StringType(), True),\n",
    "     StructField('review_id', StringType(), True),\n",
    "     StructField('product_id', StringType(), True),\n",
    "     StructField('product_parent', StringType(), True),\n",
    "     StructField('product_title', StringType(), True),\n",
    "     StructField('product_category', StringType(), True),\n",
    "     StructField('star_rating', IntegerType(), True),\n",
    "     StructField('helpful_votes', IntegerType(), True),\n",
    "     StructField('total_votes', IntegerType(), True),\n",
    "     StructField('vine', StringType(), True),\n",
    "     StructField('verified_purchase', StringType(), True),\n",
    "     StructField('review_headline', StringType(), True),\n",
    "     StructField('review_body', StringType(), True),\n",
    "     StructField('review_date', StringType(), True)])\n",
    "\n",
    "spark = (ps.sql.SparkSession.builder\n",
    "         .master(\"local[1]\")\n",
    "         .appName(APP_NAME)\n",
    "         .getOrCreate()\n",
    "         )\n",
    "sc = spark.sparkContext\n",
    "\n",
    "df = spark.read.format(\"csv\") \\\n",
    "    .option(\"header\", \"true\") \\\n",
    "    .option(\"sep\", \"\\t\") \\\n",
    "    .schema(review_schema) \\\n",
    "    .load(DATA_FILE)\n",
    "\n",
    "df = df.na.drop(subset=[\"star_rating\"])\n",
    "df = df.fillna('',subset=['review_body'])\n",
    "\n",
    "df = df.withColumn('review_length', length('review_body'))\n",
    "df = df.withColumn('review_headline_length', length('review_headline'))\n",
    "df = df.withColumn('product_title_length', length('product_title'))\n",
    "\n",
    "df = df.withColumn('exclam',  df['review_length'] - length(regexp_replace('review_body', '\\!', '')))\n",
    "df = df.withColumn('positive',  (df['star_rating']>3).cast('integer'))\n",
    "df = df.withColumn('age', datediff(current_date(), to_date(df['review_date'])))\n",
    "df = df.drop('review_date')\n",
    "df = df.withColumn('helfulness', coalesce(df['helpful_votes'] / df['total_votes'],lit(0.0)))\n",
    "df = df.withColumn('verified_purchase', expr(\"CAST(verified_purchase='Y' As INT)\"))\n",
    "df = df.withColumn('vine', expr(\"CAST(vine='Y' As INT)\"))\n",
    "df = fill_na_mean(df,'age')\n",
    "\n",
    "review_all = df.select(FEATURES)\n",
    "review_sample = df.select(FEATURES).limit(SAMPLE_SIZE).cache()\n",
    "\n",
    "review_sample.createOrReplaceTempView(\"samples\")\n",
    "review_all.createOrReplaceTempView(\"all\")\n",
    "df.createOrReplaceTempView(\"df\")"
   ]
  },
  {
   "cell_type": "markdown",
   "metadata": {},
   "source": [
    "# EDA the data\n",
    "## Count nulls in each column"
   ]
  },
  {
   "cell_type": "code",
   "execution_count": 16,
   "metadata": {},
   "outputs": [
    {
     "name": "stdout",
     "output_type": "stream",
     "text": [
      "marketplace: 1 unique values\n",
      "customer_id: 1116761 unique values\n",
      "review_id: 1801972 unique values\n",
      "product_id: 168673 unique values\n",
      "product_parent: 153455 unique values\n",
      "product_title: 154843 unique values\n",
      "product_category: 1 unique values\n",
      "star_rating: 5 unique values\n",
      "helpful_votes: 877 unique values\n",
      "total_votes: 895 unique values\n",
      "vine: 2 unique values\n",
      "verified_purchase: 2 unique values\n",
      "review_headline: 1015325 unique values\n",
      "review_body: 1696853 unique values\n",
      "review_length: 9046 unique values\n",
      "review_headline_length: 177 unique values\n",
      "product_title_length: 400 unique values\n",
      "exclam: 88 unique values\n",
      "positive: 2 unique values\n",
      "age: 5858 unique values\n",
      "helfulness: 5079 unique values\n"
     ]
    }
   ],
   "source": [
    "get_unique_values(df)"
   ]
  },
  {
   "cell_type": "code",
   "execution_count": 13,
   "metadata": {},
   "outputs": [
    {
     "name": "stdout",
     "output_type": "stream",
     "text": [
      "+-----------+-----------+---------+----------+--------------+-------------+----------------+-----------+-------------+-----------+----+-----------------+---------------+-----------+-------------+----------------------+--------------------+------+--------+---+----------+\n",
      "|marketplace|customer_id|review_id|product_id|product_parent|product_title|product_category|star_rating|helpful_votes|total_votes|vine|verified_purchase|review_headline|review_body|review_length|review_headline_length|product_title_length|exclam|positive|age|helfulness|\n",
      "+-----------+-----------+---------+----------+--------------+-------------+----------------+-----------+-------------+-----------+----+-----------------+---------------+-----------+-------------+----------------------+--------------------+------+--------+---+----------+\n",
      "|          0|          0|        0|         0|             0|            0|               0|          0|            0|          0|   0|                0|              0|          0|            0|                     0|                   0|     0|       0|  0|         0|\n",
      "+-----------+-----------+---------+----------+--------------+-------------+----------------+-----------+-------------+-----------+----+-----------------+---------------+-----------+-------------+----------------------+--------------------+------+--------+---+----------+\n",
      "\n"
     ]
    }
   ],
   "source": [
    "get_null_counts(df)"
   ]
  },
  {
   "cell_type": "markdown",
   "metadata": {},
   "source": [
    "## list each review with its number of previous reviews, current average rating, and age of the review"
   ]
  },
  {
   "cell_type": "code",
   "execution_count": 10,
   "metadata": {},
   "outputs": [
    {
     "name": "stdout",
     "output_type": "stream",
     "text": [
      "+--------------+----------+----+-----------+------------------+--------------------+\n",
      "|     review_id|product_id| age|star_rating|       mean_rating|current_review_count|\n",
      "+--------------+----------+----+-----------+------------------+--------------------+\n",
      "|R1O6Z1DDT2P1XI|B00000J47G|1810|          5|               5.0|                   1|\n",
      "|R1JG9M7Z29JZ8A|B00000J47G|1816|          5|               5.0|                   2|\n",
      "|R1JJGHPWABDFXV|B00000J47G|4787|          5|               5.0|                   3|\n",
      "|R2RMYNWCP79YVQ|B00000J47G|4789|          1|               4.0|                   4|\n",
      "|R2TBZTLKU11VZU|B00000J47G|5078|          5|               4.2|                   5|\n",
      "|R14B3XKWH0WQDL|B00000J47G|5800|          3|               4.0|                   6|\n",
      "| R9EVQ9YXO8N5V|B00000J47G|5816|          1|3.5714285714285716|                   7|\n",
      "| RJTDPXIPVVQIA|B00000J47G|5919|          1|              3.25|                   8|\n",
      "|R1K9NN4IK0S7NT|B00000J47G|6131|          4|3.3333333333333335|                   9|\n",
      "| R36SG72DYDIQL|B00000J47G|6415|          4|               3.4|                  10|\n",
      "| R5OS4MY8RBGZG|B00000J47G|6416|          5|3.6666666666666665|                  12|\n",
      "|R3LVY8TXNJ733Q|B00000J47G|6416|          5|3.6666666666666665|                  12|\n",
      "|R215WFCN9MNL6G|B00000J47G|6434|          2|3.5384615384615383|                  13|\n",
      "|R26PAZIJEFDJAS|B00000J47G|6579|          3|               3.5|                  14|\n",
      "|R3UHF6V7HMS8QM|B00000J47G|6580|          2|               3.4|                  15|\n",
      "| R6UC449NEDBFN|B00000J47G|6743|          3|             3.375|                  16|\n",
      "| R9VKU1MN33B1U|B00004SC3R|5789|          2|               2.0|                   1|\n",
      "|R2RX0CVDMD3Z3E|B00004SC3R|6019|          5|               3.5|                   2|\n",
      "| RO4OKM6P8AJIK|B00004SC3R|6321|          5|               4.0|                   3|\n",
      "| R5TZ3KI9HBOAZ|B00004SC3R|6660|          5|              4.25|                   4|\n",
      "+--------------+----------+----+-----------+------------------+--------------------+\n",
      "only showing top 20 rows\n",
      "\n"
     ]
    }
   ],
   "source": [
    "spark.sql('''select review_id, product_id, age, star_rating, avg(star_rating) over (partition by product_id order by age) as mean_rating , sum(1) over (partition by product_id order by age) as current_review_count from df''').show()"
   ]
  },
  {
   "cell_type": "markdown",
   "metadata": {},
   "source": [
    "## show distribution of 'verified_purchase','helpful_votes','total_votes','vine' columns in star_rating"
   ]
  },
  {
   "cell_type": "code",
   "execution_count": 5,
   "metadata": {
    "pycharm": {
     "is_executing": false
    }
   },
   "outputs": [
    {
     "name": "stdout",
     "output_type": "stream",
     "text": [
      "+-----------+-----------------+\n",
      "|star_rating|verified_purchase|\n",
      "+-----------+-----------------+\n",
      "|          1|           126789|\n",
      "|          2|            71002|\n",
      "|          3|           115780|\n",
      "|          4|           276470|\n",
      "|          5|           904360|\n",
      "+-----------+-----------------+\n",
      "\n",
      "+-----------+-------------+\n",
      "|star_rating|helpful_votes|\n",
      "+-----------+-------------+\n",
      "|          1|       599024|\n",
      "|          2|       293612|\n",
      "|          3|       489380|\n",
      "|          4|      1061154|\n",
      "|          5|      2792305|\n",
      "+-----------+-------------+\n",
      "\n",
      "+-----------+-----------+\n",
      "|star_rating|total_votes|\n",
      "+-----------+-----------+\n",
      "|          1|    1004936|\n",
      "|          2|     445545|\n",
      "|          3|     662408|\n",
      "|          4|    1234586|\n",
      "|          5|    3208903|\n",
      "+-----------+-----------+\n",
      "\n",
      "+-----------+----+\n",
      "|star_rating|vine|\n",
      "+-----------+----+\n",
      "|          1| 143|\n",
      "|          2| 357|\n",
      "|          3|1139|\n",
      "|          4|2951|\n",
      "|          5|3293|\n",
      "+-----------+----+\n",
      "\n"
     ]
    }
   ],
   "source": [
    "for column in ['verified_purchase','helpful_votes','total_votes','vine']:\n",
    "    get_distribution_col(spark, 'star_rating', column)"
   ]
  },
  {
   "cell_type": "markdown",
   "metadata": {},
   "source": [
    "## show distribution of 'verified_purchase','helpful_votes','total_votes','vine' columns in star_rating"
   ]
  },
  {
   "cell_type": "code",
   "execution_count": 6,
   "metadata": {},
   "outputs": [
    {
     "name": "stdout",
     "output_type": "stream",
     "text": [
      "+-----------+------------------------+\n",
      "|star_rating|avg(length(review_body))|\n",
      "+-----------+------------------------+\n",
      "|          1|      431.19363881591704|\n",
      "|          2|       530.5410944595322|\n",
      "|          3|        523.108673830058|\n",
      "|          4|        522.320591030591|\n",
      "|          5|      363.85308166134377|\n",
      "+-----------+------------------------+\n",
      "\n",
      "+-----------+----------------------------+\n",
      "|star_rating|avg(length(review_headline))|\n",
      "+-----------+----------------------------+\n",
      "|          1|          27.045951679919135|\n",
      "|          2|          28.798051655323313|\n",
      "|          3|          28.525484235826383|\n",
      "|          4|           25.77995247995248|\n",
      "|          5|           22.91408348122623|\n",
      "+-----------+----------------------------+\n",
      "\n",
      "+-----------+--------------------------+\n",
      "|star_rating|avg(length(product_title))|\n",
      "+-----------+--------------------------+\n",
      "|          1|         88.82231703661913|\n",
      "|          2|          87.6084728804055|\n",
      "|          3|         87.14099392054291|\n",
      "|          4|         85.98807543807544|\n",
      "|          5|         86.05062830171279|\n",
      "+-----------+--------------------------+\n",
      "\n",
      "+-----------------+------------------------+\n",
      "|verified_purchase|avg(length(review_body))|\n",
      "+-----------------+------------------------+\n",
      "|                0|       788.7595677095695|\n",
      "|                1|        344.991992109213|\n",
      "+-----------------+------------------------+\n",
      "\n",
      "+-----------------+----------------------------+\n",
      "|verified_purchase|avg(length(review_headline))|\n",
      "+-----------------+----------------------------+\n",
      "|                0|           27.69422995015785|\n",
      "|                1|          23.935696643671946|\n",
      "+-----------------+----------------------------+\n",
      "\n",
      "+-----------------+--------------------------+\n",
      "|verified_purchase|avg(length(product_title))|\n",
      "+-----------------+--------------------------+\n",
      "|                0|         77.21732217926917|\n",
      "|                1|         88.36818364013408|\n",
      "+-----------------+--------------------------+\n",
      "\n"
     ]
    }
   ],
   "source": [
    "for target in ['star_rating','verified_purchase']:\n",
    "    for col in ['review_body','review_headline','product_title']:\n",
    "        get_correlation_target_col_length(spark, target=target,col=col, table='df')"
   ]
  },
  {
   "cell_type": "code",
   "execution_count": 31,
   "metadata": {},
   "outputs": [
    {
     "name": "stdout",
     "output_type": "stream",
     "text": [
      "+-----------+------+\n",
      "|customer_id|counts|\n",
      "+-----------+------+\n",
      "|   31588426|   285|\n",
      "|   50820654|   191|\n",
      "|   52764559|   171|\n",
      "|   44777060|   148|\n",
      "|   52340667|   146|\n",
      "+-----------+------+\n",
      "only showing top 5 rows\n",
      "\n"
     ]
    }
   ],
   "source": [
    "spark.sql(\"select customer_id, count(*) as counts from df group by customer_id order by counts desc\").show(5)"
   ]
  },
  {
   "cell_type": "code",
   "execution_count": 30,
   "metadata": {},
   "outputs": [
    {
     "name": "stdout",
     "output_type": "stream",
     "text": [
      "+-----------+-------+\n",
      "|star_rating| counts|\n",
      "+-----------+-------+\n",
      "|          1| 170157|\n",
      "|          3| 141460|\n",
      "|          5|1062706|\n",
      "|          4| 336700|\n",
      "|          2|  90949|\n",
      "+-----------+-------+\n",
      "\n"
     ]
    }
   ],
   "source": [
    "spark.sql(\"select star_rating, count(*) as counts from df group by star_rating\").show(5)"
   ]
  },
  {
   "cell_type": "code",
   "execution_count": 32,
   "metadata": {},
   "outputs": [
    {
     "name": "stdout",
     "output_type": "stream",
     "text": [
      "+----------+------+\n",
      "|product_id|counts|\n",
      "+----------+------+\n",
      "|B006ZP8UOW|  4654|\n",
      "|B00007E7JU|  4399|\n",
      "|B0039BPG1A|  3619|\n",
      "|B002VPE1WK|  3565|\n",
      "|B0050R67U0|  3177|\n",
      "+----------+------+\n",
      "only showing top 5 rows\n",
      "\n"
     ]
    }
   ],
   "source": [
    "spark.sql(\"select product_id, count(*) as counts from df group by product_id order by counts desc\").show(5)"
   ]
  },
  {
   "cell_type": "code",
   "execution_count": 33,
   "metadata": {
    "pycharm": {
     "name": "#%%\n"
    }
   },
   "outputs": [
    {
     "name": "stdout",
     "output_type": "stream",
     "text": [
      "+----------+------+\n",
      "|product_id|counts|\n",
      "+----------+------+\n",
      "|B006ZP8UOW|  4654|\n",
      "|B00007E7JU|  4399|\n",
      "|B0039BPG1A|  3619|\n",
      "|B002VPE1WK|  3565|\n",
      "|B0050R67U0|  3177|\n",
      "+----------+------+\n",
      "only showing top 5 rows\n",
      "\n"
     ]
    }
   ],
   "source": [
    "spark.sql(\"select product_id, count(*) as counts from df group by product_id order by counts desc\").show(5)\n"
   ]
  }
 ],
 "metadata": {
  "kernelspec": {
   "display_name": "Python 3",
   "language": "python",
   "name": "python3"
  },
  "language_info": {
   "codemirror_mode": {
    "name": "ipython",
    "version": 3
   },
   "file_extension": ".py",
   "mimetype": "text/x-python",
   "name": "python",
   "nbconvert_exporter": "python",
   "pygments_lexer": "ipython3",
   "version": "3.7.3"
  },
  "pycharm": {
   "stem_cell": {
    "cell_type": "raw",
    "metadata": {
     "collapsed": false
    },
    "source": []
   }
  }
 },
 "nbformat": 4,
 "nbformat_minor": 4
}
