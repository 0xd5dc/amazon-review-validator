{
 "cells": [
  {
   "cell_type": "markdown",
   "metadata": {},
   "source": [
    "# Import libs"
   ]
  },
  {
   "cell_type": "code",
   "execution_count": 1,
   "metadata": {
    "pycharm": {
     "is_executing": false
    }
   },
   "outputs": [],
   "source": [
    "# %load ../../templates/load_libs.py\n",
    "import sys\n",
    "from pyspark.ml.classification import LogisticRegression, NaiveBayes, DecisionTreeClassifier, GBTClassifier, \\\n",
    "    RandomForestClassifier\n",
    "# set project directory for shared library\n",
    "PROJECT_DIR='/home/jovyan/work/amazon-review-validator'\n",
    "if PROJECT_DIR not in sys.path:\n",
    "    sys.path.insert(0, PROJECT_DIR)\n",
    "    \n",
    "from libs.utils import get_distribution_col,fill_na_mean,get_null_counts,get_correlation_target_col_length"
   ]
  },
  {
   "cell_type": "markdown",
   "source": [
    "# ETL the data"
   ],
   "metadata": {
    "collapsed": false
   }
  },
  {
   "cell_type": "code",
   "execution_count": 24,
   "metadata": {},
   "outputs": [],
   "source": [
    "# %load \"../../utils/environment.py\"\n",
    "from pyspark.ml.classification import LogisticRegression, NaiveBayes, DecisionTreeClassifier, GBTClassifier, \\\n",
    "    RandomForestClassifier\n",
    "import pyspark as ps\n",
    "from pyspark.sql.types import StructField, StructType, StringType, IntegerType\n",
    "from pyspark.sql.functions import current_date, expr, datediff, to_date, lit, coalesce, length, regexp_replace,count,isnan,when,col\n",
    "\n",
    "DATA_FILE = '../../data/amazon_reviews_us_Camera_v1_00.tsv.gz'\n",
    "APP_NAME = 'EDA'\n",
    "FEATURES = ['star_rating', 'exclam', 'helfulness', 'review_length', 'verified_purchase', 'age']\n",
    "SAMPLE_SIZE = 10000\n",
    "\n",
    "review_schema = StructType(\n",
    "    [StructField('marketplace', StringType(), True),\n",
    "     StructField('customer_id', StringType(), True),\n",
    "     StructField('review_id', StringType(), True),\n",
    "     StructField('product_id', StringType(), True),\n",
    "     StructField('product_parent', StringType(), True),\n",
    "     StructField('product_title', StringType(), True),\n",
    "     StructField('product_category', StringType(), True),\n",
    "     StructField('star_rating', IntegerType(), True),\n",
    "     StructField('helpful_votes', IntegerType(), True),\n",
    "     StructField('total_votes', IntegerType(), True),\n",
    "     StructField('vine', StringType(), True),\n",
    "     StructField('verified_purchase', StringType(), True),\n",
    "     StructField('review_headline', StringType(), True),\n",
    "     StructField('review_body', StringType(), True),\n",
    "     StructField('review_date', StringType(), True)])\n",
    "\n",
    "spark = (ps.sql.SparkSession.builder\n",
    "         .master(\"local[1]\")\n",
    "         .appName(APP_NAME)\n",
    "         .getOrCreate()\n",
    "         )\n",
    "sc = spark.sparkContext\n",
    "\n",
    "df = spark.read.format(\"csv\") \\\n",
    "    .option(\"header\", \"true\") \\\n",
    "    .option(\"sep\", \"\\t\") \\\n",
    "    .schema(review_schema) \\\n",
    "    .load(DATA_FILE)\n",
    "\n",
    "df = df.na.drop(subset=[\"star_rating\"])\n",
    "df = df.fillna('',subset=['review_body'])\n",
    "\n",
    "df = df.withColumn('review_length', length('review_body'))\n",
    "df = df.withColumn('review_headline_length', length('review_headline'))\n",
    "df = df.withColumn('product_title_length', length('product_title'))\n",
    "\n",
    "df = df.withColumn('exclam',  df['review_length'] - length(regexp_replace('review_body', '\\!', '')))\n",
    "df = df.withColumn('positive',  (df['star_rating']>3).cast('integer'))\n",
    "df = df.withColumn('age', datediff(current_date(), to_date(df['review_date'])))\n",
    "df = df.withColumn('helfulness', coalesce(df['helpful_votes'] / df['total_votes'],lit(0.0)))\n",
    "df = df.withColumn('label', expr(\"CAST(verified_purchase='Y' As INT)\"))\n",
    "df = df.withColumn('vine', expr(\"CAST(vine='Y' As INT)\"))\n",
    "df=fill_na_mean(df,'age')\n",
    "\n",
    "review_all = df.select(FEATURES)\n",
    "review_sample = df.select(FEATURES).limit(SAMPLE_SIZE).cache()\n",
    "\n",
    "review_sample.createOrReplaceTempView(\"samples\")\n",
    "review_all.createOrReplaceTempView(\"all\")\n",
    "df.createOrReplaceTempView(\"df\")"
   ]
  },
  {
   "cell_type": "markdown",
   "source": [
    "# EDA the data\n",
    "## Count nulls in each column"
   ],
   "metadata": {
    "collapsed": false
   }
  },
  {
   "cell_type": "code",
   "execution_count": 8,
   "metadata": {},
   "outputs": [
    {
     "name": "stdout",
     "output_type": "stream",
     "text": [
      "+-----------+-----------+---------+----------+--------------+-------------+----------------+-----------+-------------+-----------+----+-----------------+---------------+-----------+-----------+-------------+----------------------+--------------------+------+--------+---+----------+-----+\n",
      "|marketplace|customer_id|review_id|product_id|product_parent|product_title|product_category|star_rating|helpful_votes|total_votes|vine|verified_purchase|review_headline|review_body|review_date|review_length|review_headline_length|product_title_length|exclam|positive|age|helfulness|label|\n",
      "+-----------+-----------+---------+----------+--------------+-------------+----------------+-----------+-------------+-----------+----+-----------------+---------------+-----------+-----------+-------------+----------------------+--------------------+------+--------+---+----------+-----+\n",
      "|          0|          0|        0|         0|             0|            0|               0|          0|            0|          0|   0|                0|              0|          0|         56|            0|                     0|                   0|     0|       0|  0|         0|    0|\n",
      "+-----------+-----------+---------+----------+--------------+-------------+----------------+-----------+-------------+-----------+----+-----------------+---------------+-----------+-----------+-------------+----------------------+--------------------+------+--------+---+----------+-----+\n",
      "\n"
     ]
    }
   ],
   "source": [
    "get_null_counts(df)"
   ]
  },
  {
   "cell_type": "markdown",
   "source": [
    "## list each review with its number of previous reviews, current average rating, and age of the review"
   ],
   "metadata": {
    "collapsed": false
   }
  },
  {
   "cell_type": "code",
   "execution_count": 2,
   "metadata": {
    "pycharm": {
     "is_executing": false
    }
   },
   "outputs": [
    {
     "traceback": [
      "\u001b[0;31m---------------------------------------------------------------------------\u001b[0m",
      "\u001b[0;31mNameError\u001b[0m                                 Traceback (most recent call last)",
      "\u001b[0;32m<ipython-input-2-ed6197715dfb>\u001b[0m in \u001b[0;36m<module>\u001b[0;34m\u001b[0m\n\u001b[0;32m----> 1\u001b[0;31m \u001b[0mspark\u001b[0m\u001b[0;34m.\u001b[0m\u001b[0msql\u001b[0m\u001b[0;34m(\u001b[0m\u001b[0;34m'''select review_id, product_id, age, star_rating, sum(1) over (partition by product_id order by age) as accum_review_count from df'''\u001b[0m\u001b[0;34m)\u001b[0m\u001b[0;34m.\u001b[0m\u001b[0mshow\u001b[0m\u001b[0;34m(\u001b[0m\u001b[0;34m)\u001b[0m\u001b[0;34m\u001b[0m\u001b[0;34m\u001b[0m\u001b[0m\n\u001b[0m\u001b[1;32m      2\u001b[0m \u001b[0;34m\u001b[0m\u001b[0m\n",
      "\u001b[0;31mNameError\u001b[0m: name 'spark' is not defined"
     ],
     "ename": "NameError",
     "evalue": "name 'spark' is not defined",
     "output_type": "error"
    }
   ],
   "source": [
    "spark.sql('''select review_id, product_id, age, star_rating, sum(1) over (partition by product_id order by age) as accum_review_count from df''').show()"
   ]
  },
  {
   "cell_type": "code",
   "execution_count": 6,
   "metadata": {},
   "outputs": [
    {
     "name": "stdout",
     "output_type": "stream",
     "text": [
      "+--------------+----------+----+-----------+------------------+\n",
      "|     review_id|product_id| age|star_rating|      accum_rating|\n",
      "+--------------+----------+----+-----------+------------------+\n",
      "|R1O6Z1DDT2P1XI|B00000J47G|1809|          5|               5.0|\n",
      "|R1JG9M7Z29JZ8A|B00000J47G|1815|          5|               5.0|\n",
      "|R1JJGHPWABDFXV|B00000J47G|4786|          5|               5.0|\n",
      "|R2RMYNWCP79YVQ|B00000J47G|4788|          1|               4.0|\n",
      "|R2TBZTLKU11VZU|B00000J47G|5077|          5|               4.2|\n",
      "|R14B3XKWH0WQDL|B00000J47G|5799|          3|               4.0|\n",
      "| R9EVQ9YXO8N5V|B00000J47G|5815|          1|3.5714285714285716|\n",
      "| RJTDPXIPVVQIA|B00000J47G|5918|          1|              3.25|\n",
      "|R1K9NN4IK0S7NT|B00000J47G|6130|          4|3.3333333333333335|\n",
      "| R36SG72DYDIQL|B00000J47G|6414|          4|               3.4|\n",
      "| R5OS4MY8RBGZG|B00000J47G|6415|          5|3.6666666666666665|\n",
      "|R3LVY8TXNJ733Q|B00000J47G|6415|          5|3.6666666666666665|\n",
      "|R215WFCN9MNL6G|B00000J47G|6433|          2|3.5384615384615383|\n",
      "|R26PAZIJEFDJAS|B00000J47G|6578|          3|               3.5|\n",
      "|R3UHF6V7HMS8QM|B00000J47G|6579|          2|               3.4|\n",
      "| R6UC449NEDBFN|B00000J47G|6742|          3|             3.375|\n",
      "| R9VKU1MN33B1U|B00004SC3R|5788|          2|               2.0|\n",
      "|R2RX0CVDMD3Z3E|B00004SC3R|6018|          5|               3.5|\n",
      "| RO4OKM6P8AJIK|B00004SC3R|6320|          5|               4.0|\n",
      "| R5TZ3KI9HBOAZ|B00004SC3R|6659|          5|              4.25|\n",
      "+--------------+----------+----+-----------+------------------+\n",
      "only showing top 20 rows\n",
      "\n"
     ]
    }
   ],
   "source": [
    "spark.sql('''select review_id, product_id, age, star_rating, avg(star_rating) over (partition by product_id order by age) as accum_rating from df''').show()"
   ]
  },
  {
   "cell_type": "markdown",
   "source": [
    "## show distribution of 'verified_purchase','helpful_votes','total_votes','vine' columns in star_rating"
   ],
   "metadata": {
    "collapsed": false
   }
  },
  {
   "cell_type": "code",
   "execution_count": 3,
   "metadata": {
    "pycharm": {
     "is_executing": false
    }
   },
   "outputs": [
    {
     "traceback": [
      "\u001b[0;31m---------------------------------------------------------------------------\u001b[0m",
      "\u001b[0;31mNameError\u001b[0m                                 Traceback (most recent call last)",
      "\u001b[0;32m<ipython-input-3-a8b0d6582be2>\u001b[0m in \u001b[0;36m<module>\u001b[0;34m\u001b[0m\n\u001b[1;32m      1\u001b[0m \u001b[0;32mfor\u001b[0m \u001b[0mcolumn\u001b[0m \u001b[0;32min\u001b[0m \u001b[0;34m[\u001b[0m\u001b[0;34m'verified_purchase'\u001b[0m\u001b[0;34m,\u001b[0m\u001b[0;34m'helpful_votes'\u001b[0m\u001b[0;34m,\u001b[0m\u001b[0;34m'total_votes'\u001b[0m\u001b[0;34m,\u001b[0m\u001b[0;34m'vine'\u001b[0m\u001b[0;34m]\u001b[0m\u001b[0;34m:\u001b[0m\u001b[0;34m\u001b[0m\u001b[0;34m\u001b[0m\u001b[0m\n\u001b[0;32m----> 2\u001b[0;31m     \u001b[0mget_distribution_col\u001b[0m\u001b[0;34m(\u001b[0m\u001b[0;34m'star_rating'\u001b[0m\u001b[0;34m,\u001b[0m \u001b[0mcolumn\u001b[0m\u001b[0;34m)\u001b[0m\u001b[0;34m\u001b[0m\u001b[0;34m\u001b[0m\u001b[0m\n\u001b[0m\u001b[1;32m      3\u001b[0m \u001b[0;34m\u001b[0m\u001b[0m\n",
      "\u001b[0;31mNameError\u001b[0m: name 'get_distribution_col' is not defined"
     ],
     "ename": "NameError",
     "evalue": "name 'get_distribution_col' is not defined",
     "output_type": "error"
    }
   ],
   "source": [
    "for column in ['verified_purchase','helpful_votes','total_votes','vine']:\n",
    "    get_distribution_col('star_rating', column)"
   ]
  },
  {
   "cell_type": "markdown",
   "source": [
    "## show distribution of 'verified_purchase','helpful_votes','total_votes','vine' columns in star_rating"
   ],
   "metadata": {
    "collapsed": false
   }
  },
  {
   "cell_type": "code",
   "execution_count": 22,
   "metadata": {},
   "outputs": [
    {
     "ename": "TypeError",
     "evalue": "get_correlation_target_col_length() got multiple values for argument 'target'",
     "output_type": "error",
     "traceback": [
      "\u001b[0;31m---------------------------------------------------------------------------\u001b[0m",
      "\u001b[0;31mTypeError\u001b[0m                                 Traceback (most recent call last)",
      "\u001b[0;32m<ipython-input-22-10a177aeebfa>\u001b[0m in \u001b[0;36m<module>\u001b[0;34m\u001b[0m\n\u001b[1;32m      1\u001b[0m \u001b[0;32mfor\u001b[0m \u001b[0mtarget\u001b[0m \u001b[0;32min\u001b[0m \u001b[0;34m[\u001b[0m\u001b[0;34m'star_rating'\u001b[0m\u001b[0;34m,\u001b[0m\u001b[0;34m'verified_purchase'\u001b[0m\u001b[0;34m]\u001b[0m\u001b[0;34m:\u001b[0m\u001b[0;34m\u001b[0m\u001b[0;34m\u001b[0m\u001b[0m\n\u001b[1;32m      2\u001b[0m     \u001b[0;32mfor\u001b[0m \u001b[0mcol\u001b[0m \u001b[0;32min\u001b[0m \u001b[0;34m[\u001b[0m\u001b[0;34m'review_body'\u001b[0m\u001b[0;34m,\u001b[0m\u001b[0;34m'review_headline'\u001b[0m\u001b[0;34m,\u001b[0m\u001b[0;34m'product_title'\u001b[0m\u001b[0;34m]\u001b[0m\u001b[0;34m:\u001b[0m\u001b[0;34m\u001b[0m\u001b[0;34m\u001b[0m\u001b[0m\n\u001b[0;32m----> 3\u001b[0;31m         \u001b[0mget_correlation_target_col_length\u001b[0m\u001b[0;34m(\u001b[0m\u001b[0mspark\u001b[0m\u001b[0;34m,\u001b[0m \u001b[0mtarget\u001b[0m\u001b[0;34m=\u001b[0m\u001b[0mtarget\u001b[0m\u001b[0;34m,\u001b[0m\u001b[0mcol\u001b[0m\u001b[0;34m=\u001b[0m\u001b[0mcol\u001b[0m\u001b[0;34m,\u001b[0m \u001b[0mtable\u001b[0m\u001b[0;34m=\u001b[0m\u001b[0;34m'df'\u001b[0m\u001b[0;34m)\u001b[0m\u001b[0;34m\u001b[0m\u001b[0;34m\u001b[0m\u001b[0m\n\u001b[0m",
      "\u001b[0;31mTypeError\u001b[0m: get_correlation_target_col_length() got multiple values for argument 'target'"
     ]
    }
   ],
   "source": [
    "for target in ['star_rating','verified_purchase']:\n",
    "    for col in ['review_body','review_headline','product_title']:\n",
    "        get_correlation_target_col_length(spark, target=target,col=col, table='df')"
   ]
  },
  {
   "cell_type": "code",
   "execution_count": 31,
   "metadata": {},
   "outputs": [
    {
     "name": "stdout",
     "output_type": "stream",
     "text": [
      "+-----------+------+\n",
      "|customer_id|counts|\n",
      "+-----------+------+\n",
      "|   31588426|   285|\n",
      "|   50820654|   191|\n",
      "|   52764559|   171|\n",
      "|   44777060|   148|\n",
      "|   52340667|   146|\n",
      "+-----------+------+\n",
      "only showing top 5 rows\n",
      "\n"
     ]
    }
   ],
   "source": [
    "spark.sql(\"select customer_id, count(*) as counts from df group by customer_id order by counts desc\").show(5)"
   ]
  },
  {
   "cell_type": "code",
   "execution_count": 30,
   "metadata": {},
   "outputs": [
    {
     "name": "stdout",
     "output_type": "stream",
     "text": [
      "+-----------+-------+\n",
      "|star_rating| counts|\n",
      "+-----------+-------+\n",
      "|          1| 170157|\n",
      "|          3| 141460|\n",
      "|          5|1062706|\n",
      "|          4| 336700|\n",
      "|          2|  90949|\n",
      "+-----------+-------+\n",
      "\n"
     ]
    }
   ],
   "source": [
    "spark.sql(\"select star_rating, count(*) as counts from df group by star_rating\").show(5)"
   ]
  },
  {
   "cell_type": "code",
   "execution_count": 32,
   "metadata": {},
   "outputs": [
    {
     "name": "stdout",
     "output_type": "stream",
     "text": [
      "+----------+------+\n",
      "|product_id|counts|\n",
      "+----------+------+\n",
      "|B006ZP8UOW|  4654|\n",
      "|B00007E7JU|  4399|\n",
      "|B0039BPG1A|  3619|\n",
      "|B002VPE1WK|  3565|\n",
      "|B0050R67U0|  3177|\n",
      "+----------+------+\n",
      "only showing top 5 rows\n",
      "\n"
     ]
    }
   ],
   "source": [
    "spark.sql(\"select product_id, count(*) as counts from df group by product_id order by counts desc\").show(5)"
   ]
  },
  {
   "cell_type": "code",
   "execution_count": 33,
   "metadata": {
    "pycharm": {
     "name": "#%%\n"
    }
   },
   "outputs": [
    {
     "name": "stdout",
     "output_type": "stream",
     "text": [
      "+----------+------+\n",
      "|product_id|counts|\n",
      "+----------+------+\n",
      "|B006ZP8UOW|  4654|\n",
      "|B00007E7JU|  4399|\n",
      "|B0039BPG1A|  3619|\n",
      "|B002VPE1WK|  3565|\n",
      "|B0050R67U0|  3177|\n",
      "+----------+------+\n",
      "only showing top 5 rows\n",
      "\n"
     ]
    }
   ],
   "source": [
    "spark.sql(\"select product_id, count(*) as counts from df group by product_id order by counts desc\").show(5)\n"
   ]
  }
 ],
 "metadata": {
  "kernelspec": {
   "display_name": "Python 3",
   "language": "python",
   "name": "python3"
  },
  "language_info": {
   "codemirror_mode": {
    "name": "ipython",
    "version": 3
   },
   "file_extension": ".py",
   "mimetype": "text/x-python",
   "name": "python",
   "nbconvert_exporter": "python",
   "pygments_lexer": "ipython3",
   "version": "3.7.3"
  },
  "pycharm": {
   "stem_cell": {
    "cell_type": "raw",
    "source": [],
    "metadata": {
     "collapsed": false
    }
   }
  }
 },
 "nbformat": 4,
 "nbformat_minor": 4
}